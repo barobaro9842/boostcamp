{
 "cells": [
  {
   "cell_type": "markdown",
   "id": "d84af7e3-630a-43b7-8afb-43ac2280c7dd",
   "metadata": {},
   "source": [
    "# Pytorch Operations"
   ]
  },
  {
   "cell_type": "markdown",
   "id": "467296c5-d063-458b-b82f-b93671325d71",
   "metadata": {},
   "source": [
    "## Tensor"
   ]
  },
  {
   "cell_type": "markdown",
   "id": "d675e919-9d32-4601-91aa-54b8e6850f0b",
   "metadata": {},
   "source": [
    "- 다차원 Array를 표현하는 pytorch 클래스\n",
    "- 사실상 numpy의 ndarray와 동일\n",
    "- tensor를 생성하는 함수도 거의 동일"
   ]
  },
  {
   "cell_type": "code",
   "execution_count": 1,
   "id": "83f42e3d-bb06-45d0-9695-33159b7bf676",
   "metadata": {},
   "outputs": [
    {
     "name": "stdout",
     "output_type": "stream",
     "text": [
      "[[0 1 2 3 4]\n",
      " [5 6 7 8 9]]\n",
      "ndim : 2 shape : (2, 5)\n"
     ]
    }
   ],
   "source": [
    "# numpy\n",
    "import numpy as np\n",
    "n_array = np.arange(10).reshape(2,5)\n",
    "print(n_array)\n",
    "print(\"ndim :\", n_array.ndim, \"shape :\", n_array.shape)"
   ]
  },
  {
   "cell_type": "code",
   "execution_count": 5,
   "id": "9125c84c-81b3-47b1-8a07-16c211dce3e9",
   "metadata": {},
   "outputs": [
    {
     "name": "stdout",
     "output_type": "stream",
     "text": [
      "tensor([[0., 1., 2., 3., 4.],\n",
      "        [5., 6., 7., 8., 9.]])\n",
      "ndim : 2 shape : torch.Size([2, 5])\n"
     ]
    }
   ],
   "source": [
    "import torch\n",
    "t_array = torch.FloatTensor(n_array)\n",
    "print(t_array)\n",
    "print(\"ndim :\", t_array.ndim, \"shape :\", t_array.shape)"
   ]
  },
  {
   "cell_type": "code",
   "execution_count": 7,
   "id": "868f7f3b-53d6-4879-97c9-513a1f0c223b",
   "metadata": {},
   "outputs": [
    {
     "data": {
      "text/plain": [
       "tensor([[ 3,  5],\n",
       "        [10,  5]])"
      ]
     },
     "execution_count": 7,
     "metadata": {},
     "output_type": "execute_result"
    }
   ],
   "source": [
    "# array to tensor\n",
    "\n",
    "data = [[3,5],[10,5]]\n",
    "x_data = torch.tensor(data)\n",
    "x_data"
   ]
  },
  {
   "cell_type": "code",
   "execution_count": 8,
   "id": "0932e0b8-1926-434b-9fc0-df1903d301a9",
   "metadata": {},
   "outputs": [
    {
     "data": {
      "text/plain": [
       "tensor([[ 3,  5],\n",
       "        [10,  5]])"
      ]
     },
     "execution_count": 8,
     "metadata": {},
     "output_type": "execute_result"
    }
   ],
   "source": [
    "# ndarray to tensor\n",
    "nd_array_ex = np.array(data)\n",
    "tensor_array = torch.from_numpy(nd_array_ex)\n",
    "tensor_array"
   ]
  },
  {
   "cell_type": "markdown",
   "id": "de672f28-f897-4dd9-a191-8b5506ecce51",
   "metadata": {},
   "source": [
    "실제로는 직접 텐서를 생성해서 사용하는 경우는 별로 없다."
   ]
  },
  {
   "cell_type": "markdown",
   "id": "5576bcb9-c5cd-41cc-b535-d5c740fd3768",
   "metadata": {},
   "source": [
    "기본적으로 tensor가 가질 수 있는 data타입은 numpy와 동일"
   ]
  },
  {
   "cell_type": "code",
   "execution_count": 15,
   "id": "2b272b4f-3781-4400-bf70-0bbe4698342a",
   "metadata": {},
   "outputs": [
    {
     "name": "stdout",
     "output_type": "stream",
     "text": [
      "tensor([[10,  5, 50],\n",
      "        [ 1,  5, 10]])\n",
      "tensor([[ 5, 20],\n",
      "        [ 5, 50]])\n",
      "tensor([ 3,  5, 20, 10,  5, 50,  1,  5, 10])\n",
      "tensor([[1, 1, 1],\n",
      "        [1, 1, 1],\n",
      "        [1, 1, 1]])\n",
      "[[ 3  5 20]\n",
      " [10  5 50]\n",
      " [ 1  5 10]]\n",
      "torch.Size([3, 3])\n",
      "torch.int64\n"
     ]
    }
   ],
   "source": [
    "data = [[3,5,20],[10,5,50],[1,5,10]]\n",
    "x_data = torch.tensor(data)\n",
    "print(x_data[1:])\n",
    "print(x_data[:2,1:])\n",
    "print(x_data.flatten())\n",
    "print(torch.ones_like(x_data))\n",
    "print(x_data.numpy())\n",
    "print(x_data.shape)\n",
    "print(x_data.dtype)"
   ]
  },
  {
   "cell_type": "code",
   "execution_count": 18,
   "id": "6dcbe43a-cdd2-4671-8f8e-8d9161356a5a",
   "metadata": {},
   "outputs": [
    {
     "data": {
      "text/plain": [
       "device(type='cpu')"
      ]
     },
     "execution_count": 18,
     "metadata": {},
     "output_type": "execute_result"
    }
   ],
   "source": [
    "x_data.device #데이터가 cpu에 올라있는지, gpu에 올라있는지"
   ]
  },
  {
   "cell_type": "markdown",
   "id": "be158862-5cf1-49c4-a9e2-64b8556ef179",
   "metadata": {},
   "source": [
    "### view - reshape"
   ]
  },
  {
   "cell_type": "code",
   "execution_count": 38,
   "id": "54b0ed10-f389-497f-a9fe-a38d9ac7ff2e",
   "metadata": {},
   "outputs": [
    {
     "data": {
      "text/plain": [
       "tensor([[[0.2265, 0.2143],\n",
       "         [0.0105, 0.9151],\n",
       "         [0.8252, 0.4267]],\n",
       "\n",
       "        [[0.8114, 0.3935],\n",
       "         [0.7828, 0.1282],\n",
       "         [0.0701, 0.3265]]])"
      ]
     },
     "execution_count": 38,
     "metadata": {},
     "output_type": "execute_result"
    }
   ],
   "source": [
    "tensor_ex = torch.rand(size=(2,3,2))\n",
    "tensor_ex"
   ]
  },
  {
   "cell_type": "code",
   "execution_count": 39,
   "id": "8eaeb0ef-f2af-46fa-b440-cd5ecab873b1",
   "metadata": {},
   "outputs": [
    {
     "data": {
      "text/plain": [
       "tensor([[0.2265, 0.2143, 0.0105, 0.9151, 0.8252, 0.4267],\n",
       "        [0.8114, 0.3935, 0.7828, 0.1282, 0.0701, 0.3265]])"
      ]
     },
     "execution_count": 39,
     "metadata": {},
     "output_type": "execute_result"
    }
   ],
   "source": [
    "tensor_ex.view(-1,6)"
   ]
  },
  {
   "cell_type": "code",
   "execution_count": 40,
   "id": "55a25d5e-7eb6-41e8-be30-f1fecccf6a99",
   "metadata": {},
   "outputs": [
    {
     "data": {
      "text/plain": [
       "tensor([[0.2265, 0.2143, 0.0105, 0.9151, 0.8252, 0.4267],\n",
       "        [0.8114, 0.3935, 0.7828, 0.1282, 0.0701, 0.3265]])"
      ]
     },
     "execution_count": 40,
     "metadata": {},
     "output_type": "execute_result"
    }
   ],
   "source": [
    "tensor_ex.reshape(-1,6)"
   ]
  },
  {
   "cell_type": "code",
   "execution_count": 41,
   "id": "82ab428c-c99c-4746-b178-46df58d0eb16",
   "metadata": {},
   "outputs": [
    {
     "data": {
      "text/plain": [
       "tensor([[1., 1.],\n",
       "        [1., 1.],\n",
       "        [1., 1.]])"
      ]
     },
     "execution_count": 41,
     "metadata": {},
     "output_type": "execute_result"
    }
   ],
   "source": [
    "a = torch.zeros(3,2)\n",
    "b = a.view(2,3)\n",
    "a.fill_(1)"
   ]
  },
  {
   "cell_type": "code",
   "execution_count": 42,
   "id": "c413185e-939e-4c3f-8fb1-e728e7e10f7f",
   "metadata": {},
   "outputs": [
    {
     "data": {
      "text/plain": [
       "tensor([[1., 1.],\n",
       "        [1., 1.],\n",
       "        [1., 1.]])"
      ]
     },
     "execution_count": 42,
     "metadata": {},
     "output_type": "execute_result"
    }
   ],
   "source": [
    "a"
   ]
  },
  {
   "cell_type": "code",
   "execution_count": 43,
   "id": "46b0eaeb-1d0f-48e6-8285-6c784773e836",
   "metadata": {},
   "outputs": [
    {
     "data": {
      "text/plain": [
       "tensor([[1., 1., 1.],\n",
       "        [1., 1., 1.]])"
      ]
     },
     "execution_count": 43,
     "metadata": {},
     "output_type": "execute_result"
    }
   ],
   "source": [
    "b"
   ]
  },
  {
   "cell_type": "markdown",
   "id": "2fa6646b-b762-4f58-a57a-09f7880b1468",
   "metadata": {},
   "source": [
    "view : 기존의 메모리 주소를 참조하여 모양만 변경"
   ]
  },
  {
   "cell_type": "code",
   "execution_count": 44,
   "id": "c53533db-eece-4378-865d-7029990843a5",
   "metadata": {},
   "outputs": [
    {
     "data": {
      "text/plain": [
       "tensor([[1., 1.],\n",
       "        [1., 1.],\n",
       "        [1., 1.]])"
      ]
     },
     "execution_count": 44,
     "metadata": {},
     "output_type": "execute_result"
    }
   ],
   "source": [
    "a = torch.zeros(3,2)\n",
    "b = a.t().reshape(6)\n",
    "a.fill_(1)"
   ]
  },
  {
   "cell_type": "code",
   "execution_count": 45,
   "id": "7a5d4f8d-c0a0-4224-9e1d-e7eccd14ff91",
   "metadata": {},
   "outputs": [
    {
     "data": {
      "text/plain": [
       "tensor([[1., 1.],\n",
       "        [1., 1.],\n",
       "        [1., 1.]])"
      ]
     },
     "execution_count": 45,
     "metadata": {},
     "output_type": "execute_result"
    }
   ],
   "source": [
    "a"
   ]
  },
  {
   "cell_type": "code",
   "execution_count": 46,
   "id": "5a547389-a7de-4317-a846-93bd48278ffd",
   "metadata": {},
   "outputs": [
    {
     "data": {
      "text/plain": [
       "tensor([0., 0., 0., 0., 0., 0.])"
      ]
     },
     "execution_count": 46,
     "metadata": {},
     "output_type": "execute_result"
    }
   ],
   "source": [
    "b"
   ]
  },
  {
   "cell_type": "markdown",
   "id": "95644ee2-eb23-4038-aaeb-a2d231ad347a",
   "metadata": {},
   "source": [
    "### squeeze, unsqueeze"
   ]
  },
  {
   "cell_type": "markdown",
   "id": "8bd61c55-6ea5-4611-856d-a2514cf58c8f",
   "metadata": {},
   "source": [
    "- squeeze : 차원감소\n",
    "- unsqueeze : 차원증가"
   ]
  },
  {
   "cell_type": "code",
   "execution_count": 62,
   "id": "42251e78-6c93-4902-b582-79127da907df",
   "metadata": {},
   "outputs": [
    {
     "name": "stdout",
     "output_type": "stream",
     "text": [
      "tensor([[[0.7173, 0.2984]],\n",
      "\n",
      "        [[0.9330, 0.8644]]])\n",
      "tensor([[0.7173, 0.2984],\n",
      "        [0.9330, 0.8644]])\n"
     ]
    }
   ],
   "source": [
    "a = torch.rand(size=(2,1,2))\n",
    "print(a)\n",
    "print(a.squeeze())"
   ]
  },
  {
   "cell_type": "code",
   "execution_count": 63,
   "id": "6f92f309-a271-4a09-b12c-e79069e77190",
   "metadata": {},
   "outputs": [
    {
     "name": "stdout",
     "output_type": "stream",
     "text": [
      "tensor([[[0.7027, 0.1725],\n",
      "         [0.3307, 0.9557]]])\n",
      "torch.Size([1, 2, 2])\n"
     ]
    }
   ],
   "source": [
    "a = torch.rand(size=(2,2))\n",
    "print(a.unsqueeze(0))\n",
    "print(a.unsqueeze(0).shape)"
   ]
  },
  {
   "cell_type": "code",
   "execution_count": 64,
   "id": "8578d8e5-5a05-4c8d-aadf-ca35209ea7ba",
   "metadata": {},
   "outputs": [
    {
     "name": "stdout",
     "output_type": "stream",
     "text": [
      "tensor([[[0.7027, 0.1725]],\n",
      "\n",
      "        [[0.3307, 0.9557]]])\n",
      "torch.Size([2, 1, 2])\n"
     ]
    }
   ],
   "source": [
    "print(a.unsqueeze(1))\n",
    "print(a.unsqueeze(1).shape)"
   ]
  },
  {
   "cell_type": "code",
   "execution_count": 65,
   "id": "8f5e8b52-d1fe-4970-afa5-0f3237ace79e",
   "metadata": {},
   "outputs": [
    {
     "name": "stdout",
     "output_type": "stream",
     "text": [
      "tensor([[[0.7027],\n",
      "         [0.1725]],\n",
      "\n",
      "        [[0.3307],\n",
      "         [0.9557]]])\n",
      "torch.Size([2, 2, 1])\n"
     ]
    }
   ],
   "source": [
    "print(a.unsqueeze(2))\n",
    "print(a.unsqueeze(2).shape)"
   ]
  },
  {
   "cell_type": "markdown",
   "id": "df6bed2c-106c-4f31-ba93-fab85117f490",
   "metadata": {},
   "source": [
    "### dot - mm"
   ]
  },
  {
   "cell_type": "markdown",
   "id": "88bccc27-7688-437a-b9da-024ad1328401",
   "metadata": {},
   "source": [
    "- dot : 벡터 - 벡터 연산\n",
    "- mm : 행렬 - 행렬 연산\n",
    "- matmul : 행렬 연산(+ 자동 브로드캐스팅)"
   ]
  },
  {
   "cell_type": "code",
   "execution_count": 77,
   "id": "4acf0f46-3988-44ca-a2ba-6e6773caf27b",
   "metadata": {},
   "outputs": [
    {
     "ename": "RuntimeError",
     "evalue": "self must be a matrix",
     "output_type": "error",
     "traceback": [
      "\u001b[0;31m---------------------------------------------------------------------------\u001b[0m",
      "\u001b[0;31mRuntimeError\u001b[0m                              Traceback (most recent call last)",
      "\u001b[0;32m/var/folders/3k/05vd5sp53wbgspztyxv0ksfm0000gn/T/ipykernel_1299/2582030039.py\u001b[0m in \u001b[0;36m<module>\u001b[0;34m\u001b[0m\n\u001b[1;32m      1\u001b[0m \u001b[0ma\u001b[0m \u001b[0;34m=\u001b[0m \u001b[0mtorch\u001b[0m\u001b[0;34m.\u001b[0m\u001b[0mrand\u001b[0m\u001b[0;34m(\u001b[0m\u001b[0;36m5\u001b[0m\u001b[0;34m,\u001b[0m\u001b[0;36m2\u001b[0m\u001b[0;34m,\u001b[0m\u001b[0;36m3\u001b[0m\u001b[0;34m)\u001b[0m\u001b[0;34m\u001b[0m\u001b[0;34m\u001b[0m\u001b[0m\n\u001b[1;32m      2\u001b[0m \u001b[0mb\u001b[0m \u001b[0;34m=\u001b[0m \u001b[0mtorch\u001b[0m\u001b[0;34m.\u001b[0m\u001b[0mrand\u001b[0m\u001b[0;34m(\u001b[0m\u001b[0;36m3\u001b[0m\u001b[0;34m)\u001b[0m\u001b[0;34m\u001b[0m\u001b[0;34m\u001b[0m\u001b[0m\n\u001b[0;32m----> 3\u001b[0;31m \u001b[0ma\u001b[0m\u001b[0;34m.\u001b[0m\u001b[0mmm\u001b[0m\u001b[0;34m(\u001b[0m\u001b[0mb\u001b[0m\u001b[0;34m)\u001b[0m\u001b[0;34m\u001b[0m\u001b[0;34m\u001b[0m\u001b[0m\n\u001b[0m",
      "\u001b[0;31mRuntimeError\u001b[0m: self must be a matrix"
     ]
    }
   ],
   "source": [
    "a = torch.rand(5,2,3)\n",
    "b = torch.rand(3)\n",
    "a.mm(b)"
   ]
  },
  {
   "cell_type": "code",
   "execution_count": 78,
   "id": "8a567b45-29da-4d11-abcd-6a56d4430d1c",
   "metadata": {},
   "outputs": [
    {
     "data": {
      "text/plain": [
       "tensor([[0.0497, 0.4199],\n",
       "        [0.0628, 0.1075],\n",
       "        [0.1339, 0.0783],\n",
       "        [0.2211, 0.4202],\n",
       "        [0.0274, 0.0532]])"
      ]
     },
     "execution_count": 78,
     "metadata": {},
     "output_type": "execute_result"
    }
   ],
   "source": [
    "a = torch.rand(5,2,3) # 5 = batch\n",
    "b = torch.rand(3)\n",
    "a.matmul(b)"
   ]
  },
  {
   "cell_type": "code",
   "execution_count": 80,
   "id": "73ac5384-459a-421f-b1a3-bdf31dc00d34",
   "metadata": {},
   "outputs": [
    {
     "name": "stdout",
     "output_type": "stream",
     "text": [
      "tensor([[0.0497],\n",
      "        [0.4199]])\n",
      "tensor([[0.0628],\n",
      "        [0.1075]])\n",
      "tensor([[0.1339],\n",
      "        [0.0783]])\n",
      "tensor([[0.2211],\n",
      "        [0.4202]])\n",
      "tensor([[0.0274],\n",
      "        [0.0532]])\n"
     ]
    }
   ],
   "source": [
    "print(a[0].mm(torch.unsqueeze(b,1)))\n",
    "print(a[1].mm(torch.unsqueeze(b,1)))\n",
    "print(a[2].mm(torch.unsqueeze(b,1)))\n",
    "print(a[3].mm(torch.unsqueeze(b,1)))\n",
    "print(a[4].mm(torch.unsqueeze(b,1)))"
   ]
  },
  {
   "cell_type": "markdown",
   "id": "ba0e4c2c-ce91-413d-878c-fcd80fb2370c",
   "metadata": {},
   "source": [
    "## mldl formula"
   ]
  },
  {
   "cell_type": "markdown",
   "id": "3e7f130b-e828-43dc-a0f1-0f8894b5cab1",
   "metadata": {},
   "source": [
    "### nn.functional"
   ]
  },
  {
   "cell_type": "code",
   "execution_count": 83,
   "id": "4110ea13-aa32-4f62-811d-69bd35ca675f",
   "metadata": {},
   "outputs": [
    {
     "data": {
      "text/plain": [
       "tensor([0.3458, 0.4224, 0.2318])"
      ]
     },
     "execution_count": 83,
     "metadata": {},
     "output_type": "execute_result"
    }
   ],
   "source": [
    "import torch\n",
    "import torch.nn.functional as F\n",
    "\n",
    "tensor = torch.FloatTensor([0.5, 0.7, 0.1])\n",
    "h_tensor = F.softmax(tensor, dim=0)\n",
    "h_tensor"
   ]
  },
  {
   "cell_type": "code",
   "execution_count": 85,
   "id": "5c8a941f-aab0-4802-9e75-e6cd84b2835e",
   "metadata": {},
   "outputs": [
    {
     "data": {
      "text/plain": [
       "tensor([0, 3, 0, 3, 3, 0, 0, 4, 0, 4])"
      ]
     },
     "execution_count": 85,
     "metadata": {},
     "output_type": "execute_result"
    }
   ],
   "source": [
    "y = torch.randint(5,(10,5))\n",
    "y_label = y.argmax(dim=1)\n",
    "y_label"
   ]
  },
  {
   "cell_type": "code",
   "execution_count": 86,
   "id": "f2b55187-23bf-4269-9166-914aecd5654b",
   "metadata": {},
   "outputs": [
    {
     "data": {
      "text/plain": [
       "tensor([[1, 0, 0, 0, 0],\n",
       "        [0, 0, 0, 1, 0],\n",
       "        [1, 0, 0, 0, 0],\n",
       "        [0, 0, 0, 1, 0],\n",
       "        [0, 0, 0, 1, 0],\n",
       "        [1, 0, 0, 0, 0],\n",
       "        [1, 0, 0, 0, 0],\n",
       "        [0, 0, 0, 0, 1],\n",
       "        [1, 0, 0, 0, 0],\n",
       "        [0, 0, 0, 0, 1]])"
      ]
     },
     "execution_count": 86,
     "metadata": {},
     "output_type": "execute_result"
    }
   ],
   "source": [
    "torch.nn.functional.one_hot(y_label)"
   ]
  },
  {
   "cell_type": "markdown",
   "id": "f8293b58-9bad-4a4e-b0bc-f4082f47220d",
   "metadata": {
    "tags": []
   },
   "source": [
    "### AutoGrad"
   ]
  },
  {
   "cell_type": "markdown",
   "id": "661e9d76-90b4-41d5-a822-6ff751eecc1d",
   "metadata": {},
   "source": [
    "pytorch의 핵심은 자동미분 지원 "
   ]
  },
  {
   "cell_type": "code",
   "execution_count": 82,
   "id": "fd37f26b-1e4e-4d10-a6dc-65846e279728",
   "metadata": {},
   "outputs": [
    {
     "data": {
      "text/plain": [
       "tensor(40.)"
      ]
     },
     "execution_count": 82,
     "metadata": {},
     "output_type": "execute_result"
    }
   ],
   "source": [
    "w = torch.tensor(2.0, requires_grad = True)\n",
    "y = w**2\n",
    "z = 10*y + 25\n",
    "z.backward()\n",
    "w.grad"
   ]
  },
  {
   "cell_type": "code",
   "execution_count": 89,
   "id": "b535ce70-4669-4f6a-a1bf-723424caab6a",
   "metadata": {},
   "outputs": [],
   "source": [
    "#편미분 \n",
    "a = torch.tensor([2.,3.],requires_grad=True)\n",
    "b = torch.tensor([6.,4.],requires_grad=True)\n",
    "Q = 3*a**3 - b**2\n",
    "external_grad = torch.tensor([1,1])\n",
    "Q.backward(gradient=external_grad)"
   ]
  },
  {
   "cell_type": "code",
   "execution_count": 90,
   "id": "a68a9a71-ce26-4dec-b9ca-1ff087d8b200",
   "metadata": {},
   "outputs": [
    {
     "data": {
      "text/plain": [
       "tensor([36., 81.])"
      ]
     },
     "execution_count": 90,
     "metadata": {},
     "output_type": "execute_result"
    }
   ],
   "source": [
    "a.grad"
   ]
  },
  {
   "cell_type": "code",
   "execution_count": 91,
   "id": "625bdbbc-a393-4178-bae1-1a5e313bca5c",
   "metadata": {},
   "outputs": [
    {
     "data": {
      "text/plain": [
       "tensor([-12.,  -8.])"
      ]
     },
     "execution_count": 91,
     "metadata": {},
     "output_type": "execute_result"
    }
   ],
   "source": [
    "b.grad"
   ]
  },
  {
   "cell_type": "code",
   "execution_count": null,
   "id": "6773802d-bd3f-43eb-b05d-326f8d8c581a",
   "metadata": {},
   "outputs": [],
   "source": []
  }
 ],
 "metadata": {
  "kernelspec": {
   "display_name": "Python 3 (ipykernel)",
   "language": "python",
   "name": "python3"
  },
  "language_info": {
   "codemirror_mode": {
    "name": "ipython",
    "version": 3
   },
   "file_extension": ".py",
   "mimetype": "text/x-python",
   "name": "python",
   "nbconvert_exporter": "python",
   "pygments_lexer": "ipython3",
   "version": "3.8.12"
  }
 },
 "nbformat": 4,
 "nbformat_minor": 5
}
