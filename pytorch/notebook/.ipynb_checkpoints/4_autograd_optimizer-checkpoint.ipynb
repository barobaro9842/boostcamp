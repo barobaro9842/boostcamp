{
 "cells": [
  {
   "cell_type": "code",
   "execution_count": 3,
   "metadata": {},
   "outputs": [],
   "source": [
    "import torch\n",
    "from torch import nn, Tensor"
   ]
  },
  {
   "cell_type": "code",
   "execution_count": 4,
   "metadata": {
    "id": "oKzbboNuqS2z"
   },
   "outputs": [],
   "source": [
    "class MyLiner(nn.Module) :\n",
    "    def __init__(self, in_features, out_features, bias=True):\n",
    "        super().__init__()\n",
    "        self.in_features = in_features\n",
    "        self.out_features = out_features\n",
    "        self.weights = nn.Parameter(\n",
    "            torch.randn(in_features, out_features))\n",
    "        self.bias = nn.Parameter(torch.randn(out_features))\n",
    "    \n",
    "    def forward(self, x : Tensor):\n",
    "        return x @ self.weights + self.bias"
   ]
  },
  {
   "cell_type": "code",
   "execution_count": 5,
   "metadata": {},
   "outputs": [],
   "source": [
    "layer = MyLiner(7,3)"
   ]
  },
  {
   "cell_type": "code",
   "execution_count": 6,
   "metadata": {},
   "outputs": [
    {
     "data": {
      "text/plain": [
       "Parameter containing:\n",
       "tensor([[-0.9056, -0.5699, -0.0951],\n",
       "        [-0.1108, -1.9941,  0.2022],\n",
       "        [-1.4595,  1.1873, -0.2267],\n",
       "        [ 0.8027,  1.4924, -1.0242],\n",
       "        [ 0.0797, -0.8068, -1.8974],\n",
       "        [ 1.6125, -1.5397,  0.2758],\n",
       "        [ 0.4154,  0.8558, -0.3114]], requires_grad=True)"
      ]
     },
     "execution_count": 6,
     "metadata": {},
     "output_type": "execute_result"
    }
   ],
   "source": [
    "layer.weights"
   ]
  },
  {
   "cell_type": "code",
   "execution_count": 7,
   "metadata": {},
   "outputs": [
    {
     "data": {
      "text/plain": [
       "Parameter containing:\n",
       "tensor([ 2.3109, -0.1622, -0.2703], requires_grad=True)"
      ]
     },
     "execution_count": 7,
     "metadata": {},
     "output_type": "execute_result"
    }
   ],
   "source": [
    "layer.bias"
   ]
  },
  {
   "cell_type": "code",
   "execution_count": 8,
   "metadata": {},
   "outputs": [
    {
     "data": {
      "text/plain": [
       "tensor([[ 0.8175, -0.5758, -0.4124, -0.4009, -0.1120, -0.5844,  2.4322],\n",
       "        [ 0.2738, -0.0497, -1.6710,  0.2401,  1.2313,  1.1764,  1.3371],\n",
       "        [ 2.1809, -0.8721,  0.0601, -2.9728,  0.0771,  1.0653, -1.0619],\n",
       "        [-2.5712, -1.8276, -0.4854,  1.0535,  0.9963,  0.4042,  1.1549],\n",
       "        [ 1.5142, -0.5062,  1.2003,  0.0414,  1.7375, -0.0164, -0.9140]])"
      ]
     },
     "execution_count": 8,
     "metadata": {},
     "output_type": "execute_result"
    }
   ],
   "source": [
    "x = torch.randn(5,7)\n",
    "x"
   ]
  },
  {
   "cell_type": "code",
   "execution_count": 9,
   "metadata": {},
   "outputs": [
    {
     "data": {
      "text/plain": [
       "tensor([[ 1.9737,  2.5037, -0.6665],\n",
       "        [ 7.2505, -3.5053, -2.6016],\n",
       "        [-0.7587, -6.6427,  2.8554],\n",
       "        [ 7.6067,  5.5058, -3.5027],\n",
       "        [-0.9906, -0.6878, -3.8479]], grad_fn=<AddBackward0>)"
      ]
     },
     "execution_count": 9,
     "metadata": {},
     "output_type": "execute_result"
    }
   ],
   "source": [
    "layer(x) # 순전파"
   ]
  },
  {
   "cell_type": "code",
   "execution_count": 10,
   "metadata": {},
   "outputs": [
    {
     "name": "stdout",
     "output_type": "stream",
     "text": [
      "Parameter containing:\n",
      "tensor([[-0.9056, -0.5699, -0.0951],\n",
      "        [-0.1108, -1.9941,  0.2022],\n",
      "        [-1.4595,  1.1873, -0.2267],\n",
      "        [ 0.8027,  1.4924, -1.0242],\n",
      "        [ 0.0797, -0.8068, -1.8974],\n",
      "        [ 1.6125, -1.5397,  0.2758],\n",
      "        [ 0.4154,  0.8558, -0.3114]], requires_grad=True)\n",
      "Parameter containing:\n",
      "tensor([ 2.3109, -0.1622, -0.2703], requires_grad=True)\n"
     ]
    }
   ],
   "source": [
    "for value in layer.parameters():\n",
    "    print(value) # gradient의 대상이 되는 weight & bias "
   ]
  },
  {
   "cell_type": "code",
   "execution_count": 11,
   "metadata": {},
   "outputs": [],
   "source": [
    "from torch.autograd import Variable"
   ]
  },
  {
   "cell_type": "code",
   "execution_count": 12,
   "metadata": {},
   "outputs": [],
   "source": [
    "class LinearRegression(nn.Module) :\n",
    "    def __init__(self, inputSize, outputSize):\n",
    "        super().__init__()\n",
    "        self.linear = torch.nn.Linear(inputSize, outputSize)\n",
    "    \n",
    "    def forward(self, x):\n",
    "        out = self.linear(x)\n",
    "        return out"
   ]
  },
  {
   "cell_type": "code",
   "execution_count": 13,
   "metadata": {},
   "outputs": [],
   "source": [
    "inputDim = 1\n",
    "outputDim = 1\n",
    "learningRate = 0.01\n",
    "epochs = 100"
   ]
  },
  {
   "cell_type": "code",
   "execution_count": 14,
   "metadata": {},
   "outputs": [],
   "source": [
    "import numpy as np\n",
    "\n",
    "x_values = [i for i in range(11)]\n",
    "x_train = np.array(x_values, dtype=np.float32)\n",
    "x_train = x_train.reshape(-1,1)\n",
    "\n",
    "y_values = [2*i + 1 for i in x_values]\n",
    "y_train = np.array(y_values, dtype=np.float32)\n",
    "y_train = y_train.reshape(-1,1)"
   ]
  },
  {
   "cell_type": "code",
   "execution_count": 18,
   "metadata": {},
   "outputs": [
    {
     "data": {
      "text/plain": [
       "array([[ 0.],\n",
       "       [ 1.],\n",
       "       [ 2.],\n",
       "       [ 3.],\n",
       "       [ 4.],\n",
       "       [ 5.],\n",
       "       [ 6.],\n",
       "       [ 7.],\n",
       "       [ 8.],\n",
       "       [ 9.],\n",
       "       [10.]], dtype=float32)"
      ]
     },
     "execution_count": 18,
     "metadata": {},
     "output_type": "execute_result"
    }
   ],
   "source": [
    "x_train"
   ]
  },
  {
   "cell_type": "code",
   "execution_count": 19,
   "metadata": {},
   "outputs": [
    {
     "data": {
      "text/plain": [
       "array([[ 1.],\n",
       "       [ 3.],\n",
       "       [ 5.],\n",
       "       [ 7.],\n",
       "       [ 9.],\n",
       "       [11.],\n",
       "       [13.],\n",
       "       [15.],\n",
       "       [17.],\n",
       "       [19.],\n",
       "       [21.]], dtype=float32)"
      ]
     },
     "execution_count": 19,
     "metadata": {},
     "output_type": "execute_result"
    }
   ],
   "source": [
    "y_train"
   ]
  },
  {
   "cell_type": "code",
   "execution_count": 34,
   "metadata": {},
   "outputs": [],
   "source": [
    "model = LinearRegression(inputDim, outputDim)"
   ]
  },
  {
   "cell_type": "code",
   "execution_count": 35,
   "metadata": {},
   "outputs": [],
   "source": [
    "criterion = torch.nn.MSELoss()\n",
    "optimizer = torch.optim.SGD(model.parameters(), lr=learningRate)"
   ]
  },
  {
   "cell_type": "code",
   "execution_count": 36,
   "metadata": {},
   "outputs": [
    {
     "name": "stdout",
     "output_type": "stream",
     "text": [
      "tensor(62.9164, grad_fn=<MseLossBackward0>)\n",
      "epoch 0, loss 62.916419982910156\n",
      "tensor(5.3003, grad_fn=<MseLossBackward0>)\n",
      "epoch 1, loss 5.300325870513916\n",
      "tensor(0.5989, grad_fn=<MseLossBackward0>)\n",
      "epoch 2, loss 0.5988844633102417\n",
      "tensor(0.2135, grad_fn=<MseLossBackward0>)\n",
      "epoch 3, loss 0.21354256570339203\n",
      "tensor(0.1803, grad_fn=<MseLossBackward0>)\n",
      "epoch 4, loss 0.18027223646640778\n",
      "tensor(0.1757, grad_fn=<MseLossBackward0>)\n",
      "epoch 5, loss 0.17573978006839752\n",
      "tensor(0.1736, grad_fn=<MseLossBackward0>)\n",
      "epoch 6, loss 0.17357181012630463\n",
      "tensor(0.1716, grad_fn=<MseLossBackward0>)\n",
      "epoch 7, loss 0.17161715030670166\n",
      "tensor(0.1697, grad_fn=<MseLossBackward0>)\n",
      "epoch 8, loss 0.16969913244247437\n",
      "tensor(0.1678, grad_fn=<MseLossBackward0>)\n",
      "epoch 9, loss 0.16780416667461395\n",
      "tensor(0.1659, grad_fn=<MseLossBackward0>)\n",
      "epoch 10, loss 0.16593022644519806\n",
      "tensor(0.1641, grad_fn=<MseLossBackward0>)\n",
      "epoch 11, loss 0.1640772968530655\n",
      "tensor(0.1622, grad_fn=<MseLossBackward0>)\n",
      "epoch 12, loss 0.16224515438079834\n",
      "tensor(0.1604, grad_fn=<MseLossBackward0>)\n",
      "epoch 13, loss 0.1604333221912384\n",
      "tensor(0.1586, grad_fn=<MseLossBackward0>)\n",
      "epoch 14, loss 0.1586417853832245\n",
      "tensor(0.1569, grad_fn=<MseLossBackward0>)\n",
      "epoch 15, loss 0.15687046945095062\n",
      "tensor(0.1551, grad_fn=<MseLossBackward0>)\n",
      "epoch 16, loss 0.1551186889410019\n",
      "tensor(0.1534, grad_fn=<MseLossBackward0>)\n",
      "epoch 17, loss 0.1533862054347992\n",
      "tensor(0.1517, grad_fn=<MseLossBackward0>)\n",
      "epoch 18, loss 0.15167354047298431\n",
      "tensor(0.1500, grad_fn=<MseLossBackward0>)\n",
      "epoch 19, loss 0.14997988939285278\n",
      "tensor(0.1483, grad_fn=<MseLossBackward0>)\n",
      "epoch 20, loss 0.1483048051595688\n",
      "tensor(0.1466, grad_fn=<MseLossBackward0>)\n",
      "epoch 21, loss 0.1466488540172577\n",
      "tensor(0.1450, grad_fn=<MseLossBackward0>)\n",
      "epoch 22, loss 0.14501138031482697\n",
      "tensor(0.1434, grad_fn=<MseLossBackward0>)\n",
      "epoch 23, loss 0.14339186251163483\n",
      "tensor(0.1418, grad_fn=<MseLossBackward0>)\n",
      "epoch 24, loss 0.14179077744483948\n",
      "tensor(0.1402, grad_fn=<MseLossBackward0>)\n",
      "epoch 25, loss 0.14020751416683197\n",
      "tensor(0.1386, grad_fn=<MseLossBackward0>)\n",
      "epoch 26, loss 0.13864167034626007\n",
      "tensor(0.1371, grad_fn=<MseLossBackward0>)\n",
      "epoch 27, loss 0.1370934247970581\n",
      "tensor(0.1356, grad_fn=<MseLossBackward0>)\n",
      "epoch 28, loss 0.13556261360645294\n",
      "tensor(0.1340, grad_fn=<MseLossBackward0>)\n",
      "epoch 29, loss 0.1340489238500595\n",
      "tensor(0.1326, grad_fn=<MseLossBackward0>)\n",
      "epoch 30, loss 0.13255181908607483\n",
      "tensor(0.1311, grad_fn=<MseLossBackward0>)\n",
      "epoch 31, loss 0.13107183575630188\n",
      "tensor(0.1296, grad_fn=<MseLossBackward0>)\n",
      "epoch 32, loss 0.1296081840991974\n",
      "tensor(0.1282, grad_fn=<MseLossBackward0>)\n",
      "epoch 33, loss 0.12816089391708374\n",
      "tensor(0.1267, grad_fn=<MseLossBackward0>)\n",
      "epoch 34, loss 0.12672966718673706\n",
      "tensor(0.1253, grad_fn=<MseLossBackward0>)\n",
      "epoch 35, loss 0.1253143548965454\n",
      "tensor(0.1239, grad_fn=<MseLossBackward0>)\n",
      "epoch 36, loss 0.12391498684883118\n",
      "tensor(0.1225, grad_fn=<MseLossBackward0>)\n",
      "epoch 37, loss 0.1225312277674675\n",
      "tensor(0.1212, grad_fn=<MseLossBackward0>)\n",
      "epoch 38, loss 0.12116310000419617\n",
      "tensor(0.1198, grad_fn=<MseLossBackward0>)\n",
      "epoch 39, loss 0.11980994045734406\n",
      "tensor(0.1185, grad_fn=<MseLossBackward0>)\n",
      "epoch 40, loss 0.11847209185361862\n",
      "tensor(0.1171, grad_fn=<MseLossBackward0>)\n",
      "epoch 41, loss 0.11714918166399002\n",
      "tensor(0.1158, grad_fn=<MseLossBackward0>)\n",
      "epoch 42, loss 0.1158410981297493\n",
      "tensor(0.1145, grad_fn=<MseLossBackward0>)\n",
      "epoch 43, loss 0.11454746127128601\n",
      "tensor(0.1133, grad_fn=<MseLossBackward0>)\n",
      "epoch 44, loss 0.11326823383569717\n",
      "tensor(0.1120, grad_fn=<MseLossBackward0>)\n",
      "epoch 45, loss 0.11200334876775742\n",
      "tensor(0.1108, grad_fn=<MseLossBackward0>)\n",
      "epoch 46, loss 0.11075257509946823\n",
      "tensor(0.1095, grad_fn=<MseLossBackward0>)\n",
      "epoch 47, loss 0.10951600223779678\n",
      "tensor(0.1083, grad_fn=<MseLossBackward0>)\n",
      "epoch 48, loss 0.10829296708106995\n",
      "tensor(0.1071, grad_fn=<MseLossBackward0>)\n",
      "epoch 49, loss 0.10708367824554443\n",
      "tensor(0.1059, grad_fn=<MseLossBackward0>)\n",
      "epoch 50, loss 0.10588784515857697\n",
      "tensor(0.1047, grad_fn=<MseLossBackward0>)\n",
      "epoch 51, loss 0.10470550507307053\n",
      "tensor(0.1035, grad_fn=<MseLossBackward0>)\n",
      "epoch 52, loss 0.10353625565767288\n",
      "tensor(0.1024, grad_fn=<MseLossBackward0>)\n",
      "epoch 53, loss 0.10238004475831985\n",
      "tensor(0.1012, grad_fn=<MseLossBackward0>)\n",
      "epoch 54, loss 0.10123682022094727\n",
      "tensor(0.1001, grad_fn=<MseLossBackward0>)\n",
      "epoch 55, loss 0.10010626167058945\n",
      "tensor(0.0990, grad_fn=<MseLossBackward0>)\n",
      "epoch 56, loss 0.09898840636014938\n",
      "tensor(0.0979, grad_fn=<MseLossBackward0>)\n",
      "epoch 57, loss 0.0978831946849823\n",
      "tensor(0.0968, grad_fn=<MseLossBackward0>)\n",
      "epoch 58, loss 0.0967901200056076\n",
      "tensor(0.0957, grad_fn=<MseLossBackward0>)\n",
      "epoch 59, loss 0.0957091748714447\n",
      "tensor(0.0946, grad_fn=<MseLossBackward0>)\n",
      "epoch 60, loss 0.09464047104120255\n",
      "tensor(0.0936, grad_fn=<MseLossBackward0>)\n",
      "epoch 61, loss 0.09358351677656174\n",
      "tensor(0.0925, grad_fn=<MseLossBackward0>)\n",
      "epoch 62, loss 0.0925385057926178\n",
      "tensor(0.0915, grad_fn=<MseLossBackward0>)\n",
      "epoch 63, loss 0.09150524437427521\n",
      "tensor(0.0905, grad_fn=<MseLossBackward0>)\n",
      "epoch 64, loss 0.09048331528902054\n",
      "tensor(0.0895, grad_fn=<MseLossBackward0>)\n",
      "epoch 65, loss 0.08947300165891647\n",
      "tensor(0.0885, grad_fn=<MseLossBackward0>)\n",
      "epoch 66, loss 0.08847366273403168\n",
      "tensor(0.0875, grad_fn=<MseLossBackward0>)\n",
      "epoch 67, loss 0.08748584240674973\n",
      "tensor(0.0865, grad_fn=<MseLossBackward0>)\n",
      "epoch 68, loss 0.0865088626742363\n",
      "tensor(0.0855, grad_fn=<MseLossBackward0>)\n",
      "epoch 69, loss 0.08554280549287796\n",
      "tensor(0.0846, grad_fn=<MseLossBackward0>)\n",
      "epoch 70, loss 0.084587462246418\n",
      "tensor(0.0836, grad_fn=<MseLossBackward0>)\n",
      "epoch 71, loss 0.08364307880401611\n",
      "tensor(0.0827, grad_fn=<MseLossBackward0>)\n",
      "epoch 72, loss 0.08270909637212753\n",
      "tensor(0.0818, grad_fn=<MseLossBackward0>)\n",
      "epoch 73, loss 0.08178536593914032\n",
      "tensor(0.0809, grad_fn=<MseLossBackward0>)\n",
      "epoch 74, loss 0.08087202906608582\n",
      "tensor(0.0800, grad_fn=<MseLossBackward0>)\n",
      "epoch 75, loss 0.07996901869773865\n",
      "tensor(0.0791, grad_fn=<MseLossBackward0>)\n",
      "epoch 76, loss 0.07907608151435852\n",
      "tensor(0.0782, grad_fn=<MseLossBackward0>)\n",
      "epoch 77, loss 0.07819299399852753\n",
      "tensor(0.0773, grad_fn=<MseLossBackward0>)\n",
      "epoch 78, loss 0.07731989771127701\n",
      "tensor(0.0765, grad_fn=<MseLossBackward0>)\n",
      "epoch 79, loss 0.07645643502473831\n",
      "tensor(0.0756, grad_fn=<MseLossBackward0>)\n",
      "epoch 80, loss 0.07560258358716965\n",
      "tensor(0.0748, grad_fn=<MseLossBackward0>)\n",
      "epoch 81, loss 0.07475844025611877\n",
      "tensor(0.0739, grad_fn=<MseLossBackward0>)\n",
      "epoch 82, loss 0.07392367720603943\n",
      "tensor(0.0731, grad_fn=<MseLossBackward0>)\n",
      "epoch 83, loss 0.07309814542531967\n",
      "tensor(0.0723, grad_fn=<MseLossBackward0>)\n",
      "epoch 84, loss 0.07228179275989532\n",
      "tensor(0.0715, grad_fn=<MseLossBackward0>)\n",
      "epoch 85, loss 0.07147464156150818\n",
      "tensor(0.0707, grad_fn=<MseLossBackward0>)\n",
      "epoch 86, loss 0.07067655026912689\n",
      "tensor(0.0699, grad_fn=<MseLossBackward0>)\n",
      "epoch 87, loss 0.06988726556301117\n",
      "tensor(0.0691, grad_fn=<MseLossBackward0>)\n",
      "epoch 88, loss 0.06910688430070877\n",
      "tensor(0.0683, grad_fn=<MseLossBackward0>)\n",
      "epoch 89, loss 0.0683351680636406\n",
      "tensor(0.0676, grad_fn=<MseLossBackward0>)\n",
      "epoch 90, loss 0.06757216900587082\n",
      "tensor(0.0668, grad_fn=<MseLossBackward0>)\n",
      "epoch 91, loss 0.06681748479604721\n",
      "tensor(0.0661, grad_fn=<MseLossBackward0>)\n",
      "epoch 92, loss 0.06607148051261902\n",
      "tensor(0.0653, grad_fn=<MseLossBackward0>)\n",
      "epoch 93, loss 0.0653335377573967\n",
      "tensor(0.0646, grad_fn=<MseLossBackward0>)\n",
      "epoch 94, loss 0.06460405141115189\n",
      "tensor(0.0639, grad_fn=<MseLossBackward0>)\n",
      "epoch 95, loss 0.06388262659311295\n",
      "tensor(0.0632, grad_fn=<MseLossBackward0>)\n",
      "epoch 96, loss 0.06316923350095749\n",
      "tensor(0.0625, grad_fn=<MseLossBackward0>)\n",
      "epoch 97, loss 0.0624639056622982\n",
      "tensor(0.0618, grad_fn=<MseLossBackward0>)\n",
      "epoch 98, loss 0.06176621839404106\n",
      "tensor(0.0611, grad_fn=<MseLossBackward0>)\n",
      "epoch 99, loss 0.06107652559876442\n"
     ]
    }
   ],
   "source": [
    "for epoch in range(epochs):\n",
    "    inputs = torch.from_numpy(x_train)\n",
    "    labels = torch.from_numpy(y_train)\n",
    "    \n",
    "    optimizer.zero_grad()\n",
    "    outputs = model(inputs)\n",
    "    loss = criterion(outputs, labels)\n",
    "    print(loss)\n",
    "    loss.backward()\n",
    "    optimizer.step()\n",
    "    \n",
    "    print('epoch {}, loss {}'.format(epoch, loss.item()))"
   ]
  },
  {
   "cell_type": "code",
   "execution_count": 37,
   "metadata": {},
   "outputs": [
    {
     "name": "stdout",
     "output_type": "stream",
     "text": [
      "[[ 0.5402757]\n",
      " [ 2.6064801]\n",
      " [ 4.672684 ]\n",
      " [ 6.7388887]\n",
      " [ 8.805093 ]\n",
      " [10.871297 ]\n",
      " [12.937502 ]\n",
      " [15.003706 ]\n",
      " [17.06991  ]\n",
      " [19.136114 ]\n",
      " [21.202318 ]]\n"
     ]
    }
   ],
   "source": [
    "with torch.no_grad():\n",
    "    predicted = model(Variable(torch.from_numpy(x_train))).data.numpy()\n",
    "    print(predicted)"
   ]
  },
  {
   "cell_type": "markdown",
   "metadata": {},
   "source": [
    "## "
   ]
  },
  {
   "cell_type": "code",
   "execution_count": 72,
   "metadata": {},
   "outputs": [],
   "source": [
    "# data download\n",
    "DATA_PATH = \"https://download.pytorch.org/tutorial/hymenoptera_data.zip\"\n",
    "\n",
    "import urllib\n",
    "import os\n",
    "import shutil\n",
    "from zipfile import ZipFile\n",
    "\n",
    "urllib.request.urlretrieve(DATA_PATH, 'data/hymenoptera_data.zip')\n",
    "\n",
    "with ZipFile('data/hymenoptera_data.zip', 'r') as zipObj :\n",
    "    zipObj.extractall('data/')\n",
    "\n",
    "data_dir = 'data/hymenoptera_data'"
   ]
  },
  {
   "cell_type": "code",
   "execution_count": 73,
   "metadata": {},
   "outputs": [],
   "source": [
    "class ReshapeTransform:\n",
    "    def __init__(self, new_size):\n",
    "        self.new_size = new_size\n",
    "        \n",
    "    def __call__(self, img):\n",
    "        result = torch.reshape(img, self.new_size)\n",
    "        return result"
   ]
  },
  {
   "cell_type": "code",
   "execution_count": 81,
   "metadata": {},
   "outputs": [],
   "source": [
    "from torchvision import transforms\n",
    "from torchvision import datasets\n",
    "import matplotlib.pyplot as plt"
   ]
  },
  {
   "cell_type": "code",
   "execution_count": 80,
   "metadata": {},
   "outputs": [],
   "source": [
    "# transformation\n",
    "data_transforms = {\n",
    "    'train' : transforms.Compose([\n",
    "        transforms.Resize(224),\n",
    "        transforms.CenterCrop(224),\n",
    "        transforms.ToTensor(),\n",
    "        ReshapeTransform((-1,)) # flatten\n",
    "    ]),\n",
    "    \n",
    "    'val' : transforms.Compose([\n",
    "        transforms.Resize(224),\n",
    "        transforms.CenterCrop(224),\n",
    "        transforms.ToTensor(),\n",
    "        ReshapeTransform((-1,)) # flatten\n",
    "    ])\n",
    "}\n",
    "\n",
    "# load dataset\n",
    "image_datasets = {x:datasets.ImageFolder(os.path.join(data_dir, x), data_transforms[x])\n",
    "                  for x in ['train', 'val']}\n",
    "\n",
    "train_dataset = torch.utils.data.DataLoader(image_datasets['train'],\n",
    "                                            batch_size=len(image_datasets['train']),\n",
    "                                            shuffle=True)\n",
    "test_dataset = torch.utils.data.DataLoader(image_datasets['val'],\n",
    "                                            batch_size=len(image_datasets['val']),\n",
    "                                            shuffle=True)"
   ]
  },
  {
   "cell_type": "code",
   "execution_count": 82,
   "metadata": {},
   "outputs": [
    {
     "name": "stdout",
     "output_type": "stream",
     "text": [
      "Dimension of images :  torch.Size([244, 150528]) \n",
      " Dimension of labels :  torch.Size([244])\n"
     ]
    },
    {
     "data": {
      "text/plain": [
       "<matplotlib.image.AxesImage at 0x7fd563ef6c40>"
      ]
     },
     "execution_count": 82,
     "metadata": {},
     "output_type": "execute_result"
    },
    {
     "data": {
      "image/png": "[encoded data removed]",
      "text/plain": [
       "<Figure size 432x288 with 1 Axes>"
      ]
     },
     "metadata": {
      "needs_background": "light"
     },
     "output_type": "display_data"
    }
   ],
   "source": [
    "x,y = next(iter(train_dataset))\n",
    "dim = x.shape[1]\n",
    "print(\"Dimension of images : \", x.shape, \"\\n\",\n",
    "      \"Dimension of labels : \", y.shape)\n",
    "\n",
    "plt.imshow(x[160].reshape(1,3,224,224).squeeze().T.numpy())"
   ]
  },
  {
   "cell_type": "code",
   "execution_count": 83,
   "metadata": {},
   "outputs": [],
   "source": [
    "class LR(nn.Module):\n",
    "    def __init__(self, dim, lr=torch.scalar_tensor(0.01)):\n",
    "        super().__init__()\n",
    "        self.w = torch.zeros(dim,1,dtype=torch.float)\n",
    "        self.b = torch.scalar_tensor(0)\n",
    "        self.grads = {\"dw\" : torch.zeros(dim, 1, dtype=torch.float),\n",
    "                      \"db\" : torch.scalar_tensor(0)}\n",
    "        self.lr = lr\n",
    "        \n",
    "    def forward(self,x):\n",
    "        z = torch.mm(self.w.T, x) + self.b\n",
    "        a = self.sigmoid(z)\n",
    "        return a\n",
    "    \n",
    "    def sigmoid(self, z):\n",
    "        return 1/(1+torch.exp(-z))\n",
    "    \n",
    "    def backward(self, x, yhat, y):\n",
    "        self.grads[\"dw\"] = (1/x.shape[1]) * torch.mm(x,(yhat-y).T) # grad sigmoid\n",
    "        self.grads[\"db\"] = (1/x.shape[1]) * torch.sum(yhat-y) # grad sigmoid\n",
    "    \n",
    "    def optimize(self):\n",
    "        self.w = self.w - self.lr * self.grads[\"dw\"]\n",
    "        self.b = self.b - self.lr * self.grads[\"db\"]"
   ]
  },
  {
   "cell_type": "code",
   "execution_count": 84,
   "metadata": {},
   "outputs": [],
   "source": [
    "def loss(yhat, y):\n",
    "    m = y.size()[1]\n",
    "    return -(1/m) * torch.sum(y*torch.log(yhat) + (1-y)*torch.log(1-yhat))\n",
    "\n",
    "def predict(yhat, y):\n",
    "    y_prediction = torch.zeros(1, y.size()[1])\n",
    "    for i in range(yhat.size()[1]):\n",
    "        if yhat[0, i] <= 0.5:\n",
    "            y_prediction[0, i] = 0\n",
    "        else :\n",
    "            y_prediction[0, i] = 1\n",
    "    \n",
    "    return 100 - torch.mean(torch.abs(y_prediction - y)) * 100"
   ]
  },
  {
   "cell_type": "code",
   "execution_count": 93,
   "metadata": {},
   "outputs": [
    {
     "name": "stdout",
     "output_type": "stream",
     "text": [
      "x shape :  torch.Size([244, 150528])\n",
      "y shape :  torch.Size([244])\n",
      "y unsqueezed :  torch.Size([1, 244])\n",
      "num of dim :  150528\n",
      "Cost :  tensor(0.6931)\n",
      "Accuracy :  tensor(50.4098)\n"
     ]
    }
   ],
   "source": [
    "# model pretesting\n",
    "x,y = next(iter(train_dataset))\n",
    "print('x shape : ', x.shape)\n",
    "print('y shape : ', y.shape)\n",
    "\n",
    "x_flatten = x.T\n",
    "y = y.unsqueeze(0)\n",
    "print('y unsqueezed : ', y.shape)\n",
    "\n",
    "dim = x_flatten.shape[0]\n",
    "print('num of dim : ', dim)\n",
    "\n",
    "# model instance\n",
    "model = LR(dim)\n",
    "yhat = model.forward(x_flatten)\n",
    "\n",
    "# loss\n",
    "cost = loss(yhat, y)\n",
    "prediction = predict(yhat, y)\n",
    "print(\"Cost : \", cost)\n",
    "print(\"Accuracy : \", prediction)\n",
    "\n",
    "# backprop\n",
    "model.backward(x_flatten, yhat, y)\n",
    "model.optimize()"
   ]
  },
  {
   "cell_type": "code",
   "execution_count": 94,
   "metadata": {},
   "outputs": [
    {
     "data": {
      "text/plain": [
       "LR()"
      ]
     },
     "execution_count": 94,
     "metadata": {},
     "output_type": "execute_result"
    }
   ],
   "source": [
    "# iter\n",
    "\n",
    "costs = []\n",
    "dim = x_flatten.shape[0]\n",
    "learning_rate = torch.scalar_tensor(0.0001)\n",
    "num_iterations = 100\n",
    "lrmodel = LR(dim, learning_rate)\n",
    "lrmodel\n",
    "device = \n",
    "\n",
    "def transform_data(x, y):\n",
    "    x_flatten = x.T\n",
    "    y = y.unsqueeze(0)\n",
    "    return x_flatten, y\n",
    "\n",
    "for i in range(num_iterations):\n",
    "    x,y = next(iter(train_dataset))\n",
    "    test_x, test_y = next(iter(test_dataset))\n",
    "    x, y = transform_data(x,y)\n",
    "    test_x, test_y = transform_data(test_x, test_y)\n",
    "    \n",
    "    #forward\n",
    "    yhat = lrmodel.forward(x.to(de))\n",
    "    cost = loss(yhat, y)"
   ]
  },
  {
   "cell_type": "code",
   "execution_count": null,
   "metadata": {},
   "outputs": [],
   "source": []
  }
 ],
 "metadata": {
  "colab": {
   "authorship_tag": "ABX9TyPfxbVq31bZnZ/BCHf8J8ro",
   "name": "4_autograd_optimizer.ipynb",
   "provenance": []
  },
  "kernelspec": {
   "display_name": "Python 3 (ipykernel)",
   "language": "python",
   "name": "python3"
  },
  "language_info": {
   "codemirror_mode": {
    "name": "ipython",
    "version": 3
   },
   "file_extension": ".py",
   "mimetype": "text/x-python",
   "name": "python",
   "nbconvert_exporter": "python",
   "pygments_lexer": "ipython3",
   "version": "3.8.12"
  }
 },
 "nbformat": 4,
 "nbformat_minor": 4
}
