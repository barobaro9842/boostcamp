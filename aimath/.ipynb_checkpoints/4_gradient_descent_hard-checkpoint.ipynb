{
 "cells": [
  {
   "cell_type": "markdown",
   "id": "56041bfb-bfc5-49a0-8448-c3eccbbfcaff",
   "metadata": {
    "tags": []
   },
   "source": [
    "# 경사하강법 기반 선형회귀"
   ]
  },
  {
   "cell_type": "code",
   "execution_count": 3,
   "id": "b443f587-405c-4f54-b2b2-1d25057e1afa",
   "metadata": {},
   "outputs": [],
   "source": [
    "import numpy as np"
   ]
  },
  {
   "cell_type": "code",
   "execution_count": 13,
   "id": "b1520b66-b809-4bf5-b3b5-c24b5d04db7c",
   "metadata": {},
   "outputs": [],
   "source": [
    "X = np.array([[1,1,],[1,2],[2,2,],[2,3]])\n",
    "y = np.dot(X, np.array([1,2])) + 3 # 정답\n",
    "\n",
    "beta_gd = [11,0.2,20.1] #찾아야하는 베타\n",
    "X_ = np.array([np.append(x,[1]) for x in X])\n",
    "\n",
    "for t in range(5000) : #학습횟수\n",
    "    error = y - X_ @ beta_gd\n",
    "    grad = - np.transpose(X_) @ error\n",
    "    beta_gd = beta_gd - 0.01*grad"
   ]
  },
  {
   "cell_type": "code",
   "execution_count": 15,
   "id": "b715c7e7-dc03-4822-81cf-b1232901a1b7",
   "metadata": {},
   "outputs": [
    {
     "data": {
      "text/plain": [
       "array([0.99999773, 2.00000031, 3.000003  ])"
      ]
     },
     "execution_count": 15,
     "metadata": {},
     "output_type": "execute_result"
    }
   ],
   "source": [
    "beta_gd"
   ]
  },
  {
   "cell_type": "code",
   "execution_count": null,
   "id": "07b246e3-83d1-4553-8732-72ea0bdba900",
   "metadata": {},
   "outputs": [],
   "source": []
  }
 ],
 "metadata": {
  "kernelspec": {
   "display_name": "Python 3 (ipykernel)",
   "language": "python",
   "name": "python3"
  },
  "language_info": {
   "codemirror_mode": {
    "name": "ipython",
    "version": 3
   },
   "file_extension": ".py",
   "mimetype": "text/x-python",
   "name": "python",
   "nbconvert_exporter": "python",
   "pygments_lexer": "ipython3",
   "version": "3.8.12"
  }
 },
 "nbformat": 4,
 "nbformat_minor": 5
}
