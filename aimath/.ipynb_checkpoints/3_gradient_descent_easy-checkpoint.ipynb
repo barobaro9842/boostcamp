{
 "cells": [
  {
   "cell_type": "code",
   "execution_count": 7,
   "id": "45b7596b-5ad8-4105-9f1d-e00fd2feafbb",
   "metadata": {},
   "outputs": [],
   "source": [
    "import numpy as np\n",
    "import sympy as sym\n",
    "from sympy.abc import x,y"
   ]
  },
  {
   "cell_type": "code",
   "execution_count": 13,
   "id": "bd914960-e537-4982-9429-ad11e95ed215",
   "metadata": {},
   "outputs": [
    {
     "name": "stdout",
     "output_type": "stream",
     "text": [
      "함수 : Poly(x**2 + 2*y**2, x, y, domain='ZZ') \n",
      " 연산횟수 : 609 \n",
      " 최소점 : ([4.97729110e-06 2.70089169e-11],2.47734267439673E-11)\n"
     ]
    }
   ],
   "source": [
    "def eval_(fun, val) :\n",
    "    x_, y_ =val\n",
    "    def wrapper(x_,y_):\n",
    "        fun(x_,y_)\n",
    "    return wrapper\n",
    "\n",
    "def func_multi2(val) :\n",
    "    x_, y_ =val\n",
    "    func = sym.poly(x**3 + 1*y**5)\n",
    "    return eval_(func, [x_,y_]), func\n",
    "\n",
    "\n",
    "def func_multi(val) :\n",
    "    x_, y_ =val\n",
    "    func = sym.poly(x**2 + 2*y**2)\n",
    "    return eval_(func, [x_,y_]), func\n",
    "\n",
    "\n",
    "def func_gradient(fun, val):\n",
    "    x_, y_ = val\n",
    "    _, function = fun(val)\n",
    "    diff_x = sym.diff(function, x)\n",
    "    diff_y = sym.diff(function, y)\n",
    "    grad_vec = np.array([eval_(diff_x, [x_,y_]),\n",
    "                         eval_(diff_y, [x_,y_])], dtype=float)\n",
    "    return grad_vec, [diff_x, diff_y]\n",
    "\n",
    "\n",
    "def gradient_descent(fun, init_point, lr_rate=1e-2, epsilon=1e-5):\n",
    "    cnt = 0\n",
    "    val = init_point\n",
    "    diff, _ = func_gradient(fun,val)\n",
    "    while np.linalg.norm(diff) > epsilon :\n",
    "        val = val - lr_rate * diff\n",
    "        diff, _ = func_gradient(fun,val)\n",
    "        cnt += 1\n",
    "    \n",
    "    print(\"함수 : {} \\n 연산횟수 : {} \\n 최소점 : ({},{})\"\\\n",
    "         .format(fun(val)[1], cnt, val, fun(val)[0]))\n",
    "\n",
    "pt = [np.random.uniform(-2,2), np.random.uniform(-2,2)]\n",
    "gradient_descent(fun=func_multi, init_point=pt)"
   ]
  },
  {
   "cell_type": "code",
   "execution_count": null,
   "id": "0d6c171b-25b7-4270-b882-1bfea699c95f",
   "metadata": {},
   "outputs": [],
   "source": []
  }
 ],
 "metadata": {
  "kernelspec": {
   "display_name": "Python 3 (ipykernel)",
   "language": "python",
   "name": "python3"
  },
  "language_info": {
   "codemirror_mode": {
    "name": "ipython",
    "version": 3
   },
   "file_extension": ".py",
   "mimetype": "text/x-python",
   "name": "python",
   "nbconvert_exporter": "python",
   "pygments_lexer": "ipython3",
   "version": "3.8.12"
  }
 },
 "nbformat": 4,
 "nbformat_minor": 5
}
