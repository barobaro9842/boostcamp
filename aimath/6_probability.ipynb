{
 "cells": [
  {
   "cell_type": "markdown",
   "id": "83555409-59c0-45c6-be04-8f3406c61466",
   "metadata": {},
   "source": [
    "# 몬테카를로"
   ]
  },
  {
   "cell_type": "code",
   "execution_count": 1,
   "id": "4b9f18c9-b9b5-48e0-b637-6e6d8927e795",
   "metadata": {},
   "outputs": [],
   "source": [
    "import numpy as np"
   ]
  },
  {
   "cell_type": "code",
   "execution_count": 10,
   "id": "04ab1454-882d-4715-b35a-8ac5b8e8e025",
   "metadata": {},
   "outputs": [
    {
     "name": "stdout",
     "output_type": "stream",
     "text": [
      "(1.4939789555131275, 0.004366593235430621)\n"
     ]
    }
   ],
   "source": [
    "def mc_int(fun, low, high, sample_size=100, repeat=10):\n",
    "    int_len = np.abs(high-low)\n",
    "    stat = []\n",
    "    for _ in range(repeat):\n",
    "        x = np.random.uniform(low=low, high=high, size=sample_size)\n",
    "        fun_x = fun(x)\n",
    "        int_val = int_len * np.mean(fun_x)\n",
    "        stat.append(int_val)\n",
    "    return np.mean(stat), np.std(stat)\n",
    "\n",
    "def f(x):\n",
    "    return np.exp(-x**2)\n",
    "\n",
    "print(mc_int(f, low=-1, high=1, sample_size=10000, repeat=100))"
   ]
  },
  {
   "cell_type": "code",
   "execution_count": null,
   "id": "821df685-60e1-42f8-bd25-2d8c8a35c47d",
   "metadata": {},
   "outputs": [],
   "source": []
  }
 ],
 "metadata": {
  "kernelspec": {
   "display_name": "Python 3 (ipykernel)",
   "language": "python",
   "name": "python3"
  },
  "language_info": {
   "codemirror_mode": {
    "name": "ipython",
    "version": 3
   },
   "file_extension": ".py",
   "mimetype": "text/x-python",
   "name": "python",
   "nbconvert_exporter": "python",
   "pygments_lexer": "ipython3",
   "version": "3.8.12"
  }
 },
 "nbformat": 4,
 "nbformat_minor": 5
}
