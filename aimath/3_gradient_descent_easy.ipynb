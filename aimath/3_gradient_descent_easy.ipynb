{
 "cells": [
  {
   "cell_type": "code",
   "execution_count": 7,
   "id": "45b7596b-5ad8-4105-9f1d-e00fd2feafbb",
   "metadata": {},
   "outputs": [],
   "source": [
    "import numpy as np\n",
    "import sympy as sym\n",
    "from sympy.abc import x,y"
   ]
  },
  {
   "cell_type": "code",
   "execution_count": 13,
   "id": "bd914960-e537-4982-9429-ad11e95ed215",
   "metadata": {},
   "outputs": [
    {
     "name": "stdout",
     "output_type": "stream",
     "text": [
      "함수 : Poly(x**2 + 2*y**2, x, y, domain='ZZ') \n",
      " 연산횟수 : 609 \n",
      " 최소점 : ([4.97729110e-06 2.70089169e-11],2.47734267439673E-11)\n"
     ]
    }
   ],
   "source": [
    "def eval_(fun, val) :\n",
    "    x_, y_ =val\n",
    "    return wrapper\n",
    "\n",
    "def func_multi(val) :\n",
    "    x_, y_ =val\n",
    "    func = sym.poly(x**2 + 2*y**2)\n",
    "    return eval_(func, [x_,y_]), func\n",
    "\n",
    "\n",
    "def func_gradient(fun, val):\n",
    "    x_, y_ = val\n",
    "    _, function = fun(val)\n",
    "    diff_x = sym.diff(function, x)\n",
    "    diff_y = sym.diff(function, y)\n",
    "    grad_vec = np.array([eval_(diff_x, [x_,y_]),\n",
    "                         eval_(diff_y, [x_,y_])], dtype=float)\n",
    "    return grad_vec, [diff_x, diff_y]\n",
    "\n",
    "\n",
    "def gradient_descent(fun, init_point, lr_rate=1e-2, epsilon=1e-5):\n",
    "    cnt = 0\n",
    "    val = init_point\n",
    "    diff, _ = func_gradient(fun,val)\n",
    "    while np.linalg.norm(diff) > epsilon :\n",
    "        val = val - lr_rate * diff\n",
    "        diff, _ = func_gradient(fun,val)\n",
    "        cnt += 1\n",
    "    \n",
    "    print(\"함수 : {} \\n 연산횟수 : {} \\n 최소점 : ({},{})\"\\\n",
    "         .format(fun(val)[1], cnt, val, fun(val)[0]))\n",
    "\n",
    "pt = [np.random.uniform(-2,2), np.random.uniform(-2,2)]\n",
    "gradient_descent(fun=func_multi, init_point=pt)"
   ]
  },
  {
   "cell_type": "code",
   "execution_count": 8,
   "id": "0d6c171b-25b7-4270-b882-1bfea699c95f",
   "metadata": {},
   "outputs": [
    {
     "ename": "TypeError",
     "evalue": "loop of ufunc does not support argument 0 of type Symbol which has no callable exp method",
     "output_type": "error",
     "traceback": [
      "\u001b[0;31m---------------------------------------------------------------------------\u001b[0m",
      "\u001b[0;31mAttributeError\u001b[0m                            Traceback (most recent call last)",
      "\u001b[0;31mAttributeError\u001b[0m: 'Symbol' object has no attribute 'exp'",
      "\nThe above exception was the direct cause of the following exception:\n",
      "\u001b[0;31mTypeError\u001b[0m                                 Traceback (most recent call last)",
      "\u001b[0;32m/var/folders/3k/05vd5sp53wbgspztyxv0ksfm0000gn/T/ipykernel_27924/262180807.py\u001b[0m in \u001b[0;36m<module>\u001b[0;34m\u001b[0m\n\u001b[0;32m----> 1\u001b[0;31m \u001b[0msym\u001b[0m\u001b[0;34m.\u001b[0m\u001b[0mpoly\u001b[0m\u001b[0;34m(\u001b[0m\u001b[0;34m(\u001b[0m\u001b[0mnp\u001b[0m\u001b[0;34m.\u001b[0m\u001b[0mexp\u001b[0m\u001b[0;34m(\u001b[0m\u001b[0mx\u001b[0m\u001b[0;34m)\u001b[0m\u001b[0;34m)\u001b[0m\u001b[0;34m)\u001b[0m\u001b[0;34m\u001b[0m\u001b[0;34m\u001b[0m\u001b[0m\n\u001b[0m",
      "\u001b[0;31mTypeError\u001b[0m: loop of ufunc does not support argument 0 of type Symbol which has no callable exp method"
     ]
    }
   ],
   "source": [
    "sym.poly((np.exp(x)))"
   ]
  },
  {
   "cell_type": "code",
   "execution_count": 13,
   "id": "9740c768-8be2-4835-8db1-04679900ca84",
   "metadata": {},
   "outputs": [
    {
     "ename": "TypeError",
     "evalue": "exp() takes from 1 to 2 positional arguments but 0 were given",
     "output_type": "error",
     "traceback": [
      "\u001b[0;31m---------------------------------------------------------------------------\u001b[0m",
      "\u001b[0;31mTypeError\u001b[0m                                 Traceback (most recent call last)",
      "\u001b[0;32m/var/folders/3k/05vd5sp53wbgspztyxv0ksfm0000gn/T/ipykernel_27924/3117647456.py\u001b[0m in \u001b[0;36m<module>\u001b[0;34m\u001b[0m\n\u001b[0;32m----> 1\u001b[0;31m \u001b[0mnp\u001b[0m\u001b[0;34m.\u001b[0m\u001b[0mdiff\u001b[0m\u001b[0;34m(\u001b[0m\u001b[0mnp\u001b[0m\u001b[0;34m.\u001b[0m\u001b[0mexp\u001b[0m\u001b[0;34m(\u001b[0m\u001b[0;34m)\u001b[0m\u001b[0;34m)\u001b[0m\u001b[0;34m\u001b[0m\u001b[0;34m\u001b[0m\u001b[0m\n\u001b[0m",
      "\u001b[0;31mTypeError\u001b[0m: exp() takes from 1 to 2 positional arguments but 0 were given"
     ]
    }
   ],
   "source": []
  },
  {
   "cell_type": "code",
   "execution_count": null,
   "id": "be6d792c-d224-48d0-89cf-f6e33d755861",
   "metadata": {},
   "outputs": [],
   "source": []
  }
 ],
 "metadata": {
  "kernelspec": {
   "display_name": "Python 3 (ipykernel)",
   "language": "python",
   "name": "python3"
  },
  "language_info": {
   "codemirror_mode": {
    "name": "ipython",
    "version": 3
   },
   "file_extension": ".py",
   "mimetype": "text/x-python",
   "name": "python",
   "nbconvert_exporter": "python",
   "pygments_lexer": "ipython3",
   "version": "3.8.12"
  }
 },
 "nbformat": 4,
 "nbformat_minor": 5
}
