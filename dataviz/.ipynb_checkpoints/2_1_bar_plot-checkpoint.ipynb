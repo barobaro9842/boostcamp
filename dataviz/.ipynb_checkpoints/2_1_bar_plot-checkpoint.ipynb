{
 "cells": [
  {
   "cell_type": "markdown",
   "id": "c80c9068-8631-4e8b-be2c-79e76b7d0534",
   "metadata": {},
   "source": [
    "# 기본 Bar plot\n",
    "\n",
    "- bar()\n",
    "- barh()"
   ]
  },
  {
   "cell_type": "code",
   "execution_count": 1,
   "id": "fefa8971-5a48-49d4-a1d8-6a35eea029a8",
   "metadata": {},
   "outputs": [],
   "source": [
    "import numpy as np\n",
    "import pandas as pd\n",
    "import matplotlib as mlp\n",
    "import matplotlib.pyplot as plt"
   ]
  },
  {
   "cell_type": "code",
   "execution_count": 3,
   "id": "dd66eb9d-fb10-46bf-abdb-cdf581d47350",
   "metadata": {},
   "outputs": [
    {
     "data": {
      "image/png": "[encoded data removed]",
      "text/plain": [
       "<Figure size 864x504 with 2 Axes>"
      ]
     },
     "metadata": {
      "needs_background": "light"
     },
     "output_type": "display_data"
    }
   ],
   "source": [
    "fig, axes = plt.subplots(1,2,figsize=(12,7))\n",
    "\n",
    "x = list('ABCDE')\n",
    "y = np.array([1,2,3,4,5])\n",
    "\n",
    "axes[0].bar(x,y)\n",
    "axes[1].barh(x,y)\n",
    "\n",
    "axes[0].set_title('bar')\n",
    "axes[1].set_title('barh')\n",
    "\n",
    "plt.show()"
   ]
  },
  {
   "cell_type": "markdown",
   "id": "9e38c8ef-fcad-4b06-aa38-42636e2f2518",
   "metadata": {},
   "source": [
    "# 다양한 Bar plot"
   ]
  },
  {
   "cell_type": "markdown",
   "id": "529b4271-71bb-4896-ab68-9abb397fc0e4",
   "metadata": {},
   "source": [
    "## 0.data 준비\n",
    "\n",
    "- 1000명 학생 데이터 \n",
    "- feature에 대한 정보는 `head()`, `describe()`, `info()` 등으로 확인하고\n",
    "- `unique()`, `value_counts()` 등으로 종류나 큰 분포 확인\n",
    "- feautre들\n",
    "    - **성별** : female / male\n",
    "    - **인종민족** : group A, B, C, D, E\n",
    "    - **부모님 최종 학력** : 고등학교 졸업, 전문대, 학사 학위, 석사 학위, 2년제 졸업\n",
    "    - **점심** : standard와 free/reduced\n",
    "    - **시험 예습** : none과 completed\n",
    "    - **수학, 읽기, 쓰기 성적** (0~100)"
   ]
  },
  {
   "cell_type": "code",
   "execution_count": 9,
   "id": "66de62d0-6d74-400b-bb90-ac3b40f45087",
   "metadata": {},
   "outputs": [
    {
     "data": {
      "text/html": [
       "<div>\n",
       "<style scoped>\n",
       "    .dataframe tbody tr th:only-of-type {\n",
       "        vertical-align: middle;\n",
       "    }\n",
       "\n",
       "    .dataframe tbody tr th {\n",
       "        vertical-align: top;\n",
       "    }\n",
       "\n",
       "    .dataframe thead th {\n",
       "        text-align: right;\n",
       "    }\n",
       "</style>\n",
       "<table border=\"1\" class=\"dataframe\">\n",
       "  <thead>\n",
       "    <tr style=\"text-align: right;\">\n",
       "      <th></th>\n",
       "      <th>gender</th>\n",
       "      <th>race/ethnicity</th>\n",
       "      <th>parental level of education</th>\n",
       "      <th>lunch</th>\n",
       "      <th>test preparation course</th>\n",
       "      <th>math score</th>\n",
       "      <th>reading score</th>\n",
       "      <th>writing score</th>\n",
       "    </tr>\n",
       "  </thead>\n",
       "  <tbody>\n",
       "    <tr>\n",
       "      <th>513</th>\n",
       "      <td>female</td>\n",
       "      <td>group B</td>\n",
       "      <td>some high school</td>\n",
       "      <td>standard</td>\n",
       "      <td>completed</td>\n",
       "      <td>54</td>\n",
       "      <td>61</td>\n",
       "      <td>62</td>\n",
       "    </tr>\n",
       "    <tr>\n",
       "      <th>28</th>\n",
       "      <td>male</td>\n",
       "      <td>group C</td>\n",
       "      <td>high school</td>\n",
       "      <td>standard</td>\n",
       "      <td>none</td>\n",
       "      <td>70</td>\n",
       "      <td>70</td>\n",
       "      <td>65</td>\n",
       "    </tr>\n",
       "    <tr>\n",
       "      <th>601</th>\n",
       "      <td>female</td>\n",
       "      <td>group C</td>\n",
       "      <td>high school</td>\n",
       "      <td>standard</td>\n",
       "      <td>none</td>\n",
       "      <td>29</td>\n",
       "      <td>29</td>\n",
       "      <td>30</td>\n",
       "    </tr>\n",
       "    <tr>\n",
       "      <th>382</th>\n",
       "      <td>male</td>\n",
       "      <td>group C</td>\n",
       "      <td>master's degree</td>\n",
       "      <td>free/reduced</td>\n",
       "      <td>none</td>\n",
       "      <td>79</td>\n",
       "      <td>81</td>\n",
       "      <td>71</td>\n",
       "    </tr>\n",
       "    <tr>\n",
       "      <th>262</th>\n",
       "      <td>female</td>\n",
       "      <td>group C</td>\n",
       "      <td>some high school</td>\n",
       "      <td>free/reduced</td>\n",
       "      <td>none</td>\n",
       "      <td>44</td>\n",
       "      <td>50</td>\n",
       "      <td>51</td>\n",
       "    </tr>\n",
       "  </tbody>\n",
       "</table>\n",
       "</div>"
      ],
      "text/plain": [
       "     gender race/ethnicity parental level of education         lunch  \\\n",
       "513  female        group B            some high school      standard   \n",
       "28     male        group C                 high school      standard   \n",
       "601  female        group C                 high school      standard   \n",
       "382    male        group C             master's degree  free/reduced   \n",
       "262  female        group C            some high school  free/reduced   \n",
       "\n",
       "    test preparation course  math score  reading score  writing score  \n",
       "513               completed          54             61             62  \n",
       "28                     none          70             70             65  \n",
       "601                    none          29             29             30  \n",
       "382                    none          79             81             71  \n",
       "262                    none          44             50             51  "
      ]
     },
     "execution_count": 9,
     "metadata": {},
     "output_type": "execute_result"
    }
   ],
   "source": [
    "student = pd.read_csv('data/StudentsPerformance.csv')\n",
    "student.head() #상위 5개\n",
    "student.sample(5) #random 5개 -> 더 추천"
   ]
  },
  {
   "cell_type": "code",
   "execution_count": 10,
   "id": "22061f07-14ba-4386-a803-ce2a4aa53b84",
   "metadata": {},
   "outputs": [
    {
     "name": "stdout",
     "output_type": "stream",
     "text": [
      "<class 'pandas.core.frame.DataFrame'>\n",
      "RangeIndex: 1000 entries, 0 to 999\n",
      "Data columns (total 8 columns):\n",
      " #   Column                       Non-Null Count  Dtype \n",
      "---  ------                       --------------  ----- \n",
      " 0   gender                       1000 non-null   object\n",
      " 1   race/ethnicity               1000 non-null   object\n",
      " 2   parental level of education  1000 non-null   object\n",
      " 3   lunch                        1000 non-null   object\n",
      " 4   test preparation course      1000 non-null   object\n",
      " 5   math score                   1000 non-null   int64 \n",
      " 6   reading score                1000 non-null   int64 \n",
      " 7   writing score                1000 non-null   int64 \n",
      "dtypes: int64(3), object(5)\n",
      "memory usage: 62.6+ KB\n"
     ]
    }
   ],
   "source": [
    "student.info()\n",
    "# null\n",
    "# dtype\n",
    "# columns"
   ]
  },
  {
   "cell_type": "code",
   "execution_count": 11,
   "id": "d8c73f23-abd6-4a72-bdb3-a36e9445d0ff",
   "metadata": {},
   "outputs": [
    {
     "data": {
      "text/html": [
       "<div>\n",
       "<style scoped>\n",
       "    .dataframe tbody tr th:only-of-type {\n",
       "        vertical-align: middle;\n",
       "    }\n",
       "\n",
       "    .dataframe tbody tr th {\n",
       "        vertical-align: top;\n",
       "    }\n",
       "\n",
       "    .dataframe thead th {\n",
       "        text-align: right;\n",
       "    }\n",
       "</style>\n",
       "<table border=\"1\" class=\"dataframe\">\n",
       "  <thead>\n",
       "    <tr style=\"text-align: right;\">\n",
       "      <th></th>\n",
       "      <th>gender</th>\n",
       "      <th>race/ethnicity</th>\n",
       "      <th>parental level of education</th>\n",
       "      <th>lunch</th>\n",
       "      <th>test preparation course</th>\n",
       "      <th>math score</th>\n",
       "      <th>reading score</th>\n",
       "      <th>writing score</th>\n",
       "    </tr>\n",
       "  </thead>\n",
       "  <tbody>\n",
       "    <tr>\n",
       "      <th>count</th>\n",
       "      <td>1000</td>\n",
       "      <td>1000</td>\n",
       "      <td>1000</td>\n",
       "      <td>1000</td>\n",
       "      <td>1000</td>\n",
       "      <td>1000.00000</td>\n",
       "      <td>1000.000000</td>\n",
       "      <td>1000.000000</td>\n",
       "    </tr>\n",
       "    <tr>\n",
       "      <th>unique</th>\n",
       "      <td>2</td>\n",
       "      <td>5</td>\n",
       "      <td>6</td>\n",
       "      <td>2</td>\n",
       "      <td>2</td>\n",
       "      <td>NaN</td>\n",
       "      <td>NaN</td>\n",
       "      <td>NaN</td>\n",
       "    </tr>\n",
       "    <tr>\n",
       "      <th>top</th>\n",
       "      <td>female</td>\n",
       "      <td>group C</td>\n",
       "      <td>some college</td>\n",
       "      <td>standard</td>\n",
       "      <td>none</td>\n",
       "      <td>NaN</td>\n",
       "      <td>NaN</td>\n",
       "      <td>NaN</td>\n",
       "    </tr>\n",
       "    <tr>\n",
       "      <th>freq</th>\n",
       "      <td>518</td>\n",
       "      <td>319</td>\n",
       "      <td>226</td>\n",
       "      <td>645</td>\n",
       "      <td>642</td>\n",
       "      <td>NaN</td>\n",
       "      <td>NaN</td>\n",
       "      <td>NaN</td>\n",
       "    </tr>\n",
       "    <tr>\n",
       "      <th>mean</th>\n",
       "      <td>NaN</td>\n",
       "      <td>NaN</td>\n",
       "      <td>NaN</td>\n",
       "      <td>NaN</td>\n",
       "      <td>NaN</td>\n",
       "      <td>66.08900</td>\n",
       "      <td>69.169000</td>\n",
       "      <td>68.054000</td>\n",
       "    </tr>\n",
       "    <tr>\n",
       "      <th>std</th>\n",
       "      <td>NaN</td>\n",
       "      <td>NaN</td>\n",
       "      <td>NaN</td>\n",
       "      <td>NaN</td>\n",
       "      <td>NaN</td>\n",
       "      <td>15.16308</td>\n",
       "      <td>14.600192</td>\n",
       "      <td>15.195657</td>\n",
       "    </tr>\n",
       "    <tr>\n",
       "      <th>min</th>\n",
       "      <td>NaN</td>\n",
       "      <td>NaN</td>\n",
       "      <td>NaN</td>\n",
       "      <td>NaN</td>\n",
       "      <td>NaN</td>\n",
       "      <td>0.00000</td>\n",
       "      <td>17.000000</td>\n",
       "      <td>10.000000</td>\n",
       "    </tr>\n",
       "    <tr>\n",
       "      <th>25%</th>\n",
       "      <td>NaN</td>\n",
       "      <td>NaN</td>\n",
       "      <td>NaN</td>\n",
       "      <td>NaN</td>\n",
       "      <td>NaN</td>\n",
       "      <td>57.00000</td>\n",
       "      <td>59.000000</td>\n",
       "      <td>57.750000</td>\n",
       "    </tr>\n",
       "    <tr>\n",
       "      <th>50%</th>\n",
       "      <td>NaN</td>\n",
       "      <td>NaN</td>\n",
       "      <td>NaN</td>\n",
       "      <td>NaN</td>\n",
       "      <td>NaN</td>\n",
       "      <td>66.00000</td>\n",
       "      <td>70.000000</td>\n",
       "      <td>69.000000</td>\n",
       "    </tr>\n",
       "    <tr>\n",
       "      <th>75%</th>\n",
       "      <td>NaN</td>\n",
       "      <td>NaN</td>\n",
       "      <td>NaN</td>\n",
       "      <td>NaN</td>\n",
       "      <td>NaN</td>\n",
       "      <td>77.00000</td>\n",
       "      <td>79.000000</td>\n",
       "      <td>79.000000</td>\n",
       "    </tr>\n",
       "    <tr>\n",
       "      <th>max</th>\n",
       "      <td>NaN</td>\n",
       "      <td>NaN</td>\n",
       "      <td>NaN</td>\n",
       "      <td>NaN</td>\n",
       "      <td>NaN</td>\n",
       "      <td>100.00000</td>\n",
       "      <td>100.000000</td>\n",
       "      <td>100.000000</td>\n",
       "    </tr>\n",
       "  </tbody>\n",
       "</table>\n",
       "</div>"
      ],
      "text/plain": [
       "        gender race/ethnicity parental level of education     lunch  \\\n",
       "count     1000           1000                        1000      1000   \n",
       "unique       2              5                           6         2   \n",
       "top     female        group C                some college  standard   \n",
       "freq       518            319                         226       645   \n",
       "mean       NaN            NaN                         NaN       NaN   \n",
       "std        NaN            NaN                         NaN       NaN   \n",
       "min        NaN            NaN                         NaN       NaN   \n",
       "25%        NaN            NaN                         NaN       NaN   \n",
       "50%        NaN            NaN                         NaN       NaN   \n",
       "75%        NaN            NaN                         NaN       NaN   \n",
       "max        NaN            NaN                         NaN       NaN   \n",
       "\n",
       "       test preparation course  math score  reading score  writing score  \n",
       "count                     1000  1000.00000    1000.000000    1000.000000  \n",
       "unique                       2         NaN            NaN            NaN  \n",
       "top                       none         NaN            NaN            NaN  \n",
       "freq                       642         NaN            NaN            NaN  \n",
       "mean                       NaN    66.08900      69.169000      68.054000  \n",
       "std                        NaN    15.16308      14.600192      15.195657  \n",
       "min                        NaN     0.00000      17.000000      10.000000  \n",
       "25%                        NaN    57.00000      59.000000      57.750000  \n",
       "50%                        NaN    66.00000      70.000000      69.000000  \n",
       "75%                        NaN    77.00000      79.000000      79.000000  \n",
       "max                        NaN   100.00000     100.000000     100.000000  "
      ]
     },
     "execution_count": 11,
     "metadata": {},
     "output_type": "execute_result"
    }
   ],
   "source": [
    "student.describe(include='all')"
   ]
  },
  {
   "cell_type": "markdown",
   "id": "9defa48f-74ad-4cd0-926d-11f4b39b7261",
   "metadata": {},
   "source": [
    "## 1. 시각화"
   ]
  },
  {
   "cell_type": "code",
   "execution_count": 12,
   "id": "6e313d5b-8f9d-4f3f-a4aa-d36be72ef9c5",
   "metadata": {},
   "outputs": [
    {
     "data": {
      "text/plain": [
       "gender  race/ethnicity\n",
       "female  group A            36\n",
       "        group B           104\n",
       "        group C           180\n",
       "        group D           129\n",
       "        group E            69\n",
       "male    group A            53\n",
       "        group B            86\n",
       "        group C           139\n",
       "        group D           133\n",
       "        group E            71\n",
       "Name: race/ethnicity, dtype: int64"
      ]
     },
     "metadata": {},
     "output_type": "display_data"
    }
   ],
   "source": [
    "# group\n",
    "group = student.groupby('gender')['race/ethnicity'].value_counts().sort_index()\n",
    "display(group)"
   ]
  },
  {
   "cell_type": "markdown",
   "id": "da711e07-cd93-45eb-9815-7b050ad72ecf",
   "metadata": {},
   "source": [
    "### 1-1. multiple bar plot"
   ]
  },
  {
   "cell_type": "code",
   "execution_count": 14,
   "id": "6cff6b25-03b2-46b8-9713-c88b67f77161",
   "metadata": {},
   "outputs": [
    {
     "data": {
      "image/png": "[encoded data removed]",
      "text/plain": [
       "<Figure size 1080x504 with 2 Axes>"
      ]
     },
     "metadata": {
      "needs_background": "light"
     },
     "output_type": "display_data"
    }
   ],
   "source": [
    "fig, axes = plt.subplots(1,2,figsize=(15,7))\n",
    "axes[0].bar(group['male'].index, group['male'], color='royalblue')\n",
    "axes[1].bar(group['female'].index, group['female'], color='tomato')\n",
    "plt.show()"
   ]
  },
  {
   "cell_type": "markdown",
   "id": "ff0d3d4f-e875-4158-aa5d-7bf435007882",
   "metadata": {},
   "source": [
    "위와 같은 경우 y축의 scale이 달라 직접 비교가 어려운 면이 있다.    \n",
    "sharey를 이용하여 y축 스케일을 공유할 수 있다."
   ]
  },
  {
   "cell_type": "code",
   "execution_count": 15,
   "id": "f7d2bc3f-b105-4146-acfc-8cbff51ca8a0",
   "metadata": {},
   "outputs": [
    {
     "data": {
      "image/png": "[encoded data removed]",
      "text/plain": [
       "<Figure size 1080x504 with 2 Axes>"
      ]
     },
     "metadata": {
      "needs_background": "light"
     },
     "output_type": "display_data"
    }
   ],
   "source": [
    "fig, axes = plt.subplots(1,2,figsize=(15,7), sharey=True)\n",
    "axes[0].bar(group['male'].index, group['male'], color='royalblue')\n",
    "axes[1].bar(group['female'].index, group['female'], color='tomato')\n",
    "plt.show()"
   ]
  },
  {
   "cell_type": "markdown",
   "id": "4da62fdc-8549-49ec-8ace-521612ae80cf",
   "metadata": {},
   "source": [
    "set_ylim을 이용하여 y축 범위를 직접 지정할 수도 있다."
   ]
  },
  {
   "cell_type": "code",
   "execution_count": 16,
   "id": "4536288d-25fb-4409-ba8c-152c795a7c6d",
   "metadata": {},
   "outputs": [
    {
     "data": {
      "image/png": "[encoded data removed]",
      "text/plain": [
       "<Figure size 1080x504 with 2 Axes>"
      ]
     },
     "metadata": {
      "needs_background": "light"
     },
     "output_type": "display_data"
    }
   ],
   "source": [
    "fig, axes = plt.subplots(1,2,figsize=(15,7))\n",
    "axes[0].bar(group['male'].index, group['male'], color='royalblue')\n",
    "axes[1].bar(group['female'].index, group['female'], color='tomato')\n",
    "\n",
    "for ax in axes :\n",
    "    ax.set_ylim(0,200)\n",
    "    \n",
    "plt.show()"
   ]
  },
  {
   "cell_type": "markdown",
   "id": "1d739e25-c9f5-4434-a53a-537fa59e9e62",
   "metadata": {},
   "source": [
    "group간 비교 (남성-여성)가 어려운 단점이 있음|"
   ]
  },
  {
   "cell_type": "markdown",
   "id": "c100ec48-5480-461f-a480-c61a2795a0dd",
   "metadata": {},
   "source": [
    "### 1-2. stacked bar plot"
   ]
  },
  {
   "cell_type": "code",
   "execution_count": 18,
   "id": "cf72fa2e-e3a9-406b-9b99-0133bafb67d6",
   "metadata": {},
   "outputs": [
    {
     "data": {
      "image/png": "[encoded data removed]",
      "text/plain": [
       "<Figure size 1080x504 with 2 Axes>"
      ]
     },
     "metadata": {
      "needs_background": "light"
     },
     "output_type": "display_data"
    }
   ],
   "source": [
    "fig, axes = plt.subplots(1,2,figsize=(15,7))\n",
    "group_cnt = student['race/ethnicity'].value_counts().sort_index()\n",
    "axes[0].bar(group_cnt.index, group_cnt, color='darkgray') #total\n",
    "axes[1].bar(group['male'].index, group['male'], color='royalblue')\n",
    "axes[1].bar(group['female'].index, group['female'], color='tomato', bottom=group['male']) # bottom\n",
    "\n",
    "plt.show()"
   ]
  },
  {
   "cell_type": "markdown",
   "id": "863736d5-6666-49f1-a335-3eaf6a5d3647",
   "metadata": {},
   "source": [
    "여성 데이터에 대한 비교가 어려움"
   ]
  },
  {
   "cell_type": "markdown",
   "id": "c88ce9e4-5f64-464e-b0fc-4c1707426e60",
   "metadata": {},
   "source": [
    "### 1-3. Percentage Stacked Bar plot"
   ]
  },
  {
   "cell_type": "code",
   "execution_count": 33,
   "id": "0a3ca489-f705-4c33-afa1-d4776720c9df",
   "metadata": {},
   "outputs": [
    {
     "data": {
      "image/png": "[encoded data removed]",
      "text/plain": [
       "<Figure size 864x504 with 1 Axes>"
      ]
     },
     "metadata": {
      "needs_background": "light"
     },
     "output_type": "display_data"
    }
   ],
   "source": [
    "fig, ax = plt.subplots(1,1,figsize=(12,7))\n",
    "\n",
    "group = group.sort_index(ascending=False)\n",
    "total = group['male'] + group['female']\n",
    "\n",
    "ax.barh(group['male'].index, group['male']/total, color='royalblue')\n",
    "ax.barh(group['female'].index, group['female']/total, left=group['male']/total, color='tomato')\n",
    "\n",
    "ax.set_xlim(0,1)\n",
    "for s in ['top','bottom','left','right']:\n",
    "    ax.spines[s].set_visible(False)\n",
    "\n",
    "plt.show()"
   ]
  },
  {
   "cell_type": "markdown",
   "id": "ed4303f4-cb2f-47eb-ac22-94729a627d24",
   "metadata": {},
   "source": [
    "### 1-4. overlapped bar plot"
   ]
  },
  {
   "cell_type": "code",
   "execution_count": 40,
   "id": "b99bd745-144f-4b0b-b995-1a7dd772c005",
   "metadata": {},
   "outputs": [
    {
     "data": {
      "text/plain": [
       "race/ethnicity\n",
       "group A     53\n",
       "group B     86\n",
       "group C    139\n",
       "group D    133\n",
       "group E     71\n",
       "Name: race/ethnicity, dtype: int64"
      ]
     },
     "execution_count": 40,
     "metadata": {},
     "output_type": "execute_result"
    }
   ],
   "source": [
    "group['male']"
   ]
  },
  {
   "cell_type": "code",
   "execution_count": 41,
   "id": "ae86494e-2a09-4ab4-8754-a4ad93a21f56",
   "metadata": {},
   "outputs": [
    {
     "data": {
      "image/png": "[encoded data removed]",
      "text/plain": [
       "<Figure size 864x864 with 4 Axes>"
      ]
     },
     "metadata": {
      "needs_background": "light"
     },
     "output_type": "display_data"
    }
   ],
   "source": [
    "group = group.sort_index()\n",
    "\n",
    "fig,axes = plt.subplots(2,2,figsize=(12,12))\n",
    "axes = axes.flatten()\n",
    "\n",
    "for idx, alpha in enumerate([1,0.7,0.5,0.3]):\n",
    "    axes[idx].bar(group['male'].index, group['male'], color='royalblue', alpha=alpha)\n",
    "    axes[idx].bar(group['female'].index, group['female'], color='tomato', alpha=alpha)\n",
    "    axes[idx].set_title(f'Alpha = {alpha}')\n",
    "    \n",
    "for ax in axes :\n",
    "    ax.set_ylim(0,200)\n",
    "\n",
    "plt.show()"
   ]
  },
  {
   "cell_type": "markdown",
   "id": "66f010c3-80fc-4a0a-a85c-7d6915ab8f11",
   "metadata": {},
   "source": [
    "### 1-5. grouped bar plot"
   ]
  },
  {
   "cell_type": "markdown",
   "id": "a35ea23d-8e55-4e7b-8dda-31d575a42bb5",
   "metadata": {},
   "source": [
    "- x축 조정\n",
    "- width 조정\n",
    "- xticks, xtickslabel\n",
    "\n",
    "ex)   \n",
    "원래 그래프의 x축이 0,1,2,3이라면,   \n",
    "- 하나는 0-width/2, 1-width/2, 2-width/2\n",
    "- 하나는 0+width/2, 1+width/2, 2+width/2으로 구성"
   ]
  },
  {
   "cell_type": "code",
   "execution_count": 50,
   "id": "043274ee-1a30-42de-a39d-e7130ddb0c28",
   "metadata": {},
   "outputs": [
    {
     "data": {
      "image/png": "[encoded data removed]",
      "text/plain": [
       "<Figure size 864x504 with 1 Axes>"
      ]
     },
     "metadata": {
      "needs_background": "light"
     },
     "output_type": "display_data"
    }
   ],
   "source": [
    "fig,ax = plt.subplots(1,1,figsize=(12,7))\n",
    "\n",
    "idx = np.arange(len(group['male'].index))\n",
    "width = 0.35\n",
    "\n",
    "ax.bar(idx-width/2, group['male'], color='royalblue', width=width, label='male')\n",
    "ax.bar(idx+width/2, group['female'], color='tomato', width=width, label='female')\n",
    "\n",
    "ax.set_xticks(idx)\n",
    "ax.set_xticklabels(group['male'].index)\n",
    "\n",
    "ax.legend()\n",
    "\n",
    "plt.show()"
   ]
  },
  {
   "cell_type": "markdown",
   "id": "5505be47-a784-4028-a679-3d7aab953bb5",
   "metadata": {},
   "source": [
    "# 정확한 bar plot"
   ]
  },
  {
   "cell_type": "code",
   "execution_count": 53,
   "id": "49d806e6-b724-4bda-879d-c1502dda0eb8",
   "metadata": {},
   "outputs": [
    {
     "data": {
      "text/html": [
       "<div>\n",
       "<style scoped>\n",
       "    .dataframe tbody tr th:only-of-type {\n",
       "        vertical-align: middle;\n",
       "    }\n",
       "\n",
       "    .dataframe tbody tr th {\n",
       "        vertical-align: top;\n",
       "    }\n",
       "\n",
       "    .dataframe thead th {\n",
       "        text-align: right;\n",
       "    }\n",
       "</style>\n",
       "<table border=\"1\" class=\"dataframe\">\n",
       "  <thead>\n",
       "    <tr style=\"text-align: right;\">\n",
       "      <th>gender</th>\n",
       "      <th>female</th>\n",
       "      <th>male</th>\n",
       "    </tr>\n",
       "  </thead>\n",
       "  <tbody>\n",
       "    <tr>\n",
       "      <th>math score</th>\n",
       "      <td>63.633205</td>\n",
       "      <td>68.728216</td>\n",
       "    </tr>\n",
       "    <tr>\n",
       "      <th>reading score</th>\n",
       "      <td>72.608108</td>\n",
       "      <td>65.473029</td>\n",
       "    </tr>\n",
       "    <tr>\n",
       "      <th>writing score</th>\n",
       "      <td>72.467181</td>\n",
       "      <td>63.311203</td>\n",
       "    </tr>\n",
       "  </tbody>\n",
       "</table>\n",
       "</div>"
      ],
      "text/plain": [
       "gender            female       male\n",
       "math score     63.633205  68.728216\n",
       "reading score  72.608108  65.473029\n",
       "writing score  72.467181  63.311203"
      ]
     },
     "execution_count": 53,
     "metadata": {},
     "output_type": "execute_result"
    }
   ],
   "source": [
    "score = student.groupby('gender').mean().T\n",
    "score"
   ]
  },
  {
   "cell_type": "code",
   "execution_count": 55,
   "id": "b099f3c6-9438-4600-ab04-48686e3f1536",
   "metadata": {},
   "outputs": [
    {
     "data": {
      "image/png": "[encoded data removed]",
      "text/plain": [
       "<Figure size 1080x504 with 2 Axes>"
      ]
     },
     "metadata": {
      "needs_background": "light"
     },
     "output_type": "display_data"
    }
   ],
   "source": [
    "fig, axes = plt.subplots(1,2,figsize=(15,7))\n",
    "\n",
    "idx = np.arange(len(score.index))\n",
    "width = 0.3\n",
    "\n",
    "for ax in axes :\n",
    "    ax.bar(idx-width/2, score['male'], color='royalblue', width=width)\n",
    "    ax.bar(idx+width/2, score['female'], color='tomato', width=width)\n",
    "    \n",
    "    ax.set_xticks(idx)\n",
    "    ax.set_xticklabels(score.index)\n",
    "    \n",
    "axes[0].set_ylim(60,75)\n",
    "\n",
    "plt.show()"
   ]
  },
  {
   "cell_type": "markdown",
   "id": "cc5bef7b-8c62-4ecd-95e3-4b96b4e569af",
   "metadata": {},
   "source": [
    "비교를 위해 y scale 조정"
   ]
  },
  {
   "cell_type": "markdown",
   "id": "03fa6b1e-6a81-409b-a76b-960352c2b430",
   "metadata": {},
   "source": [
    "## 1.scale"
   ]
  },
  {
   "cell_type": "code",
   "execution_count": 56,
   "id": "5ecd68b6-cfba-43fe-985e-397d7a0f66e4",
   "metadata": {},
   "outputs": [
    {
     "data": {
      "image/png": "[encoded data removed]",
      "text/plain": [
       "<Figure size 504x504 with 2 Axes>"
      ]
     },
     "metadata": {
      "needs_background": "light"
     },
     "output_type": "display_data"
    }
   ],
   "source": [
    "fig, axes = plt.subplots(1,2,figsize=(7,7))\n",
    "\n",
    "idx = np.arange(len(score.index))\n",
    "width = 0.3\n",
    "\n",
    "for ax in axes :\n",
    "    ax.bar(idx-width/2, score['male'], color='royalblue', width=width)\n",
    "    ax.bar(idx+width/2, score['female'], color='tomato', width=width)\n",
    "    \n",
    "    ax.set_xticks(idx)\n",
    "    ax.set_xticklabels(score.index)\n",
    "\n",
    "plt.show()"
   ]
  },
  {
   "cell_type": "markdown",
   "id": "1bfc5a9b-3396-4453-8605-6b6b64733b50",
   "metadata": {},
   "source": [
    "## 2.improve visual"
   ]
  },
  {
   "cell_type": "code",
   "execution_count": 63,
   "id": "46e3decf-f015-4d52-bb7e-e3571b397453",
   "metadata": {},
   "outputs": [
    {
     "data": {
      "image/png": "[encoded data removed]",
      "text/plain": [
       "<Figure size 1080x504 with 2 Axes>"
      ]
     },
     "metadata": {
      "needs_background": "light"
     },
     "output_type": "display_data"
    }
   ],
   "source": [
    "group_cnt = student['race/ethnicity'].value_counts().sort_index()\n",
    "fig, axes = plt.subplots(1,2,figsize=(15,7))\n",
    "\n",
    "axes[0].bar(group_cnt.index, group_cnt)\n",
    "axes[0].set_title('basic')\n",
    "axes[1].bar(group_cnt.index, group_cnt,\n",
    "            width=0.7,\n",
    "            edgecolor='black',\n",
    "            linewidth=2,\n",
    "            color='royalblue')\n",
    "axes[1].set_title('improve')\n",
    "\n",
    "axes[0].margins(0.1,0.1)\n",
    "axes[1].margins(0.1,0.1)\n",
    "\n",
    "axes[0].spines[['top', 'right']].set_visible(False)\n",
    "axes[1].spines[['top', 'right']].set_visible(False)\n",
    "\n",
    "\n",
    "plt.show()"
   ]
  },
  {
   "cell_type": "markdown",
   "id": "ce75665b-7806-4554-b60b-247dcd807299",
   "metadata": {},
   "source": [
    "## 3. grid & text"
   ]
  },
  {
   "cell_type": "code",
   "execution_count": null,
   "id": "4e06265f-4cdd-42bf-9e13-3ce9acb7efe3",
   "metadata": {},
   "outputs": [
    {
     "data": {
      "image/png": "[encoded data removed]",
      "text/plain": [
       "<Figure size 1080x504 with 2 Axes>"
      ]
     },
     "metadata": {
      "needs_background": "light"
     },
     "output_type": "display_data"
    }
   ],
   "source": [
    "group_cnt = student['race/ethnicity'].value_counts().sort_index()\n",
    "fig, axes = plt.subplots(1,2,figsize=(15,7))\n",
    "\n",
    "axes[0].bar(group_cnt.index, group_cnt)\n",
    "axes[0].set_title('basic')\n",
    "\n",
    "axes[1].bar(group_cnt.index, group_cnt,\n",
    "            width=0.7,\n",
    "            edgecolor='black',\n",
    "            linewidth=2,\n",
    "            color='royalblue',\n",
    "            zorder=2)\n",
    "axes[1].set_title('improve')\n",
    "\n",
    "axes[0].margins(0.1,0.1)\n",
    "axes[1].margins(0.1,0.1)\n",
    "\n",
    "axes[0].spines[['top', 'right']].set_visible(False)\n",
    "axes[1].spines[['top', 'right']].set_visible(False)\n",
    "\n",
    "axes[1].grid(zorder=0)\n",
    "\n",
    "for idx, value in zip(group_cnt.index, group_cnt):\n",
    "    axes[1].text(idx, value+5, s=value, ha='center', fontweight='bold')\n",
    "\n",
    "plt.show()"
   ]
  },
  {
   "cell_type": "markdown",
   "id": "45222311-d239-4b5a-a080-bdcee622d688",
   "metadata": {},
   "source": [
    "## 4. etc"
   ]
  },
  {
   "cell_type": "code",
   "execution_count": 75,
   "id": "de68675e-ed90-43cc-ad0b-8ded6e1fc948",
   "metadata": {},
   "outputs": [
    {
     "data": {
      "text/html": [
       "<div>\n",
       "<style scoped>\n",
       "    .dataframe tbody tr th:only-of-type {\n",
       "        vertical-align: middle;\n",
       "    }\n",
       "\n",
       "    .dataframe tbody tr th {\n",
       "        vertical-align: top;\n",
       "    }\n",
       "\n",
       "    .dataframe thead th {\n",
       "        text-align: right;\n",
       "    }\n",
       "</style>\n",
       "<table border=\"1\" class=\"dataframe\">\n",
       "  <thead>\n",
       "    <tr style=\"text-align: right;\">\n",
       "      <th>gender</th>\n",
       "      <th>female</th>\n",
       "      <th>male</th>\n",
       "    </tr>\n",
       "  </thead>\n",
       "  <tbody>\n",
       "    <tr>\n",
       "      <th>math score</th>\n",
       "      <td>15.491453</td>\n",
       "      <td>14.356277</td>\n",
       "    </tr>\n",
       "    <tr>\n",
       "      <th>reading score</th>\n",
       "      <td>14.378245</td>\n",
       "      <td>13.931832</td>\n",
       "    </tr>\n",
       "    <tr>\n",
       "      <th>writing score</th>\n",
       "      <td>14.844842</td>\n",
       "      <td>14.113832</td>\n",
       "    </tr>\n",
       "  </tbody>\n",
       "</table>\n",
       "</div>"
      ],
      "text/plain": [
       "gender            female       male\n",
       "math score     15.491453  14.356277\n",
       "reading score  14.378245  13.931832\n",
       "writing score  14.844842  14.113832"
      ]
     },
     "execution_count": 75,
     "metadata": {},
     "output_type": "execute_result"
    }
   ],
   "source": [
    "score_var = student.groupby('gender').std().T\n",
    "score_var"
   ]
  },
  {
   "cell_type": "code",
   "execution_count": 84,
   "id": "ce7df4d8-e9f0-418f-b211-0ecf3655823b",
   "metadata": {},
   "outputs": [
    {
     "data": {
      "image/png": "[encoded data removed]",
      "text/plain": [
       "<Figure size 720x720 with 1 Axes>"
      ]
     },
     "metadata": {
      "needs_background": "light"
     },
     "output_type": "display_data"
    }
   ],
   "source": [
    "fig, ax = plt.subplots(1,1,figsize=(10,10))\n",
    "\n",
    "idx = np.arange(len(score.index))\n",
    "width = 0.3\n",
    "\n",
    "ax.bar(idx-width/2, score['male'],\n",
    "       color='royalblue',\n",
    "       width=width,\n",
    "       label='Male',\n",
    "       yerr = score_var['male'],\n",
    "       capsize=10\n",
    "       )\n",
    "\n",
    "ax.bar(idx+width/2, score['female'],\n",
    "       color='tomato',\n",
    "       width=width,\n",
    "       label='Female',\n",
    "       yerr = score_var['female'],\n",
    "       capsize=10\n",
    "       )\n",
    "\n",
    "ax.set_xticks(idx)\n",
    "ax.set_xticklabels(score.index)\n",
    "\n",
    "ax.set_ylim(0,100)\n",
    "ax.spines[['top', 'right']].set_visible(False)\n",
    "\n",
    "ax.legend()\n",
    "ax.set_title('Gender / Score', fontsize=20)\n",
    "plt.show()"
   ]
  },
  {
   "cell_type": "code",
   "execution_count": null,
   "id": "aa37e862-3b00-4cd1-9b52-2d74287e9eab",
   "metadata": {},
   "outputs": [],
   "source": []
  }
 ],
 "metadata": {
  "kernelspec": {
   "display_name": "Python 3 (ipykernel)",
   "language": "python",
   "name": "python3"
  },
  "language_info": {
   "codemirror_mode": {
    "name": "ipython",
    "version": 3
   },
   "file_extension": ".py",
   "mimetype": "text/x-python",
   "name": "python",
   "nbconvert_exporter": "python",
   "pygments_lexer": "ipython3",
   "version": "3.8.12"
  }
 },
 "nbformat": 4,
 "nbformat_minor": 5
}
