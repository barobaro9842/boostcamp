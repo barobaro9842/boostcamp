{
 "cells": [
  {
   "cell_type": "markdown",
   "id": "f16b898a-1ce0-4f26-87c5-91c34771d499",
   "metadata": {},
   "source": [
    "# OOP(객체 지향 프로그래밍)"
   ]
  },
  {
   "cell_type": "markdown",
   "id": "cd5751be-0b70-4fd3-a0f4-afefe12dd71d",
   "metadata": {},
   "source": [
    "- 실생활에서 일종의 물건 속성(Attribute)과 행동(Action)을 가짐\n",
    "- OOP는 이러한 객체 개념을 프로그램으로 표현\n",
    "- 속성은 변수, 행동은 함수로 표현\n",
    "- 변수와 Class명 함수명은 짓는 방식이 존재 : snake_case(함수/변수명), CamelCase(클래스명)"
   ]
  },
  {
   "cell_type": "code",
   "execution_count": 18,
   "id": "00384cab-81ab-4e3d-b43b-eb11a3513cc0",
   "metadata": {},
   "outputs": [],
   "source": [
    "class SoccerPlayer(object):\n",
    "    def __init__(self, name, position, back_number): # class의 attribute를 최초 선언\n",
    "        self.name = name\n",
    "        self.position = position\n",
    "        self.back_number = back_number\n",
    "        \n",
    "    def change_back_number(self, new_number): # backnumber를 수정하는 '기능'\n",
    "        print(f\"선수의 등번호를 변경합니다. : From {self.back_number} to {new_number}\")\n",
    "        self.back_number = new_number\n",
    "    def __str__(self) : #print함수 사용시 해당 문자열 return\n",
    "        return \"Hello, My name is %s. I play in %s in center\"%(self.name, self.position)"
   ]
  },
  {
   "cell_type": "code",
   "execution_count": 19,
   "id": "f5ba6c8d-ec79-4e30-8a75-266ee1cf8e59",
   "metadata": {},
   "outputs": [],
   "source": [
    "park = SoccerPlayer('park', 'mid', '7')"
   ]
  },
  {
   "cell_type": "code",
   "execution_count": 21,
   "id": "690d9ba6-2de3-4159-9d9c-1a944788a71a",
   "metadata": {},
   "outputs": [
    {
     "name": "stdout",
     "output_type": "stream",
     "text": [
      "선수의 등번호를 변경합니다. : From 7 to 10\n"
     ]
    }
   ],
   "source": [
    "park.change_back_number(10)"
   ]
  },
  {
   "cell_type": "code",
   "execution_count": 22,
   "id": "8a548bf9-be6f-4993-bc17-8372b64a4d59",
   "metadata": {},
   "outputs": [
    {
     "data": {
      "text/plain": [
       "10"
      ]
     },
     "execution_count": 22,
     "metadata": {},
     "output_type": "execute_result"
    }
   ],
   "source": [
    "park.back_number"
   ]
  },
  {
   "cell_type": "code",
   "execution_count": 20,
   "id": "104695d4-67f5-4350-8f9b-d7c24498b340",
   "metadata": {},
   "outputs": [
    {
     "name": "stdout",
     "output_type": "stream",
     "text": [
      "Hello, My name is messi. I play in mid in center\n"
     ]
    }
   ],
   "source": [
    "messi = SoccerPlayer(\"messi\", \"mid\", \"10\")\n",
    "print(messi)"
   ]
  },
  {
   "cell_type": "code",
   "execution_count": 23,
   "id": "9dc81091-c91e-4a25-9e29-270e566ffd5f",
   "metadata": {},
   "outputs": [],
   "source": [
    "class Note():\n",
    "    def __init__(self, content=None):\n",
    "        self.content = content\n",
    "    def write_content(self, content):\n",
    "        self.content = content\n",
    "    def remove_all(self):\n",
    "        self.content = \"\"\n",
    "    def __add__(self, other):\n",
    "        return self.content + other.content\n",
    "    def __str__(self):\n",
    "        return self.content"
   ]
  },
  {
   "cell_type": "code",
   "execution_count": 24,
   "id": "78156f19-dada-4c1b-86ea-b01a48708690",
   "metadata": {},
   "outputs": [],
   "source": [
    "class Notebook():\n",
    "    def __init__(self, title):\n",
    "        self.title = title\n",
    "        self.page_number = 1\n",
    "        self.notes = {}\n",
    "        \n",
    "    def add_note(self, note, page = 0):\n",
    "        if self.page_number < 300 :\n",
    "            if page == 0 :\n",
    "                self.notes[self.page_number] = note\n",
    "                self.page_number += 1\n",
    "            else :\n",
    "                self.notes = {page:note}\n",
    "                self.page_number += 1\n",
    "        else :\n",
    "            print(\"Page가 모두 채워졌습니다.\")\n",
    "    \n",
    "    def remove_note(self, page_number) :\n",
    "        if page_number in self.notes.keys():\n",
    "            return self.notes.pop(page_number)\n",
    "        else :\n",
    "            print(\"해당페이지는 존재하지 않습니다.\")\n",
    "    \n",
    "    def get_number_of_pages(self):\n",
    "        return len(self.notes.keys())"
   ]
  },
  {
   "cell_type": "markdown",
   "id": "31d76148-96fd-47ca-8d3e-893d44054f69",
   "metadata": {},
   "source": [
    "## 상속"
   ]
  },
  {
   "cell_type": "markdown",
   "id": "aac00720-86c3-4d30-a7ea-554458f6897d",
   "metadata": {},
   "source": [
    "- 부모클래스로부터 속성과 method를 물려받는 자식 클래스 생성"
   ]
  },
  {
   "cell_type": "code",
   "execution_count": 49,
   "id": "4157513e-c431-49f5-8c04-2e5308801c18",
   "metadata": {},
   "outputs": [
    {
     "name": "stdout",
     "output_type": "stream",
     "text": [
      "Sungchul\n"
     ]
    }
   ],
   "source": [
    "class Person(object) :\n",
    "    def __init__(self, name, age, gender):\n",
    "        self.name = name\n",
    "        self.age = age\n",
    "    def about_me(self):\n",
    "        print(f\"name : {self.name} / age : {str(self.age)}\")\n",
    "        \n",
    "class Korean(Person) :\n",
    "    pass\n",
    "\n",
    "first_korean = Korean(\"Sungchul\", 35, \"Male\")\n",
    "print(first_korean.name)"
   ]
  },
  {
   "cell_type": "code",
   "execution_count": 56,
   "id": "56914b49-4424-4f45-9c07-9509c3fe9eb7",
   "metadata": {},
   "outputs": [],
   "source": [
    "class Employee(Person) :\n",
    "    def __init__(self, name, age, gender, salary, hire_date):\n",
    "        super().__init__(name,age,gender)\n",
    "        self.salary = salary\n",
    "        self.hire_date = hire_date\n",
    "    \n",
    "    def do_word(self):\n",
    "        print(\"열심히 일을 합니다.\")\n",
    "    \n",
    "    def about_me(self): #부모클래스 함수 재정의\n",
    "        super().about_me() #부모 클래스 함수 사용\n",
    "        print(\"제 급여는 \", self.salary, \"원 이구요, 제 입사일은\", self.hire_date, \"입니다.\")"
   ]
  },
  {
   "cell_type": "code",
   "execution_count": 57,
   "id": "288e67ad-205a-4400-8397-4f3f1b566922",
   "metadata": {},
   "outputs": [],
   "source": [
    "jeong = Employee(\"Daeho\", 34, \"Male\", 300000, \"2012/03/01\")"
   ]
  },
  {
   "cell_type": "code",
   "execution_count": 58,
   "id": "f9458ea3-66ba-46d7-b9bd-0f52d53d12a6",
   "metadata": {},
   "outputs": [
    {
     "name": "stdout",
     "output_type": "stream",
     "text": [
      "name : Daeho / age : 34\n",
      "제 급여는  300000 원 이구요, 제 입사일은 2012/03/01 입니다.\n"
     ]
    }
   ],
   "source": [
    "jeong.about_me()"
   ]
  },
  {
   "cell_type": "markdown",
   "id": "22c3a3c0-16d4-4cfb-a629-185624280d10",
   "metadata": {},
   "source": [
    "## 다형성(Polymorphism)"
   ]
  },
  {
   "cell_type": "markdown",
   "id": "e1427845-9874-48a3-bb96-de7d23905a8e",
   "metadata": {},
   "source": [
    "- 같은 이름의 메소드의 내부 로직을 다르게 작성"
   ]
  },
  {
   "cell_type": "code",
   "execution_count": 65,
   "id": "8b0e8b8d-6b97-41d1-afdf-4482d4a97211",
   "metadata": {},
   "outputs": [],
   "source": [
    "class Animal :\n",
    "    def __init__(self, name):\n",
    "        self.name = name\n",
    "    \n",
    "    def talk(self) :\n",
    "        raise NotImplementedError(\"Subclass must implement abstract method\")\n",
    "        \n",
    "class Cat(Animal):\n",
    "    def talk(self):\n",
    "        return 'Mew!'\n",
    "\n",
    "class Dog(Animal) :\n",
    "    def talk(self):\n",
    "        return \"Woof!\""
   ]
  },
  {
   "cell_type": "code",
   "execution_count": 66,
   "id": "8a2deb91-6e1b-492c-9aae-17b3ceb811d2",
   "metadata": {},
   "outputs": [],
   "source": [
    "animals = [Cat('navi'), Dog('kane')]"
   ]
  },
  {
   "cell_type": "code",
   "execution_count": 67,
   "id": "7d76173a-be0c-4483-a83c-288ae44f4f53",
   "metadata": {},
   "outputs": [
    {
     "name": "stdout",
     "output_type": "stream",
     "text": [
      "Mew!\n",
      "Woof!\n"
     ]
    }
   ],
   "source": [
    "for animal in animals :\n",
    "    print(animal.talk())"
   ]
  },
  {
   "cell_type": "markdown",
   "id": "bf51c41e-67dc-4f7f-8258-612dcca0dd06",
   "metadata": {},
   "source": [
    "## 가시성(Visibility)"
   ]
  },
  {
   "cell_type": "markdown",
   "id": "a0e19ac4-4b4c-4ad9-bf45-1f0288b47b32",
   "metadata": {},
   "source": [
    "- 객체의 정보를 볼 수 있는 레벨을 조절\n",
    "- 캡슐화 또는 정보 은닉\n",
    "- 클래스를 설계할 때 클래스 간 간섭/정보공유의 최소화"
   ]
  },
  {
   "cell_type": "code",
   "execution_count": 71,
   "id": "c2f93106-522b-4b1d-81f6-a21f7cbc9b12",
   "metadata": {},
   "outputs": [],
   "source": [
    "class Product(object):\n",
    "    pass\n",
    "\n",
    "class Inventory(object):\n",
    "    def __init__(self):\n",
    "        self.__items = [] #__ Private 선언 : 외부에서 접근 불가\n",
    "    \n",
    "    def add_new_item(self, product):\n",
    "        if type(product) == Product :\n",
    "            self.__items.append(product)\n",
    "            print(\"new item added\")\n",
    "        else :\n",
    "            raise ValueError(\"Invalid Item\")\n",
    "    \n",
    "    def get_number_of_items(self):\n",
    "        return len(self.__items)"
   ]
  },
  {
   "cell_type": "code",
   "execution_count": 73,
   "id": "7f5e112c-85d1-4ade-98c5-47abeb5db593",
   "metadata": {},
   "outputs": [
    {
     "name": "stdout",
     "output_type": "stream",
     "text": [
      "new item added\n",
      "new item added\n",
      "2\n"
     ]
    },
    {
     "ename": "AttributeError",
     "evalue": "'Inventory' object has no attribute '__items'",
     "output_type": "error",
     "traceback": [
      "\u001b[0;31m---------------------------------------------------------------------------\u001b[0m",
      "\u001b[0;31mAttributeError\u001b[0m                            Traceback (most recent call last)",
      "\u001b[0;32m/var/folders/3k/05vd5sp53wbgspztyxv0ksfm0000gn/T/ipykernel_31430/3649207334.py\u001b[0m in \u001b[0;36m<module>\u001b[0;34m\u001b[0m\n\u001b[1;32m      3\u001b[0m \u001b[0mmy_inventory\u001b[0m\u001b[0;34m.\u001b[0m\u001b[0madd_new_item\u001b[0m\u001b[0;34m(\u001b[0m\u001b[0mProduct\u001b[0m\u001b[0;34m(\u001b[0m\u001b[0;34m)\u001b[0m\u001b[0;34m)\u001b[0m\u001b[0;34m\u001b[0m\u001b[0;34m\u001b[0m\u001b[0m\n\u001b[1;32m      4\u001b[0m \u001b[0mprint\u001b[0m\u001b[0;34m(\u001b[0m\u001b[0mmy_inventory\u001b[0m\u001b[0;34m.\u001b[0m\u001b[0mget_number_of_items\u001b[0m\u001b[0;34m(\u001b[0m\u001b[0;34m)\u001b[0m\u001b[0;34m)\u001b[0m\u001b[0;34m\u001b[0m\u001b[0;34m\u001b[0m\u001b[0m\n\u001b[0;32m----> 5\u001b[0;31m \u001b[0mprint\u001b[0m\u001b[0;34m(\u001b[0m\u001b[0mmy_inventory\u001b[0m\u001b[0;34m.\u001b[0m\u001b[0m__items\u001b[0m\u001b[0;34m)\u001b[0m \u001b[0;31m#접근 불가\u001b[0m\u001b[0;34m\u001b[0m\u001b[0;34m\u001b[0m\u001b[0m\n\u001b[0m\u001b[1;32m      6\u001b[0m \u001b[0mmy_inventory\u001b[0m\u001b[0;34m.\u001b[0m\u001b[0madd_new_item\u001b[0m\u001b[0;34m(\u001b[0m\u001b[0mobject\u001b[0m\u001b[0;34m)\u001b[0m\u001b[0;34m\u001b[0m\u001b[0;34m\u001b[0m\u001b[0m\n",
      "\u001b[0;31mAttributeError\u001b[0m: 'Inventory' object has no attribute '__items'"
     ]
    }
   ],
   "source": [
    "my_inventory = Inventory()\n",
    "my_inventory.add_new_item(Product())\n",
    "my_inventory.add_new_item(Product())\n",
    "print(my_inventory.get_number_of_items())\n",
    "print(my_inventory.__items) #접근 불가\n",
    "my_inventory.add_new_item(object)"
   ]
  },
  {
   "cell_type": "code",
   "execution_count": 82,
   "id": "1d0f5b97-e791-4220-b739-f8c1f66909cb",
   "metadata": {},
   "outputs": [
    {
     "name": "stdout",
     "output_type": "stream",
     "text": [
      "new item added\n",
      "new item added\n",
      "2\n"
     ]
    }
   ],
   "source": [
    "class Inventory(object):\n",
    "    def __init__(self):\n",
    "        self.__items = []\n",
    "    \n",
    "    @property #숨겨진 변수를 반환\n",
    "    def items(self):\n",
    "        return self.__items\n",
    "    \n",
    "    def add_new_item(self, product):\n",
    "        if type(product) == Product :\n",
    "            self.__items.append(product)\n",
    "            print(\"new item added\")\n",
    "        else :\n",
    "            raise ValueError(\"Invalid Item\")\n",
    "    \n",
    "    def get_number_of_items(self):\n",
    "        return len(self.__items)\n",
    "    \n",
    "\n",
    "my_inventory = Inventory()\n",
    "my_inventory.add_new_item(Product())\n",
    "my_inventory.add_new_item(Product())\n",
    "print(my_inventory.get_number_of_items())"
   ]
  },
  {
   "cell_type": "code",
   "execution_count": 90,
   "id": "2f860ce1-392b-4795-a2de-d483f55b2064",
   "metadata": {},
   "outputs": [
    {
     "name": "stdout",
     "output_type": "stream",
     "text": [
      "9\n"
     ]
    }
   ],
   "source": [
    "# 직접접근\n",
    "items = my_inventory.items\n",
    "items.append(Product())\n",
    "print(my_inventory.get_number_of_items())"
   ]
  },
  {
   "cell_type": "markdown",
   "id": "728ba26a-1292-416d-b5b4-cf7269e9b12b",
   "metadata": {},
   "source": [
    "# 데코레이터"
   ]
  },
  {
   "cell_type": "markdown",
   "id": "6c3ecb3e-4d55-4488-b997-49b5279fb5c9",
   "metadata": {},
   "source": [
    "## First-class objects"
   ]
  },
  {
   "cell_type": "markdown",
   "id": "21d1de4d-fa30-4646-a19e-967c5f4a200c",
   "metadata": {},
   "source": [
    "- 일등함수 또는 일급 객체\n",
    "- 변수나 데이터 구조에 할당이 가능한 객체\n",
    "- 파라메터로 전달이 가능 + 리턴 값으로 사용"
   ]
  },
  {
   "cell_type": "code",
   "execution_count": 92,
   "id": "ae702e5d-886a-4519-8a8d-adebca148863",
   "metadata": {},
   "outputs": [
    {
     "data": {
      "text/plain": [
       "10"
      ]
     },
     "execution_count": 92,
     "metadata": {},
     "output_type": "execute_result"
    }
   ],
   "source": [
    "def square(x):\n",
    "    return x+x\n",
    "\n",
    "f = square #함수를 변수로 사용\n",
    "f(5)"
   ]
  },
  {
   "cell_type": "code",
   "execution_count": 96,
   "id": "c645e34f-ea11-4f5b-9a2c-b222920ca77f",
   "metadata": {},
   "outputs": [],
   "source": [
    "def square(x):\n",
    "    return x * x\n",
    "\n",
    "def cube(x) :\n",
    "    return x * x * x\n",
    "\n",
    "def formular(method, argument_list):\n",
    "    return [method(value) for value in argument_list]"
   ]
  },
  {
   "cell_type": "code",
   "execution_count": 100,
   "id": "3d0a9452-bdd4-487d-b102-e903f8cd975f",
   "metadata": {},
   "outputs": [
    {
     "data": {
      "text/plain": [
       "[1, 8, 27, 64]"
      ]
     },
     "execution_count": 100,
     "metadata": {},
     "output_type": "execute_result"
    }
   ],
   "source": [
    "formular(cube, [1,2,3,4])"
   ]
  },
  {
   "cell_type": "markdown",
   "id": "4de7f7a3-1264-4962-9b85-05824002a33f",
   "metadata": {},
   "source": [
    "- 함수 내에 또 다른 함수가 존재"
   ]
  },
  {
   "cell_type": "code",
   "execution_count": 109,
   "id": "550ca357-7d32-408e-9526-a62bf8857256",
   "metadata": {},
   "outputs": [],
   "source": [
    "def print_msg(msg) :\n",
    "    def printer():\n",
    "        print(msg)\n",
    "    return printer\n",
    "    \n",
    "another = print_msg(\"Hell python\")"
   ]
  },
  {
   "cell_type": "code",
   "execution_count": 110,
   "id": "6836d369-8f98-4dc6-8879-ee3d56a4ddef",
   "metadata": {},
   "outputs": [
    {
     "name": "stdout",
     "output_type": "stream",
     "text": [
      "Hell python\n"
     ]
    }
   ],
   "source": [
    "another()"
   ]
  },
  {
   "cell_type": "code",
   "execution_count": 111,
   "id": "ad96c7e5-0c00-4fb1-b8e8-6f9dccdb95bf",
   "metadata": {},
   "outputs": [],
   "source": [
    "def tag_func(tag, text):\n",
    "    text = text\n",
    "    tag = tag\n",
    "    \n",
    "    def inner_func():\n",
    "        return '<{0}>{1}<{0}>'.format(tag,text)\n",
    "    \n",
    "    return inner_func\n",
    "\n",
    "h1_func = tag_func('title', 'This is Python Class')\n",
    "p_func = tag_func('p', 'Data Academy')"
   ]
  },
  {
   "cell_type": "markdown",
   "id": "d75d7448-70fd-4226-abc0-6ce6dc4541ca",
   "metadata": {},
   "source": [
    "데코레이터 = 복잡한 클로져 함수를 간단하게"
   ]
  },
  {
   "cell_type": "code",
   "execution_count": 112,
   "id": "8bb26ea7-a7d3-4b08-93d7-29703a0a2171",
   "metadata": {},
   "outputs": [
    {
     "name": "stdout",
     "output_type": "stream",
     "text": [
      "******************************\n",
      "Hello\n",
      "******************************\n"
     ]
    }
   ],
   "source": [
    "def star(func) :\n",
    "    def inner(*args, **kwargs):\n",
    "        print(\"*\" * 30)\n",
    "        func(*args, **kwargs)\n",
    "        print(\"*\" * 30)\n",
    "    return inner\n",
    "\n",
    "@star\n",
    "def printer(msg):\n",
    "    print(msg)\n",
    "printer(\"Hello\")"
   ]
  },
  {
   "cell_type": "code",
   "execution_count": 116,
   "id": "824b9ebd-28e8-4cce-bfdf-6eb81216c0c0",
   "metadata": {},
   "outputs": [],
   "source": [
    "def generate_power(exponent):\n",
    "    def wrapper(f):\n",
    "        def inner(*args):\n",
    "            result = f(*args)\n",
    "            return exponent**result\n",
    "        return inner\n",
    "    return wrapper\n",
    "\n",
    "@generate_power(2)\n",
    "def raise_two(n):\n",
    "    return n**2"
   ]
  },
  {
   "cell_type": "code",
   "execution_count": 127,
   "id": "736b7538-6b90-47f4-9d4e-9e9d986c332a",
   "metadata": {},
   "outputs": [
    {
     "name": "stdout",
     "output_type": "stream",
     "text": [
      "512\n"
     ]
    }
   ],
   "source": [
    "print(raise_two(3))"
   ]
  },
  {
   "cell_type": "code",
   "execution_count": null,
   "id": "6cdf5168-77e4-4e9a-8b9e-8e17f199504e",
   "metadata": {},
   "outputs": [],
   "source": []
  }
 ],
 "metadata": {
  "kernelspec": {
   "display_name": "Python 3 (ipykernel)",
   "language": "python",
   "name": "python3"
  },
  "language_info": {
   "codemirror_mode": {
    "name": "ipython",
    "version": 3
   },
   "file_extension": ".py",
   "mimetype": "text/x-python",
   "name": "python",
   "nbconvert_exporter": "python",
   "pygments_lexer": "ipython3",
   "version": "3.8.12"
  }
 },
 "nbformat": 4,
 "nbformat_minor": 5
}
