{
 "cells": [
  {
   "cell_type": "raw",
   "id": "bcc7e21d-83ad-4f7b-994e-04f4915fd20d",
   "metadata": {},
   "source": [
    "# 문자열(String)"
   ]
  },
  {
   "cell_type": "markdown",
   "id": "673b1810-eecb-4305-b0d5-949d7fa4f9dc",
   "metadata": {},
   "source": [
    "- 시퀀스 자료형으로 문자형 data를 메모리에 저장\n",
    "- 영문자 한글자는 1byte의 메모리 공간을 사용"
   ]
  },
  {
   "cell_type": "code",
   "execution_count": 10,
   "id": "12172e49-647c-4001-887d-2ba78aaeeb0d",
   "metadata": {},
   "outputs": [
    {
     "name": "stdout",
     "output_type": "stream",
     "text": [
      "50 51 52\n"
     ]
    }
   ],
   "source": [
    "# 문자열의 메모리 사이즈 (bytes)\n",
    "import sys\n",
    "print(sys.getsizeof(\"a\"), sys.getsizeof(\"ab\"), sys.getsizeof(\"abc\"))"
   ]
  },
  {
   "cell_type": "code",
   "execution_count": 12,
   "id": "8e8faac5-a309-4679-b547-6527eb2f71d7",
   "metadata": {},
   "outputs": [
    {
     "data": {
      "text/plain": [
       "\u001b[0;31mDocstring:\u001b[0m\n",
       "getsizeof(object [, default]) -> int\n",
       "\n",
       "Return the size of object in bytes.\n",
       "\u001b[0;31mType:\u001b[0m      builtin_function_or_method\n"
      ]
     },
     "metadata": {},
     "output_type": "display_data"
    }
   ],
   "source": [
    "sys.getsizeof?"
   ]
  },
  {
   "cell_type": "code",
   "execution_count": 18,
   "id": "5d15b206-f05a-4b23-ad73-5e23e607772d",
   "metadata": {},
   "outputs": [
    {
     "name": "stdout",
     "output_type": "stream",
     "text": [
      "a e\n",
      "e a\n"
     ]
    }
   ],
   "source": [
    "#문자열 인덱싱 (리스트와 동일)\n",
    "a = \"abcde\"\n",
    "print(a[0], a[4])\n",
    "print(a[-1],a[-5])"
   ]
  },
  {
   "cell_type": "code",
   "execution_count": 19,
   "id": "48552579-fcfd-4ebc-948c-e15454090e50",
   "metadata": {},
   "outputs": [
    {
     "name": "stdout",
     "output_type": "stream",
     "text": [
      "Artifi  AND   Learning\n",
      "Artificial Intelligence and Machine Learning\n",
      "Atfca nelgneadMcieLann\n",
      "gninraeL enihcaM dna ecnegilletnI laicifitrA\n"
     ]
    }
   ],
   "source": [
    "#문자열 슬라이싱 (리스트와 동일)\n",
    "a = \"Artificial Intelligence and Machine Learning\"\n",
    "print(a[0:6], \" AND \", a[-9:])\n",
    "print(a[:])\n",
    "print(a[::2])\n",
    "print(a[::-1])"
   ]
  },
  {
   "cell_type": "code",
   "execution_count": 21,
   "id": "85465c11-7f89-4498-90ef-6cd1e3bdf519",
   "metadata": {},
   "outputs": [
    {
     "name": "stdout",
     "output_type": "stream",
     "text": [
      "TEAM LAB\n",
      "False\n",
      "TEAMTEAM LABLABLAB\n"
     ]
    }
   ],
   "source": [
    "# +, *, in 등의 연산 가능\n",
    "a = \"TEAM\"\n",
    "b = \"LAB\"\n",
    "print(a + \" \" + b)\n",
    "print(a in b)\n",
    "print(a*2 + \" \" + b*3)"
   ]
  },
  {
   "cell_type": "code",
   "execution_count": 36,
   "id": "4b06fbf3-7250-4cb5-beb8-1de4164130ec",
   "metadata": {},
   "outputs": [
    {
     "name": "stdout",
     "output_type": "stream",
     "text": [
      "19\n",
      "THIS IS TEST STRING\n",
      "this is test string\n",
      "This is test string\n",
      "This Is Test String\n",
      "4\n"
     ]
    }
   ],
   "source": [
    "# 문자열 함수\n",
    "a = \"this is test string\"\n",
    "print(len(a)) #길이\n",
    "print(a.upper()) #대문자\n",
    "print(a.lower()) #소문자\n",
    "print(a.capitalize()) #첫글자대문자\n",
    "print(a.title()) #제목 형태, 단어의 첫글자 대문자\n",
    "print(a.count('t')) #문자열에 't'가 들어간 횟수"
   ]
  },
  {
   "cell_type": "code",
   "execution_count": 40,
   "id": "099dd89b-3dcd-498c-ba3e-c125e6268513",
   "metadata": {},
   "outputs": [
    {
     "name": "stdout",
     "output_type": "stream",
     "text": [
      "3\n",
      "13\n",
      "False\n",
      "True\n",
      "this is test string\n",
      "this is test string\n",
      "this is test string\n",
      "['this', 'is', 'test', 'string']\n",
      "['th', 's ', 's test str', 'ng']\n"
     ]
    }
   ],
   "source": [
    "print(a.find('s')) #첫번째 s 인덱스\n",
    "print(a.rfind('s')) #마지막 s 인덱스\n",
    "print(a.startswith('i')) #해당 글자로 시작하는지 여부 bool\n",
    "print(a.endswith('g'))\n",
    "print(a.strip()) #좌우 공백제거\n",
    "print(a.rstrip()) #오른쪽 공백제거\n",
    "print(a.lstrip()) #왼쪽 공백제거"
   ]
  },
  {
   "cell_type": "code",
   "execution_count": 42,
   "id": "98678366-920f-4919-97d0-0946434e96fa",
   "metadata": {},
   "outputs": [
    {
     "name": "stdout",
     "output_type": "stream",
     "text": [
      "['this', 'is', 'test', 'string']\n",
      "['th', 's ', 's test str', 'ng']\n",
      "True\n",
      "False\n"
     ]
    }
   ],
   "source": [
    "print(a.split()) #문장 -> 단어로 분리\n",
    "print(a.split('i')) # 'i' 기준으로 문장 분리\n",
    "print(a.islower()) # 소문자 여부\n",
    "print(a.isupper()) # 대문자 여부"
   ]
  },
  {
   "cell_type": "code",
   "execution_count": 53,
   "id": "fac35ab6-f7a9-48e8-afd5-9208b1c06121",
   "metadata": {},
   "outputs": [
    {
     "name": "stdout",
     "output_type": "stream",
     "text": [
      "asdfasdf\n",
      "\\\n",
      "'\n",
      "\"\n",
      "ab\n",
      "line \n",
      " line\n",
      "a \t b\n"
     ]
    }
   ],
   "source": [
    "# 문자열 특수문자 \\\n",
    "print('asdf\\\n",
    "asdf') # \\ 다음줄과 연속임\n",
    "print('\\\\') # \\문자 출력\n",
    "print('\\'') # '문자 출력\n",
    "print('\\\"') # \"문자 출력\n",
    "print('abc\\b') # 백스페이스\n",
    "print('line \\n line') # 줄바꾸기\n",
    "print('a \\t b') #tab 키"
   ]
  },
  {
   "cell_type": "code",
   "execution_count": 56,
   "id": "a0555146-538c-411e-96ab-7e73e1688ba5",
   "metadata": {},
   "outputs": [
    {
     "name": "stdout",
     "output_type": "stream",
     "text": [
      "line \\n line\n"
     ]
    }
   ],
   "source": [
    "# raw_string : escape 문자를 그대로 출력\n",
    "print(r'line \\n line')"
   ]
  },
  {
   "cell_type": "code",
   "execution_count": 58,
   "id": "88285068-e8c5-4746-b525-60796664fa16",
   "metadata": {},
   "outputs": [
    {
     "name": "stdout",
     "output_type": "stream",
     "text": [
      "Number of a Word 'Yesterday' 9\n"
     ]
    }
   ],
   "source": [
    "# yesterday라는 말이 몇번 나올까\n",
    "f = open(\"data/yesterday.txt\", 'r')\n",
    "yesterday_lyric  = \"\"\n",
    "while True :\n",
    "    line = f.readline()\n",
    "    if not line: \n",
    "        break\n",
    "    yesterday_lyric = yesterday_lyric + line.strip()+'\\n'\n",
    "f.close()\n",
    "n_of_yesterday = yesterday_lyric.upper().count(\"YESTERDAY\")\n",
    "print(\"Number of a Word 'Yesterday'\", n_of_yesterday)"
   ]
  },
  {
   "cell_type": "markdown",
   "id": "61424953-07cc-4708-a43e-22cc15133f31",
   "metadata": {},
   "source": [
    "# 함수2"
   ]
  },
  {
   "cell_type": "markdown",
   "id": "36d4dcf2-7a1f-4b7f-b1bf-2ac4f9f3f797",
   "metadata": {},
   "source": [
    "파이썬은 객체의 주소가 함수로 전달"
   ]
  },
  {
   "cell_type": "code",
   "execution_count": 63,
   "id": "85554b8d-3b91-458c-8bd6-971c1ccb46cc",
   "metadata": {},
   "outputs": [
    {
     "name": "stdout",
     "output_type": "stream",
     "text": [
      "[0, 1]\n"
     ]
    }
   ],
   "source": [
    "def spam(eggs) :\n",
    "    eggs.append(1) # 전달된 객체\n",
    "    eggs = [2,3] # 새로운 객체\n",
    "\n",
    "ham = [0]\n",
    "spam(ham)\n",
    "print(ham)"
   ]
  },
  {
   "cell_type": "code",
   "execution_count": 74,
   "id": "5633bcd1-491c-42ab-944e-d01cf2e48047",
   "metadata": {},
   "outputs": [],
   "source": [
    "# swap\n",
    "def swap_value(x,y):\n",
    "    temp = x\n",
    "    x = y\n",
    "    y = temp #a[1] <=> a[2] no swap\n",
    "\n",
    "def swap_offset(offset_x, offset_y) :\n",
    "    temp = a[offset_x]\n",
    "    a[offset_x] = a[offset_y]\n",
    "    a[offset_y] = temp # swap\n",
    "\n",
    "def swap_reference(input_list, offset_x, offset_y) :\n",
    "    temp = input_list[offset_x]\n",
    "    input_list[offset_x] = input_list[offset_y]\n",
    "    input_list[offset_y] = temp #input_list swap, no a"
   ]
  },
  {
   "cell_type": "code",
   "execution_count": 75,
   "id": "9ac5311f-f30e-42b9-8e22-636bc6bcde5c",
   "metadata": {},
   "outputs": [
    {
     "name": "stdout",
     "output_type": "stream",
     "text": [
      "[1, 2, 3, 4, 5]\n",
      "[1, 3, 2, 4, 5]\n",
      "[1, 2, 3, 4, 5]\n"
     ]
    }
   ],
   "source": [
    "a = [1,2,3,4,5]\n",
    "swap_value(a[1], a[2])\n",
    "print(a)\n",
    "swap_offset(1,2)\n",
    "print(a)\n",
    "swap_reference(a,1,2)\n",
    "print(a)"
   ]
  },
  {
   "cell_type": "code",
   "execution_count": 77,
   "id": "dca7e977-320c-4f42-be20-fd79285d88b5",
   "metadata": {},
   "outputs": [
    {
     "name": "stdout",
     "output_type": "stream",
     "text": [
      "Before : 10\n",
      "In Function : 20\n",
      "After :  10\n"
     ]
    }
   ],
   "source": [
    "# 함수의 범위 - 지역변수와 전역변수\n",
    "def test(t) :\n",
    "    t = 20\n",
    "    print(\"In Function :\", t)\n",
    "\n",
    "x = 10\n",
    "print(\"Before :\", x)\n",
    "test(x)\n",
    "print(\"After : \", x)"
   ]
  },
  {
   "cell_type": "code",
   "execution_count": 80,
   "id": "c1e4ab74-f9f8-4467-9f08-d1786bf0b255",
   "metadata": {},
   "outputs": [
    {
     "name": "stdout",
     "output_type": "stream",
     "text": [
      "abc\n",
      "abc\n"
     ]
    }
   ],
   "source": [
    "# global 함수에서 전역변수 사용\n",
    "def f():\n",
    "    global s\n",
    "    s = \"abc\"\n",
    "    print(s)\n",
    "\n",
    "s = 'xyz'\n",
    "f()\n",
    "print(s)"
   ]
  },
  {
   "cell_type": "code",
   "execution_count": 81,
   "id": "8c6afc4d-9890-4526-9165-30adb38052fd",
   "metadata": {},
   "outputs": [
    {
     "name": "stdout",
     "output_type": "stream",
     "text": [
      "In Program - 1\n",
      "a:  5 b:  7 a+b:  12\n",
      "In Function\n",
      "a: 5 b: 7 a+b: 12 total: 12\n",
      "After Calculation\n",
      "Total:  0  Sum :  12\n"
     ]
    }
   ],
   "source": [
    "def calculate(x,y) :\n",
    "    total = x+y\n",
    "    print(\"In Function\")\n",
    "    print(\"a:\", str(a), \"b:\", str(b), \"a+b:\", str(a+b), \"total:\", str(total))\n",
    "    return total\n",
    "a = 5\n",
    "b = 7\n",
    "total = 0\n",
    "print(\"In Program - 1\")\n",
    "print(\"a: \", str(a), \"b: \",str(b), \"a+b: \",str(a+b))\n",
    "\n",
    "sum = calculate(a,b)\n",
    "print(\"After Calculation\")\n",
    "print(\"Total : \", str(total), \" Sum : \", str(sum))"
   ]
  },
  {
   "cell_type": "markdown",
   "id": "aca108b6-92ad-4325-869f-0d076aba1de4",
   "metadata": {},
   "source": [
    "# 재귀함수"
   ]
  },
  {
   "cell_type": "markdown",
   "id": "7e38afb2-2cb2-4acc-9cdf-5dcaae4918d6",
   "metadata": {},
   "source": [
    "- 자기자신을 호출하는 함수\n",
    "- 점화식과 같은 재귀적 수학 모형을 표현할 때 사용\n",
    "- 재귀 종료 조건 존재, 종료 조건까지 함수호출 반복"
   ]
  },
  {
   "cell_type": "code",
   "execution_count": 1,
   "id": "88ef9334-ef23-4ac5-9dbb-b6fe8e5abde7",
   "metadata": {},
   "outputs": [
    {
     "name": "stdin",
     "output_type": "stream",
     "text": [
      "Input_number :  5\n"
     ]
    },
    {
     "name": "stdout",
     "output_type": "stream",
     "text": [
      "15\n"
     ]
    }
   ],
   "source": [
    "def factorial(n):\n",
    "    if n == 1:\n",
    "        return 1\n",
    "    else :\n",
    "        return n + factorial(n-1)\n",
    "\n",
    "print(factorial(int(input(\"Input_number : \"))))"
   ]
  },
  {
   "cell_type": "code",
   "execution_count": 4,
   "id": "5aaae0df-20e1-4661-a5c2-f44048fe22b6",
   "metadata": {},
   "outputs": [
    {
     "name": "stdin",
     "output_type": "stream",
     "text": [
      "Input_number :  5\n"
     ]
    },
    {
     "name": "stdout",
     "output_type": "stream",
     "text": [
      "15\n"
     ]
    }
   ],
   "source": [
    "# 위 재귀함수를 일반 반복문 코드로 변경\n",
    "\n",
    "input_number = int(input(\"Input_number : \"))\n",
    "\n",
    "result = 1\n",
    "while input_number > 1 :\n",
    "    result += input_number\n",
    "    input_number -= 1\n",
    "\n",
    "print(result)"
   ]
  },
  {
   "cell_type": "markdown",
   "id": "d4c7be26-0d43-48e7-89ef-e8c6e3d85feb",
   "metadata": {},
   "source": [
    "# 함수개발 가이드라인"
   ]
  },
  {
   "cell_type": "code",
   "execution_count": 7,
   "id": "e1da8090-2347-4a8d-ac64-73cb8a5990c2",
   "metadata": {},
   "outputs": [],
   "source": [
    "# 함수는 가능하면 짧게 작성할 것(줄 수를 줄일 것)\n",
    "# 함수 이름에 함수의 역할, 의도가 명확히 들어갈 것\n",
    "def print_hello_world():\n",
    "    print(\"Hello world\")\n",
    "\n",
    "def get_hello_world():\n",
    "    return \"Hello world\""
   ]
  },
  {
   "cell_type": "code",
   "execution_count": 8,
   "id": "dbefc71f-2a3b-47cb-96c3-2ad681afb15f",
   "metadata": {},
   "outputs": [],
   "source": [
    "# 하나의 함수에는 유사한 역할을 하는 코드만 포함\n",
    "def add_variables(x,y):\n",
    "    return x + y\n",
    "\n",
    "def add_variables(x,y):\n",
    "    print(x,y)\n",
    "    return x + y"
   ]
  },
  {
   "cell_type": "code",
   "execution_count": 9,
   "id": "40fea76d-8c71-49bd-87b2-6993f6178e0f",
   "metadata": {},
   "outputs": [],
   "source": [
    "# 인자로 받은 값 자체를 바꾸진 말 것 (임시변수 선언)\n",
    "def count_word(string_variable):\n",
    "    return len(string_variable)"
   ]
  },
  {
   "cell_type": "markdown",
   "id": "065ac33e-27d2-41e6-861f-ca9cc43f5bef",
   "metadata": {},
   "source": [
    "### 함수는 언제 만드는가\n",
    "- 공통적으로 사용되는 코드는 함수로 변환\n",
    "- 복잡한 수식 > 식별 가능한 이름의 함수로 변환\n",
    "- 복잡한 조건 > 식별 가능한 이름의 함수로 변환"
   ]
  },
  {
   "cell_type": "code",
   "execution_count": 11,
   "id": "ac7b9ecc-c661-4b2b-bd28-9588c830d132",
   "metadata": {},
   "outputs": [
    {
     "name": "stdout",
     "output_type": "stream",
     "text": [
      "Hello World\n",
      "Hello Gachon\n",
      "Hello World\n",
      "Hello Gachon\n"
     ]
    }
   ],
   "source": [
    "# 공통코드는 함수로 변환\n",
    "a = 5\n",
    "if (a > 3):\n",
    "    print(\"Hello World\")\n",
    "    print(\"Hello Gachon\")\n",
    "if (a > 4):\n",
    "    print(\"Hello World\")\n",
    "    print(\"Hello Gachon\")\n",
    "if (a > 5):\n",
    "    print(\"Hello World\")\n",
    "    print(\"Hello Gachon\")"
   ]
  },
  {
   "cell_type": "code",
   "execution_count": 12,
   "id": "7fb1450f-0881-4cb8-9576-029230e71c3e",
   "metadata": {},
   "outputs": [
    {
     "name": "stdout",
     "output_type": "stream",
     "text": [
      "Hello World\n",
      "Hello Gachon\n",
      "Hello World\n",
      "Hello Gachon\n"
     ]
    }
   ],
   "source": [
    "def print_hello():\n",
    "    print(\"Hello World\")\n",
    "    print(\"Hello Gachon\")\n",
    "\n",
    "a = 5\n",
    "if (a>3):\n",
    "    print_hello()\n",
    "if (a>4):\n",
    "    print_hello()\n",
    "if (a>5):\n",
    "    print_hello()"
   ]
  },
  {
   "cell_type": "code",
   "execution_count": 13,
   "id": "17d6cd39-ac34-41cf-9ebd-5898cf6d6da3",
   "metadata": {},
   "outputs": [
    {
     "name": "stdout",
     "output_type": "stream",
     "text": [
      "1.0\n",
      "1.0\n"
     ]
    }
   ],
   "source": [
    "# 복잡한 수식은 함수로\n",
    "import math\n",
    "a = 1\n",
    "b = -2\n",
    "c = 1\n",
    "\n",
    "print((-b + math.sqrt(b**2 - (4*a*c))) / (2*a))\n",
    "print((-b - math.sqrt(b**2 - (4*a*c))) / (2*a))"
   ]
  },
  {
   "cell_type": "code",
   "execution_count": 14,
   "id": "ddf062eb-9a26-4402-a2c4-27e784acc076",
   "metadata": {},
   "outputs": [
    {
     "name": "stdout",
     "output_type": "stream",
     "text": [
      "[1.0, 1.0]\n"
     ]
    }
   ],
   "source": [
    "def get_result_quadratic_equation(a,b,c):\n",
    "    values=[]\n",
    "    values.append((-b + math.sqrt(b**2 - (4*a*c))) / (2*a))\n",
    "    values.append((-b - math.sqrt(b**2 - (4*a*c))) / (2*a))\n",
    "    return values\n",
    "\n",
    "print(get_result_quadratic_equation(1,-2,1))"
   ]
  },
  {
   "cell_type": "markdown",
   "id": "cc19d961-c0b1-411b-ac5f-919c612c7abf",
   "metadata": {},
   "source": [
    "# 코딩 컨벤션"
   ]
  },
  {
   "cell_type": "markdown",
   "id": "3b680daf-16eb-43b2-a549-e7489f7b9bc4",
   "metadata": {},
   "source": [
    "사람이 이해하는 코드를 위한 일관성 있는 코드 규칙\n",
    "- 들여쓰기는 공백 4칸 권장\n",
    "- 한줄은 최대 79자까지\n",
    "- 불필요한 공백은 피함"
   ]
  },
  {
   "cell_type": "code",
   "execution_count": 15,
   "id": "d895b029-012d-4ed4-b9f1-a221101ca071",
   "metadata": {},
   "outputs": [],
   "source": [
    "def factorial(n):\n",
    "    if n == 1:\n",
    "        return 1"
   ]
  },
  {
   "cell_type": "markdown",
   "id": "c0be5a98-3557-4b5c-bd52-5e4e8d0a4e48",
   "metadata": {},
   "source": [
    "- =연산자는 1칸 이상 안띄움\n",
    "- 주석을 항상 갱신, 불필요한 주석은 삭제\n",
    "- 코드의 마지막에는 항상 한 줄 추가\n",
    "- 소문자 l, 대문자 O, 대문자 I 금지\n",
    "- 함수명은 소문자로 구성, 필요하면 밑줄로 나눔"
   ]
  },
  {
   "cell_type": "code",
   "execution_count": 23,
   "id": "75d4baa3-a8db-42e2-9379-2625009323f8",
   "metadata": {},
   "outputs": [],
   "source": [
    "lIO0 = \"Hard to understand\""
   ]
  },
  {
   "cell_type": "markdown",
   "id": "9001755f-6009-40e9-9e98-4b32650b0c58",
   "metadata": {},
   "source": [
    "- flake8로 코딩 컨벤션 체크 가능\n",
    "- 최근에는 black 모듈을 활용하여 pep8 like수준을 준수(자동정리)"
   ]
  },
  {
   "cell_type": "code",
   "execution_count": 34,
   "id": "5add4068-2a25-40ba-a7d7-2254a4af5841",
   "metadata": {},
   "outputs": [
    {
     "name": "stdout",
     "output_type": "stream",
     "text": [
      "n_2_1_Variables_and_list.ipynb:20:80: E501 line too long (88 > 79 characters)\n",
      "n_2_1_Variables_and_list.ipynb:29:80: E501 line too long (82 > 79 characters)\n",
      "n_2_1_Variables_and_list.ipynb:39:80: E501 line too long (85 > 79 characters)\n",
      "n_2_1_Variables_and_list.ipynb:41:80: E501 line too long (83 > 79 characters)\n",
      "n_2_1_Variables_and_list.ipynb:49:80: E501 line too long (85 > 79 characters)\n",
      "n_2_1_Variables_and_list.ipynb:51:80: E501 line too long (80 > 79 characters)\n",
      "n_2_1_Variables_and_list.ipynb:76:80: E501 line too long (87 > 79 characters)\n",
      "n_2_1_Variables_and_list.ipynb:78:80: E501 line too long (80 > 79 characters)\n",
      "n_2_1_Variables_and_list.ipynb:86:80: E501 line too long (85 > 79 characters)\n",
      "n_2_1_Variables_and_list.ipynb:96:80: E501 line too long (83 > 79 characters)\n",
      "n_2_1_Variables_and_list.ipynb:119:80: E501 line too long (87 > 79 characters)\n",
      "n_2_1_Variables_and_list.ipynb:121:80: E501 line too long (80 > 79 characters)\n",
      "n_2_1_Variables_and_list.ipynb:128:80: E501 line too long (87 > 79 characters)\n",
      "n_2_1_Variables_and_list.ipynb:162:80: E501 line too long (88 > 79 characters)\n",
      "n_2_1_Variables_and_list.ipynb:211:80: E501 line too long (109 > 79 characters)\n",
      "n_2_1_Variables_and_list.ipynb:284:80: E501 line too long (83 > 79 characters)\n",
      "n_2_1_Variables_and_list.ipynb:295:80: E501 line too long (84 > 79 characters)\n",
      "n_2_1_Variables_and_list.ipynb:314:80: E501 line too long (89 > 79 characters)\n",
      "n_2_1_Variables_and_list.ipynb:333:80: E501 line too long (84 > 79 characters)\n",
      "n_2_1_Variables_and_list.ipynb:336:80: E501 line too long (83 > 79 characters)\n",
      "n_2_1_Variables_and_list.ipynb:412:80: E501 line too long (87 > 79 characters)\n",
      "n_2_1_Variables_and_list.ipynb:424:80: E501 line too long (94 > 79 characters)\n",
      "n_2_1_Variables_and_list.ipynb:439:32: F821 undefined name 'null'\n"
     ]
    }
   ],
   "source": [
    "!flake8 n_2_1_Variables_and_list.ipynb"
   ]
  },
  {
   "cell_type": "code",
   "execution_count": 33,
   "id": "5e8838d2-8ccc-4ab8-b0a1-cf3524506ac2",
   "metadata": {},
   "outputs": [
    {
     "name": "stdout",
     "output_type": "stream",
     "text": [
      "\u001b[1mreformatted n_2_3_Conditionals_and_loops.ipynb\u001b[0m\n",
      "\u001b[1mAll done! ✨ 🍰 ✨\u001b[0m\n",
      "\u001b[1m1 file reformatted\u001b[0m.\u001b[0m\n"
     ]
    }
   ],
   "source": [
    "!black n_2_3_Conditionals_and_loops.ipynb"
   ]
  },
  {
   "cell_type": "code",
   "execution_count": null,
   "id": "01b3b89c-d450-43ff-bcc9-3e6e35c8aca7",
   "metadata": {},
   "outputs": [],
   "source": []
  }
 ],
 "metadata": {
  "kernelspec": {
   "display_name": "Python 3 (ipykernel)",
   "language": "python",
   "name": "python3"
  },
  "language_info": {
   "codemirror_mode": {
    "name": "ipython",
    "version": 3
   },
   "file_extension": ".py",
   "mimetype": "text/x-python",
   "name": "python",
   "nbconvert_exporter": "python",
   "pygments_lexer": "ipython3",
   "version": "3.8.12"
  }
 },
 "nbformat": 4,
 "nbformat_minor": 5
}
