{
 "cells": [
  {
   "cell_type": "markdown",
   "id": "45dc8e1a-6a5e-4ca4-b0ab-b145a86c1491",
   "metadata": {
    "tags": []
   },
   "source": [
    "# 기본 자료형"
   ]
  },
  {
   "cell_type": "markdown",
   "id": "11f508fb-1f07-4f4d-9ab3-7051f89e29bf",
   "metadata": {},
   "source": [
    "python의 데이터 타입은 Dynamic typing 방식으로 실행하는 순간 타입이 결정"
   ]
  },
  {
   "cell_type": "code",
   "execution_count": 12,
   "id": "b04ced85-6516-47fa-b048-3bb6ce372b6e",
   "metadata": {},
   "outputs": [
    {
     "name": "stdout",
     "output_type": "stream",
     "text": [
      "1 1\n"
     ]
    }
   ],
   "source": [
    "# integer\n",
    "a = 1\n",
    "b = 1\n",
    "print(a,b)"
   ]
  },
  {
   "cell_type": "code",
   "execution_count": 13,
   "id": "ddffc7d1-2a1d-426e-875e-890331772090",
   "metadata": {},
   "outputs": [
    {
     "name": "stdout",
     "output_type": "stream",
     "text": [
      "1.5 3.5\n"
     ]
    }
   ],
   "source": [
    "#float\n",
    "a = 1.5\n",
    "b = 3.5\n",
    "print(a,b)"
   ]
  },
  {
   "cell_type": "code",
   "execution_count": 14,
   "id": "aa1d535d-1fdd-4791-b82e-1c2ffadca1dd",
   "metadata": {},
   "outputs": [
    {
     "name": "stdout",
     "output_type": "stream",
     "text": [
      "ABC 101010\n"
     ]
    }
   ],
   "source": [
    "#String\n",
    "a = \"ABC\"\n",
    "b = \"101010\"\n",
    "print(a,b)"
   ]
  },
  {
   "cell_type": "code",
   "execution_count": 15,
   "id": "19372567-ea3e-40b0-aae2-c053f1356549",
   "metadata": {},
   "outputs": [
    {
     "name": "stdout",
     "output_type": "stream",
     "text": [
      "True False\n"
     ]
    }
   ],
   "source": [
    "#Boolean\n",
    "a = True\n",
    "b = False\n",
    "print(a,b)"
   ]
  },
  {
   "cell_type": "markdown",
   "id": "2cd538ed-de77-459e-8a2c-34cd545ff4bb",
   "metadata": {},
   "source": [
    "# 연산자와 피연산자"
   ]
  },
  {
   "cell_type": "markdown",
   "id": "909ca0ed-447b-4fe7-8831-49670a128743",
   "metadata": {},
   "source": [
    "- +,-,*,/ 같은 기호들을 연산자로 칭함\n",
    "- 연산자에 의해 계산 되는 숫자들은 피연산자\n",
    "- 연산 순서는 수학과 동일\n",
    "- 문자간에도 + 연산이 가능 -> concatenate"
   ]
  },
  {
   "cell_type": "code",
   "execution_count": 16,
   "id": "2518880f-a824-4258-8118-b73332f31dc6",
   "metadata": {},
   "outputs": [
    {
     "name": "stdout",
     "output_type": "stream",
     "text": [
      "243\n",
      "243\n"
     ]
    }
   ],
   "source": [
    "# 제곱승과 나머지 구하기\n",
    "print(3*3*3*3*3)\n",
    "print(3**5)"
   ]
  },
  {
   "cell_type": "code",
   "execution_count": 18,
   "id": "c31d2f55-34ec-4a56-a6db-795ba1a0a8ce",
   "metadata": {},
   "outputs": [
    {
     "name": "stdout",
     "output_type": "stream",
     "text": [
      "3.5\n",
      "1\n"
     ]
    }
   ],
   "source": [
    "#%는 나머지 연산자\n",
    "print(7/2)\n",
    "print(7%2)"
   ]
  },
  {
   "cell_type": "code",
   "execution_count": 19,
   "id": "61b76029-0bfb-42c8-9b28-d86c635dded5",
   "metadata": {},
   "outputs": [
    {
     "name": "stdout",
     "output_type": "stream",
     "text": [
      "2\n",
      "1\n"
     ]
    }
   ],
   "source": [
    "#증감연산\n",
    "a = 1\n",
    "a += 1\n",
    "print(a)\n",
    "a -= 1\n",
    "print(a)"
   ]
  },
  {
   "cell_type": "markdown",
   "id": "41416bbe-e566-4d93-bd23-6c09c9b618c6",
   "metadata": {},
   "source": [
    "# 데이터 형변환"
   ]
  },
  {
   "cell_type": "code",
   "execution_count": 22,
   "id": "e709afa4-e203-4578-8402-c9226441b6f3",
   "metadata": {},
   "outputs": [
    {
     "name": "stdout",
     "output_type": "stream",
     "text": [
      "10\n",
      "10.0\n"
     ]
    }
   ],
   "source": [
    "a = 10\n",
    "print(a)\n",
    "a = float(10)\n",
    "print(a)"
   ]
  },
  {
   "cell_type": "code",
   "execution_count": 25,
   "id": "76263ed1-986a-497f-b34c-f616b7844da9",
   "metadata": {},
   "outputs": [
    {
     "name": "stdout",
     "output_type": "stream",
     "text": [
      "20\n"
     ]
    }
   ],
   "source": [
    "# 실수형 -> 정수형 형변환 시 소숫점 아래는 버림\n",
    "a = 10.7\n",
    "b = 10.3\n",
    "a = int(a) # 10\n",
    "b = int(b) # 10\n",
    "print(a+b) # 20"
   ]
  },
  {
   "cell_type": "code",
   "execution_count": 26,
   "id": "c776fec8-5fd8-4c5b-8560-9f47b0c2bb31",
   "metadata": {},
   "outputs": [
    {
     "name": "stdout",
     "output_type": "stream",
     "text": [
      "76.3\n"
     ]
    }
   ],
   "source": [
    "# string -> float\n",
    "a = '76.3'\n",
    "b = float(a)\n",
    "print(a)"
   ]
  },
  {
   "cell_type": "code",
   "execution_count": 29,
   "id": "75054f42-d538-4f6d-b7e5-9c77060f5983",
   "metadata": {},
   "outputs": [
    {
     "name": "stdout",
     "output_type": "stream",
     "text": [
      "<class 'float'>\n",
      "<class 'str'>\n",
      "<class 'int'>\n"
     ]
    }
   ],
   "source": [
    "# type()으로 데이터 타입 출력\n",
    "print(type(76.3))\n",
    "print(type('76.3'))\n",
    "print(type(76))"
   ]
  },
  {
   "cell_type": "markdown",
   "id": "588d232a-21df-406e-af61-ec840fa5f059",
   "metadata": {},
   "source": [
    "# 리스트"
   ]
  },
  {
   "cell_type": "code",
   "execution_count": 30,
   "id": "ffc0b2f5-86da-47c0-8212-7eb7d135d3f0",
   "metadata": {
    "tags": []
   },
   "outputs": [
    {
     "name": "stdout",
     "output_type": "stream",
     "text": [
      "r\n",
      "b\n",
      "3\n"
     ]
    }
   ],
   "source": [
    "# 인덱싱\n",
    "colors = ['r','g','b']\n",
    "print(colors[0])\n",
    "print(colors[2])\n",
    "print(len(colors))"
   ]
  },
  {
   "cell_type": "code",
   "execution_count": 34,
   "id": "5954ce03-e797-4f0f-86c0-8abe7b8e1c88",
   "metadata": {},
   "outputs": [
    {
     "name": "stdout",
     "output_type": "stream",
     "text": [
      "['a', 'b', 'c', 'd'] and ['a', 'b']\n",
      "['a', 'b', 'c', 'd', 'e', 'f', 'g', 'h', 'i', 'j']\n",
      "['a', 'b', 'c', 'd', 'e', 'f', 'g', 'h', 'i', 'j']\n",
      "['a', 'c', 'e', 'g', 'i'] and ['j', 'i', 'h', 'g', 'f', 'e', 'd', 'c', 'b', 'a']\n"
     ]
    }
   ],
   "source": [
    "# 슬라이싱\n",
    "test_list = ['a','b','c','d','e','f','g','h','i','j']\n",
    "print(test_list[0:4], 'and', test_list[:-8])\n",
    "print(test_list[:])\n",
    "print(test_list[-50:50])\n",
    "print(test_list[::2], 'and', test_list[::-1])"
   ]
  },
  {
   "cell_type": "code",
   "execution_count": 35,
   "id": "632ca3d3-7e54-4f25-99e4-54253689dfb4",
   "metadata": {},
   "outputs": [
    {
     "name": "stdout",
     "output_type": "stream",
     "text": [
      "['a', 'b', 'c', 1, 2, 3]\n"
     ]
    }
   ],
   "source": [
    "# concatenation\n",
    "list1 = ['a','b','c']\n",
    "list2 = [1,2,3]\n",
    "print(list1 + list2)"
   ]
  },
  {
   "cell_type": "code",
   "execution_count": 36,
   "id": "00ab1689-3ce3-46ba-9cc3-5eac09975a0a",
   "metadata": {},
   "outputs": [
    {
     "data": {
      "text/plain": [
       "True"
      ]
     },
     "execution_count": 36,
     "metadata": {},
     "output_type": "execute_result"
    }
   ],
   "source": [
    "# in \n",
    "'a' in list1"
   ]
  },
  {
   "cell_type": "code",
   "execution_count": 38,
   "id": "e4a4154f-0eed-42ea-ab6b-7d442c47ad95",
   "metadata": {},
   "outputs": [
    {
     "name": "stdout",
     "output_type": "stream",
     "text": [
      "['d', 'b', 'c']\n"
     ]
    }
   ],
   "source": [
    "list1[0] = 'd'\n",
    "print(list1)"
   ]
  },
  {
   "cell_type": "code",
   "execution_count": 44,
   "id": "c562de1f-75c9-42d2-a882-e9636e32c2bd",
   "metadata": {},
   "outputs": [
    {
     "name": "stdout",
     "output_type": "stream",
     "text": [
      "['d', 'b', 'c', 'f', 'f', 'f', 'f', 'f']\n"
     ]
    }
   ],
   "source": [
    "#append = 반복 추가\n",
    "list1.append('f')\n",
    "print(list1)"
   ]
  },
  {
   "cell_type": "code",
   "execution_count": 48,
   "id": "a7ce1aa1-9f53-480c-ac45-3546e7483900",
   "metadata": {},
   "outputs": [
    {
     "name": "stdout",
     "output_type": "stream",
     "text": [
      "[1, 2, 3, 'y', 'z', 'y', 'z', 'y', 'z', 'y', 'z']\n"
     ]
    }
   ],
   "source": [
    "#extend = 반복 리스트 추가\n",
    "list2.extend(['y','z'])\n",
    "print(list2)"
   ]
  },
  {
   "cell_type": "code",
   "execution_count": 52,
   "id": "07e8ae55-eed4-45f6-b9ee-8b511df83ad0",
   "metadata": {},
   "outputs": [
    {
     "name": "stdout",
     "output_type": "stream",
     "text": [
      "['in', 'in', 1, 2, 3, 'y', 'z', 'y', 'z', 'y', 'z', 'y', 'z']\n"
     ]
    }
   ],
   "source": [
    "#insert = n번째 위치에 값 추가\n",
    "list2.insert(0,'in')\n",
    "print(list2)"
   ]
  },
  {
   "cell_type": "code",
   "execution_count": 54,
   "id": "c21499dc-3267-4df2-b70b-9ff2c5f00c3c",
   "metadata": {},
   "outputs": [
    {
     "name": "stdout",
     "output_type": "stream",
     "text": [
      "[1, 2, 3, 'y', 'z', 'y', 'z', 'y', 'z', 'y', 'z']\n"
     ]
    }
   ],
   "source": [
    "#remove = 값 제거\n",
    "list2.remove('in')\n",
    "print(list2)"
   ]
  },
  {
   "cell_type": "code",
   "execution_count": 56,
   "id": "b488490e-22db-46b1-8478-efdc10fd2d62",
   "metadata": {},
   "outputs": [
    {
     "name": "stdout",
     "output_type": "stream",
     "text": [
      "[3, 'y', 'z', 'y', 'z', 'y', 'z', 'y', 'z']\n"
     ]
    }
   ],
   "source": [
    "# del = 해당 위치 객체 삭제 (메모리에서 할당 제거)\n",
    "del list2[0]\n",
    "print(list2)"
   ]
  },
  {
   "cell_type": "code",
   "execution_count": 60,
   "id": "cfbb5494-40f2-42c1-9887-16334ffc820e",
   "metadata": {},
   "outputs": [
    {
     "name": "stdout",
     "output_type": "stream",
     "text": [
      "[['yellow', 'blue', 'green'], 1, 0.2]\n"
     ]
    }
   ],
   "source": [
    "# 리스트 안에 리스트도 가능\n",
    "a = ['color', 1, 0.2]\n",
    "color = ['yellow', 'blue', 'green']\n",
    "a[0] = color\n",
    "print(a)"
   ]
  },
  {
   "cell_type": "code",
   "execution_count": 64,
   "id": "02001d0c-7f26-4f53-b9ec-f1e8c22ed2e1",
   "metadata": {},
   "outputs": [
    {
     "name": "stdout",
     "output_type": "stream",
     "text": [
      "[1, 4, 3, 2, 1]\n",
      "[1, 4, 3, 2, 1]\n"
     ]
    }
   ],
   "source": [
    "# 리스트변수에는 리스트의 주소값이 저장된다.\n",
    "# b에는 a리스트의 주소값 저장\n",
    "a = [5,4,3,2,1]\n",
    "b = [1,2,3,4,5]\n",
    "b = a\n",
    "\n",
    "a[0] = 1\n",
    "print(a)\n",
    "print(b)"
   ]
  },
  {
   "cell_type": "code",
   "execution_count": 65,
   "id": "99d6f22d-7de9-40ce-95e6-894d790ec09a",
   "metadata": {},
   "outputs": [
    {
     "name": "stdout",
     "output_type": "stream",
     "text": [
      "1 2 3 [1, 2, 3]\n"
     ]
    }
   ],
   "source": [
    "# 패킹 언패킹\n",
    "t = [1,2,3]\n",
    "a,b,c = t\n",
    "print(a,b,c,t)"
   ]
  },
  {
   "cell_type": "code",
   "execution_count": 66,
   "id": "2dea8466-e62c-460e-a363-1047830be59f",
   "metadata": {},
   "outputs": [
    {
     "name": "stdout",
     "output_type": "stream",
     "text": [
      "[[1, 2, 3, 4, 5], [11, 22, 33, 44, 55], [111, 222, 333, 444, 555]]\n"
     ]
    }
   ],
   "source": [
    "# 행렬 생성\n",
    "a = [1,2,3,4,5]\n",
    "b = [11,22,33,44,55]\n",
    "c = [111,222,333,444,555]\n",
    "tot = [a,b,c]\n",
    "print(tot)"
   ]
  },
  {
   "cell_type": "code",
   "execution_count": null,
   "id": "201f40e6-ce8d-4cdf-91f8-9cb01c7c1ba1",
   "metadata": {},
   "outputs": [],
   "source": []
  }
 ],
 "metadata": {
  "kernelspec": {
   "display_name": "Python 3 (ipykernel)",
   "language": "python",
   "name": "python3"
  },
  "language_info": {
   "codemirror_mode": {
    "name": "ipython",
    "version": 3
   },
   "file_extension": ".py",
   "mimetype": "text/x-python",
   "name": "python",
   "nbconvert_exporter": "python",
   "pygments_lexer": "ipython3",
   "version": "3.8.12"
  }
 },
 "nbformat": 4,
 "nbformat_minor": 5
}
