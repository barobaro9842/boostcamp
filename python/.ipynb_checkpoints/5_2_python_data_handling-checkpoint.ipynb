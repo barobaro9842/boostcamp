{
 "cells": [
  {
   "cell_type": "markdown",
   "id": "c15eefc2-a196-4cb4-9a50-a7183b86e8c8",
   "metadata": {},
   "source": [
    "# CSV"
   ]
  },
  {
   "cell_type": "markdown",
   "id": "b2b50a65-7754-4905-b13e-b461c7095cf0",
   "metadata": {},
   "source": [
    "- 필드를 쉼표로 구분한 텍스트\n",
    "- 탭(TSV), 빈칸(SSV) 등으로 구분해서 만들기도 함\n",
    "- 통칭해서 character-separated values"
   ]
  },
  {
   "cell_type": "code",
   "execution_count": 2,
   "id": "644a4eb8-8418-489f-98d7-437cd166c6c8",
   "metadata": {},
   "outputs": [
    {
     "name": "stdout",
     "output_type": "stream",
     "text": [
      "Header : \t ['customerNumber', 'customerName', 'contactLastName', 'contactFirstName', 'phone', 'addressLine1', 'addressLine2', 'city', 'state', 'postalCode', 'country', 'salesRepEmployeeNumber', 'creditLimit\\n']\n",
      "Data 0 :\t\t ['103', '\"Atelier graphique\"', 'Schmitt', '\"Carine \"', '40.32.2555', '\"54', ' rue Royale\"', 'NULL', 'Nantes', 'NULL', '44000', 'France', '1370', '21000\\n']\n",
      "Data 1 :\t\t ['112', '\"Signal Gift Stores\"', 'King', 'Jean', '7025551838', '\"8489 Strong St.\"', 'NULL', '\"Las Vegas\"', 'NV', '83030', 'USA', '1166', '71800\\n']\n",
      "Data 2 :\t\t ['114', '\"Australian Collectors', ' Co.\"', 'Ferguson', 'Peter', '\"03 9520 4555\"', '\"636 St Kilda Road\"', '\"Level 3\"', 'Melbourne', 'Victoria', '3004', 'Australia', '1611', '117300\\n']\n",
      "Data 3 :\t\t ['119', '\"La Rochelle Gifts\"', 'Labrune', '\"Janine \"', '40.67.8555', '\"67', ' rue des Cinquante Otages\"', 'NULL', 'Nantes', 'NULL', '44000', 'France', '1370', '118200\\n']\n",
      "Data 4 :\t\t ['121', '\"Baane Mini Imports\"', 'Bergulfsen', '\"Jonas \"', '\"07-98 9555\"', '\"Erling Skakkes gate 78\"', 'NULL', 'Stavern', 'NULL', '4110', 'Norway', '1504', '81700\\n']\n",
      "Data 5 :\t\t ['124', '\"Mini Gifts Distributors Ltd.\"', 'Nelson', 'Susan', '4155551450', '\"5677 Strong St.\"', 'NULL', '\"San Rafael\"', 'CA', '97562', 'USA', '1165', '210500\\n']\n",
      "Data 6 :\t\t ['125', '\"Havel & Zbyszek Co\"', 'Piestrzeniewicz', '\"Zbyszek \"', '\"(26) 642-7555\"', '\"ul. Filtrowa 68\"', 'NULL', 'Warszawa', 'NULL', '01-012', 'Poland', 'NULL', '0\\n']\n",
      "Data 7 :\t\t ['128', '\"Blauer See Auto', ' Co.\"', 'Keitel', 'Roland', '\"+49 69 66 90 2555\"', '\"Lyonerstr. 34\"', 'NULL', 'Frankfurt', 'NULL', '60528', 'Germany', '1504', '59700\\n']\n",
      "Data 8 :\t\t ['129', '\"Mini Wheels Co.\"', 'Murphy', 'Julie', '6505555787', '\"5557 North Pendale Street\"', 'NULL', '\"San Francisco\"', 'CA', '94217', 'USA', '1165', '64600\\n']\n",
      "Data 9 :\t\t ['131', '\"Land of Toys Inc.\"', 'Lee', 'Kwai', '2125557818', '\"897 Long Airport Avenue\"', 'NULL', 'NYC', 'NY', '10022', 'USA', '1323', '114900\\n']\n",
      "122\n"
     ]
    }
   ],
   "source": [
    "line_counter = 0\n",
    "data_header = []\n",
    "customer_list = []\n",
    "\n",
    "with open(\"data/customers.csv\") as customer_data :\n",
    "    while True :\n",
    "        data = customer_data.readline()\n",
    "        if not data : break\n",
    "        if line_counter == 0:\n",
    "            data_header = data.split(\",\")\n",
    "        else : \n",
    "            customer_list.append(data.split(\",\"))\n",
    "        line_counter += 1\n",
    "\n",
    "print(\"Header : \\t\", data_header)\n",
    "for i in range(0,10):\n",
    "    print(\"Data\",i,\":\\t\\t\", customer_list[i])\n",
    "print(len(customer_list))"
   ]
  },
  {
   "cell_type": "code",
   "execution_count": 9,
   "id": "34ff056e-36ed-45b6-b356-4630faa0643d",
   "metadata": {},
   "outputs": [
    {
     "name": "stdout",
     "output_type": "stream",
     "text": [
      "Header : \t ['customerNumber', 'customerName', 'contactLastName', 'contactFirstName', 'phone', 'addressLine1', 'addressLine2', 'city', 'state', 'postalCode', 'country', 'salesRepEmployeeNumber', 'creditLimit\\n']\n",
      "Data : \t\t ['112', '\"Signal Gift Stores\"', 'King', 'Jean', '7025551838', '\"8489 Strong St.\"', 'NULL', '\"Las Vegas\"', 'NV', '83030', 'USA', '1166', '71800\\n']\n",
      "Data : \t\t ['124', '\"Mini Gifts Distributors Ltd.\"', 'Nelson', 'Susan', '4155551450', '\"5677 Strong St.\"', 'NULL', '\"San Rafael\"', 'CA', '97562', 'USA', '1165', '210500\\n']\n",
      "Data : \t\t ['129', '\"Mini Wheels Co.\"', 'Murphy', 'Julie', '6505555787', '\"5557 North Pendale Street\"', 'NULL', '\"San Francisco\"', 'CA', '94217', 'USA', '1165', '64600\\n']\n",
      "Data : \t\t ['131', '\"Land of Toys Inc.\"', 'Lee', 'Kwai', '2125557818', '\"897 Long Airport Avenue\"', 'NULL', 'NYC', 'NY', '10022', 'USA', '1323', '114900\\n']\n",
      "Data : \t\t ['151', '\"Muscle Machine Inc\"', 'Young', 'Jeff', '2125557413', '\"4092 Furth Circle\"', '\"Suite 400\"', 'NYC', 'NY', '10022', 'USA', '1286', '138500\\n']\n",
      "Data : \t\t ['157', '\"Diecast Classics Inc.\"', 'Leong', 'Kelvin', '2155551555', '\"7586 Pompton St.\"', 'NULL', 'Allentown', 'PA', '70267', 'USA', '1216', '100600\\n']\n",
      "Data : \t\t ['161', '\"Technics Stores Inc.\"', 'Hashimoto', 'Juri', '6505556809', '\"9408 Furth Circle\"', 'NULL', 'Burlingame', 'CA', '94217', 'USA', '1165', '84600\\n']\n",
      "Data : \t\t ['168', '\"American Souvenirs Inc\"', 'Franco', 'Keith', '2035557845', '\"149 Spinnaker Dr.\"', '\"Suite 101\"', '\"New Haven\"', 'CT', '97823', 'USA', '1286', '0\\n']\n",
      "Data : \t\t ['173', '\"Cambridge Collectables Co.\"', 'Tseng', 'Jerry', '6175555555', '\"4658 Baden Av.\"', 'NULL', 'Cambridge', 'MA', '51247', 'USA', '1188', '43400\\n']\n",
      "Data : \t\t ['175', '\"Gift Depot Inc.\"', 'King', 'Julie', '2035552570', '\"25593 South Bay Ln.\"', 'NULL', 'Bridgewater', 'CT', '97562', 'USA', '1323', '84300\\n']\n",
      "34\n",
      "['112', '\"Signal Gift Stores\"', 'King', 'Jean', '7025551838', '\"8489 Strong St.\"', 'NULL', '\"Las Vegas\"', 'NV', '83030', 'USA', '1166', '71800\\n']\n",
      "['124', '\"Mini Gifts Distributors Ltd.\"', 'Nelson', 'Susan', '4155551450', '\"5677 Strong St.\"', 'NULL', '\"San Rafael\"', 'CA', '97562', 'USA', '1165', '210500\\n']\n",
      "['129', '\"Mini Wheels Co.\"', 'Murphy', 'Julie', '6505555787', '\"5557 North Pendale Street\"', 'NULL', '\"San Francisco\"', 'CA', '94217', 'USA', '1165', '64600\\n']\n",
      "['131', '\"Land of Toys Inc.\"', 'Lee', 'Kwai', '2125557818', '\"897 Long Airport Avenue\"', 'NULL', 'NYC', 'NY', '10022', 'USA', '1323', '114900\\n']\n",
      "['151', '\"Muscle Machine Inc\"', 'Young', 'Jeff', '2125557413', '\"4092 Furth Circle\"', '\"Suite 400\"', 'NYC', 'NY', '10022', 'USA', '1286', '138500\\n']\n",
      "['157', '\"Diecast Classics Inc.\"', 'Leong', 'Kelvin', '2155551555', '\"7586 Pompton St.\"', 'NULL', 'Allentown', 'PA', '70267', 'USA', '1216', '100600\\n']\n",
      "['161', '\"Technics Stores Inc.\"', 'Hashimoto', 'Juri', '6505556809', '\"9408 Furth Circle\"', 'NULL', 'Burlingame', 'CA', '94217', 'USA', '1165', '84600\\n']\n",
      "['168', '\"American Souvenirs Inc\"', 'Franco', 'Keith', '2035557845', '\"149 Spinnaker Dr.\"', '\"Suite 101\"', '\"New Haven\"', 'CT', '97823', 'USA', '1286', '0\\n']\n",
      "['173', '\"Cambridge Collectables Co.\"', 'Tseng', 'Jerry', '6175555555', '\"4658 Baden Av.\"', 'NULL', 'Cambridge', 'MA', '51247', 'USA', '1188', '43400\\n']\n",
      "['175', '\"Gift Depot Inc.\"', 'King', 'Julie', '2035552570', '\"25593 South Bay Ln.\"', 'NULL', 'Bridgewater', 'CT', '97562', 'USA', '1323', '84300\\n']\n",
      "['181', '\"Vitachrome Inc.\"', 'Frick', 'Michael', '2125551500', '\"2678 Kingston Rd.\"', '\"Suite 101\"', 'NYC', 'NY', '10022', 'USA', '1286', '76400\\n']\n",
      "['198', '\"Auto-Moto Classics Inc.\"', 'Taylor', 'Leslie', '6175558428', '\"16780 Pompton St.\"', 'NULL', 'Brickhaven', 'MA', '58339', 'USA', '1216', '23000\\n']\n",
      "['204', '\"Online Mini Collectables\"', 'Barajas', 'Miguel', '6175557555', '\"7635 Spinnaker Dr.\"', 'NULL', 'Brickhaven', 'MA', '58339', 'USA', '1188', '68700\\n']\n",
      "['205', 'Toys4GrownUps.com', 'Young', 'Julie', '6265557265', '\"78934 Hillside Dr.\"', 'NULL', 'Pasadena', 'CA', '90003', 'USA', '1166', '90700\\n']\n",
      "['219', '\"Boards & Toys Co.\"', 'Young', 'Mary', '3105552373', '\"4097 Douglas Av.\"', 'NULL', 'Glendale', 'CA', '92561', 'USA', '1166', '11000\\n']\n",
      "['239', '\"Collectable Mini Designs Co.\"', 'Thompson', 'Valarie', '7605558146', '\"361 Furth Circle\"', 'NULL', '\"San Diego\"', 'CA', '91217', 'USA', '1166', '105000\\n']\n",
      "['286', '\"Marta\\'s Replicas Co.\"', 'Hernandez', 'Marta', '6175558555', '\"39323 Spinnaker Dr.\"', 'NULL', 'Cambridge', 'MA', '51247', 'USA', '1216', '123700\\n']\n",
      "['319', '\"Mini Classics\"', 'Frick', 'Steve', '9145554562', '\"3758 North Pendale Street\"', 'NULL', '\"White Plains\"', 'NY', '24067', 'USA', '1323', '102700\\n']\n",
      "['320', '\"Mini Creations Ltd.\"', 'Huang', 'Wing', '5085559555', '\"4575 Hillside Dr.\"', 'NULL', '\"New Bedford\"', 'MA', '50553', 'USA', '1188', '94500\\n']\n",
      "['321', '\"Corporate Gift Ideas Co.\"', 'Brown', 'Julie', '6505551386', '\"7734 Strong St.\"', 'NULL', '\"San Francisco\"', 'CA', '94217', 'USA', '1165', '105000\\n']\n",
      "['328', '\"Tekni Collectables Inc.\"', 'Brown', 'William', '2015559350', '\"7476 Moss Rd.\"', 'NULL', 'Newark', 'NJ', '94019', 'USA', '1323', '43000\\n']\n",
      "['362', 'Gifts4AllAges.com', 'Yoshido', 'Juri', '6175559555', '\"8616 Spinnaker Dr.\"', 'NULL', 'Boston', 'MA', '51003', 'USA', '1216', '41900\\n']\n",
      "['363', '\"Online Diecast Creations Co.\"', 'Young', 'Dorothy', '6035558647', '\"2304 Long Airport Avenue\"', 'NULL', 'Nashua', 'NH', '62005', 'USA', '1216', '114200\\n']\n",
      "['379', '\"Collectables For Less Inc.\"', 'Nelson', 'Allen', '6175558555', '\"7825 Douglas Av.\"', 'NULL', 'Brickhaven', 'MA', '58339', 'USA', '1188', '70700\\n']\n",
      "['424', '\"Classic Legends Inc.\"', 'Hernandez', 'Maria', '2125558493', '\"5905 Pompton St.\"', '\"Suite 750\"', 'NYC', 'NY', '10022', 'USA', '1286', '67500\\n']\n",
      "['447', '\"Gift Ideas Corp.\"', 'Lewis', 'Dan', '2035554407', '\"2440 Pompton St.\"', 'NULL', 'Glendale', 'CT', '97561', 'USA', '1323', '49700\\n']\n",
      "['450', '\"The Sharp Gifts Warehouse\"', 'Frick', 'Sue', '4085553659', '\"3086 Ingle Ln.\"', 'NULL', '\"San Jose\"', 'CA', '94217', 'USA', '1165', '77600\\n']\n",
      "['455', '\"Super Scale Inc.\"', 'Murphy', 'Leslie', '2035559545', '\"567 North Pendale Street\"', 'NULL', '\"New Haven\"', 'CT', '97823', 'USA', '1286', '95400\\n']\n",
      "['456', '\"Microscale Inc.\"', 'Choi', 'Yu', '2125551957', '\"5290 North Pendale Street\"', '\"Suite 200\"', 'NYC', 'NY', '10022', 'USA', '1286', '39800\\n']\n",
      "['462', 'FunGiftIdeas.com', 'Benitez', 'Violeta', '5085552555', '\"1785 First Street\"', 'NULL', '\"New Bedford\"', 'MA', '50553', 'USA', '1216', '85800\\n']\n",
      "['475', '\"West Coast Collectables Co.\"', 'Thompson', 'Steve', '3105553722', '\"3675 Furth Circle\"', 'NULL', 'Burbank', 'CA', '94019', 'USA', '1166', '55400\\n']\n",
      "['486', '\"Motor Mint Distributors Inc.\"', 'Salazar', 'Rosa', '2155559857', '\"11328 Douglas Av.\"', 'NULL', 'Philadelphia', 'PA', '71270', 'USA', '1323', '72600\\n']\n",
      "['487', '\"Signal Collectibles Ltd.\"', 'Taylor', 'Sue', '4155554312', '\"2793 Furth Circle\"', 'NULL', 'Brisbane', 'CA', '94217', 'USA', '1165', '60300\\n']\n",
      "['495', '\"Diecast Collectables\"', 'Franco', 'Valarie', '6175552555', '\"6251 Ingle Ln.\"', 'NULL', 'Boston', 'MA', '51003', 'USA', '1188', '85100\\n']\n"
     ]
    }
   ],
   "source": [
    "line_counter = 0\n",
    "data_header = []\n",
    "employee = []\n",
    "customer_USA_only_list = []\n",
    "customer = None\n",
    "\n",
    "with open(\"data/customers.csv\", \"r\") as customer_data:\n",
    "    while True:\n",
    "        data = customer_data.readline()\n",
    "        if not data:\n",
    "            break\n",
    "        if line_counter == 0:\n",
    "            data_header = data.split(\",\")\n",
    "        else :\n",
    "            customer = data.split(\",\")\n",
    "            if customer[10] == \"USA\" :\n",
    "                customer_USA_only_list.append(customer)\n",
    "                \n",
    "        line_counter += 1\n",
    "    \n",
    "print(\"Header : \\t\", data_header)\n",
    "for i in range(0,10):\n",
    "    print(\"Data : \\t\\t\", customer_USA_only_list[i])\n",
    "print(len(customer_USA_only_list))\n",
    "\n",
    "with open(\"data/customers_USA_only.csv\", \"w\") as customer_USA_only_csv :\n",
    "    for customer in customer_USA_only_list :\n",
    "        print(customer)\n",
    "        customer_USA_only_csv.write(\",\".join(customer).strip('\\n')+\"\\n\")"
   ]
  }
 ],
 "metadata": {
  "kernelspec": {
   "display_name": "Python 3 (ipykernel)",
   "language": "python",
   "name": "python3"
  },
  "language_info": {
   "codemirror_mode": {
    "name": "ipython",
    "version": 3
   },
   "file_extension": ".py",
   "mimetype": "text/x-python",
   "name": "python",
   "nbconvert_exporter": "python",
   "pygments_lexer": "ipython3",
   "version": "3.8.12"
  }
 },
 "nbformat": 4,
 "nbformat_minor": 5
}
