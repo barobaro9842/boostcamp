{
 "cells": [
  {
   "cell_type": "markdown",
   "id": "c80f1217-a350-4f55-978d-2a0ec68efa51",
   "metadata": {},
   "source": [
    "# Pythonic Code"
   ]
  },
  {
   "cell_type": "markdown",
   "id": "a0de8971-8b9e-4914-bf53-363d77161770",
   "metadata": {},
   "source": [
    "- 파이썬 스타일 코딩 기법\n",
    "- 파이썬 특유의 문법을 이용하여 효율적인 코드 표현\n",
    "- 파이썬 특유는 아님, 많은 언어들이 서로의 장점 채용\n",
    "- 고급 코드를 작성할 수록 더 많이 필요"
   ]
  },
  {
   "cell_type": "code",
   "execution_count": 2,
   "id": "95f3607b-7d55-47da-9443-7d9084c2fff5",
   "metadata": {},
   "outputs": [
    {
     "name": "stdout",
     "output_type": "stream",
     "text": [
      "redbluegreenyellow\n"
     ]
    }
   ],
   "source": [
    "# 예시 : 여러 단어들을 하나로 붙일 때 -> 일반코드\n",
    "colors = ['red', 'blue', 'green', 'yellow']\n",
    "result = ''\n",
    "for s in colors:\n",
    "    result += s\n",
    "print(result)"
   ]
  },
  {
   "cell_type": "code",
   "execution_count": 3,
   "id": "a0365301-ee06-4c86-bd78-6f5fd1c93fb7",
   "metadata": {},
   "outputs": [
    {
     "name": "stdout",
     "output_type": "stream",
     "text": [
      "redbluegreenyellow\n"
     ]
    }
   ],
   "source": [
    "# 예시 : 여러 단어들을 하나로 붙일 때 -> pythonic code\n",
    "colors = ['red', 'blue', 'green', 'yellow']\n",
    "result = ''.join(colors)\n",
    "print(result)"
   ]
  },
  {
   "cell_type": "markdown",
   "id": "a8f4f6fd-bfee-4a5d-bc87-e43a0325e20b",
   "metadata": {},
   "source": [
    "## why pythonic code"
   ]
  },
  {
   "cell_type": "markdown",
   "id": "39920eda-0aba-4248-b04c-205ea1ef6795",
   "metadata": {},
   "source": [
    "- 다른 사람의 코드에 대한 이해도\n",
    "- 효율\n",
    "- 간지"
   ]
  },
  {
   "cell_type": "markdown",
   "id": "26e48f68-2920-4edb-8012-3498e982e5ce",
   "metadata": {
    "tags": []
   },
   "source": [
    "## split"
   ]
  },
  {
   "cell_type": "markdown",
   "id": "aaee1c84-97ce-4cc5-8b4e-80e849fd13b4",
   "metadata": {},
   "source": [
    "기준값으로 string 값을 나눠서 list 형태로 변환"
   ]
  },
  {
   "cell_type": "code",
   "execution_count": 11,
   "id": "c62d4eb5-02d0-4fd7-83e8-69dda34e41d2",
   "metadata": {},
   "outputs": [
    {
     "name": "stdout",
     "output_type": "stream",
     "text": [
      "['zero', 'one', 'two', 'three']\n"
     ]
    }
   ],
   "source": [
    "items = 'zero one two three'.split()\n",
    "print(items)"
   ]
  },
  {
   "cell_type": "code",
   "execution_count": 12,
   "id": "2f2a3615-ac69-44bd-936c-7bb4479babfe",
   "metadata": {},
   "outputs": [
    {
     "name": "stdout",
     "output_type": "stream",
     "text": [
      "['python', 'java', 'js']\n"
     ]
    }
   ],
   "source": [
    "example = 'python,java,js'.split(',')\n",
    "print(example)"
   ]
  },
  {
   "cell_type": "markdown",
   "id": "dcc477c8-b528-45b3-b306-ed6ab5e89b51",
   "metadata": {
    "tags": []
   },
   "source": [
    "## join"
   ]
  },
  {
   "cell_type": "markdown",
   "id": "bef4e8cb-cc0e-4dd9-9dec-50d0ef64addc",
   "metadata": {},
   "source": [
    "string으로 구성된 list를 합쳐 하나의 string으로 변환"
   ]
  },
  {
   "cell_type": "code",
   "execution_count": 13,
   "id": "2976e924-e371-432f-b12a-97604b45c7ef",
   "metadata": {},
   "outputs": [
    {
     "name": "stdout",
     "output_type": "stream",
     "text": [
      "red blue green yellow\n"
     ]
    }
   ],
   "source": [
    "colors = ['red', 'blue', 'green', 'yellow']\n",
    "result = ' '.join(colors) # ' '안에 있는 문자열이 사이에 들어감\n",
    "print(result)"
   ]
  },
  {
   "cell_type": "markdown",
   "id": "23f52378-976d-4c11-8e03-5c26b2f32f62",
   "metadata": {},
   "source": [
    "## List Comprehension"
   ]
  },
  {
   "cell_type": "markdown",
   "id": "39b2d4ef-3af4-4326-85c4-bf8f25705816",
   "metadata": {},
   "source": [
    "- 기존 List 사용하여 간단히 다른 list 만드는 기법\n",
    "- 포괄적인 List, 포함되는 리스트라는 의미로 사용\n",
    "- 파이썬에서 가장 많이 사용되는 기법 중 하나 \n",
    "- 일반적인 for + append보다 속도가 빠름"
   ]
  },
  {
   "cell_type": "code",
   "execution_count": 14,
   "id": "4ac7be7e-43b1-44c1-aeee-b84f92e4346e",
   "metadata": {},
   "outputs": [
    {
     "name": "stdout",
     "output_type": "stream",
     "text": [
      "[0, 1, 2, 3, 4, 5, 6, 7, 8, 9]\n"
     ]
    }
   ],
   "source": [
    "# general\n",
    "result = []\n",
    "for i in range(10):\n",
    "    result.append(i)\n",
    "print(result)"
   ]
  },
  {
   "cell_type": "code",
   "execution_count": 15,
   "id": "29f0ef9c-69d3-4937-8812-02946248eae9",
   "metadata": {},
   "outputs": [
    {
     "name": "stdout",
     "output_type": "stream",
     "text": [
      "[0, 1, 2, 3, 4, 5, 6, 7, 8, 9]\n"
     ]
    }
   ],
   "source": [
    "# list comprehension\n",
    "result = [i for i in range(10)]\n",
    "print(result)"
   ]
  },
  {
   "cell_type": "code",
   "execution_count": 16,
   "id": "1e1e8078-da45-47b8-aa50-6bd35024e513",
   "metadata": {},
   "outputs": [
    {
     "name": "stdout",
     "output_type": "stream",
     "text": [
      "[0, 2, 4, 6, 8]\n"
     ]
    }
   ],
   "source": [
    "result = [i for i in range(10) if i % 2 == 0]\n",
    "print(result)"
   ]
  },
  {
   "cell_type": "code",
   "execution_count": 18,
   "id": "9e58dc92-3103-4597-b09c-666d385749e2",
   "metadata": {},
   "outputs": [
    {
     "name": "stdout",
     "output_type": "stream",
     "text": [
      "['HW', 'Ho', 'Hr', 'Hl', 'Hd', 'eW', 'eo', 'er', 'el', 'ed', 'lW', 'lo', 'lr', 'll', 'ld', 'lW', 'lo', 'lr', 'll', 'ld', 'oW', 'oo', 'or', 'ol', 'od']\n"
     ]
    }
   ],
   "source": [
    "word_1 = \"Hello\"\n",
    "word_2 = \"World\"\n",
    "result = [i+j for i in word_1 for j in word_2]\n",
    "print(result)"
   ]
  },
  {
   "cell_type": "code",
   "execution_count": 19,
   "id": "7d6de143-6357-4bd3-a99c-287868a9770f",
   "metadata": {},
   "outputs": [
    {
     "name": "stdout",
     "output_type": "stream",
     "text": [
      "['AD', 'AE', 'AA', 'BD', 'BE', 'BA', 'CD', 'CE', 'CA']\n"
     ]
    }
   ],
   "source": [
    "case_1 = [\"A\",\"B\",\"C\"]\n",
    "case_2 = [\"D\",\"E\",\"A\"]\n",
    "result = [i+j for i in case_1 for j in case_2]\n",
    "print(result)"
   ]
  },
  {
   "cell_type": "code",
   "execution_count": 20,
   "id": "b5f92380-0278-4962-8bfb-b60ab9e03807",
   "metadata": {},
   "outputs": [
    {
     "name": "stdout",
     "output_type": "stream",
     "text": [
      "['AD', 'AE', 'BD', 'BE', 'BA', 'CD', 'CE', 'CA']\n"
     ]
    }
   ],
   "source": [
    "result = [i+j for i in case_1 for j in case_2 if not(i==j)]\n",
    "print(result)"
   ]
  },
  {
   "cell_type": "code",
   "execution_count": 25,
   "id": "c77f7c30-6614-47d6-a9ca-5bcdb6c09c0a",
   "metadata": {},
   "outputs": [
    {
     "name": "stdout",
     "output_type": "stream",
     "text": [
      "['The', 'quick', 'brown', 'fox', 'jumps', 'over', 'the', 'lazy', 'dog']\n",
      "['THE', 'the', 3]\n",
      "['QUICK', 'quick', 5]\n",
      "['BROWN', 'brown', 5]\n",
      "['FOX', 'fox', 3]\n",
      "['JUMPS', 'jumps', 5]\n",
      "['OVER', 'over', 4]\n",
      "['THE', 'the', 3]\n",
      "['LAZY', 'lazy', 4]\n",
      "['DOG', 'dog', 3]\n"
     ]
    }
   ],
   "source": [
    "words = 'The quick brown fox jumps over the lazy dog'.split()\n",
    "print(words)\n",
    "stuff = [[w.upper(), w.lower(), len(w)] for w in words]\n",
    "for row in stuff:\n",
    "    print(row)"
   ]
  },
  {
   "cell_type": "markdown",
   "id": "c06ee4f9-0588-428b-a2d3-5e299057faa9",
   "metadata": {},
   "source": [
    "## enumerate"
   ]
  },
  {
   "cell_type": "markdown",
   "id": "ceb25ad6-2ce9-49be-bf88-4b64bf97dd9e",
   "metadata": {},
   "source": [
    "list의 element를 추출할 때 번호를 붙여서 추출"
   ]
  },
  {
   "cell_type": "code",
   "execution_count": 28,
   "id": "d2f54f81-b19b-4419-8d23-3805f6151275",
   "metadata": {},
   "outputs": [
    {
     "name": "stdout",
     "output_type": "stream",
     "text": [
      "0 tic\n",
      "1 tac\n",
      "2 toe\n"
     ]
    }
   ],
   "source": [
    "for i,v in enumerate(['tic','tac','toe']):\n",
    "    print(i,v)"
   ]
  },
  {
   "cell_type": "code",
   "execution_count": 29,
   "id": "1d8870b1-3773-4b12-be65-7e41c649f8f5",
   "metadata": {},
   "outputs": [
    {
     "data": {
      "text/plain": [
       "[(0, 'a'), (1, 'b'), (2, 'c'), (3, 'd')]"
      ]
     },
     "execution_count": 29,
     "metadata": {},
     "output_type": "execute_result"
    }
   ],
   "source": [
    "mylist = ['a','b','c','d']\n",
    "list(enumerate(mylist))"
   ]
  },
  {
   "cell_type": "code",
   "execution_count": 31,
   "id": "2009b5ae-e038-4a95-8f90-f969b60be897",
   "metadata": {},
   "outputs": [
    {
     "data": {
      "text/plain": [
       "{0: 'Artificial',\n",
       " 1: 'intelligence',\n",
       " 2: '(AI),',\n",
       " 3: 'is',\n",
       " 4: 'intelligence',\n",
       " 5: 'demonstrated',\n",
       " 6: 'by',\n",
       " 7: 'machines,',\n",
       " 8: 'unlike',\n",
       " 9: 'the',\n",
       " 10: 'natural',\n",
       " 11: 'intelligence',\n",
       " 12: 'displayed',\n",
       " 13: 'by',\n",
       " 14: 'humans',\n",
       " 15: 'and',\n",
       " 16: 'animals.'}"
      ]
     },
     "execution_count": 31,
     "metadata": {},
     "output_type": "execute_result"
    }
   ],
   "source": [
    "{i:j for i,j in enumerate('Artificial intelligence (AI), \\\n",
    "is intelligence demonstrated by machines, \\\n",
    "unlike the natural intelligence displayed by humans and animals.'.split())}"
   ]
  },
  {
   "cell_type": "markdown",
   "id": "281b5928-96f8-48e0-b43f-e0a049080e93",
   "metadata": {},
   "source": [
    "## zip"
   ]
  },
  {
   "cell_type": "markdown",
   "id": "83d37de4-9b81-42f0-8199-21ad3d2bb109",
   "metadata": {},
   "source": [
    "두 개의 list의 값을 병렬적으로 추출함"
   ]
  },
  {
   "cell_type": "code",
   "execution_count": 32,
   "id": "c7f217b3-fb3e-4ed7-9dbe-3bf0e402f135",
   "metadata": {},
   "outputs": [
    {
     "name": "stdout",
     "output_type": "stream",
     "text": [
      "a1 b1\n",
      "a2 b2\n",
      "a3 b3\n"
     ]
    }
   ],
   "source": [
    "alist = ['a1', 'a2', 'a3']\n",
    "blist = ['b1', 'b2', 'b3']\n",
    "for a,b in zip(alist, blist):\n",
    "    print(a,b)"
   ]
  },
  {
   "cell_type": "code",
   "execution_count": 33,
   "id": "dd4847c0-78c9-443b-875d-8419a3f155dd",
   "metadata": {},
   "outputs": [
    {
     "name": "stdout",
     "output_type": "stream",
     "text": [
      "0 a1 b1\n",
      "1 a2 b2\n",
      "2 a3 b3\n"
     ]
    }
   ],
   "source": [
    "# enumerate, zip 동시사용\n",
    "for i, (a,b) in enumerate(zip(alist,blist)) :\n",
    "    print(i,a,b)"
   ]
  },
  {
   "cell_type": "markdown",
   "id": "d319d30e-69ab-466f-8a82-3e1647400618",
   "metadata": {},
   "source": [
    "## lambda"
   ]
  },
  {
   "cell_type": "markdown",
   "id": "fcb34e64-abdb-49af-bd78-3dc5e1a3e2eb",
   "metadata": {},
   "source": [
    "- 이름 없는 함수, 함수처럼 사용가능\n",
    "- pep8에서느 lambda의 사용을 권장하지 않음"
   ]
  },
  {
   "cell_type": "code",
   "execution_count": 37,
   "id": "dab4ad9e-103d-4ec8-b7c0-e3499db3be71",
   "metadata": {},
   "outputs": [
    {
     "name": "stdout",
     "output_type": "stream",
     "text": [
      "5\n"
     ]
    }
   ],
   "source": [
    "def f(x,y):\n",
    "    return x+y\n",
    "print(f(1,4))"
   ]
  },
  {
   "cell_type": "code",
   "execution_count": 38,
   "id": "ab83f84c-92a7-42d0-8220-940b4d629b87",
   "metadata": {},
   "outputs": [
    {
     "name": "stdout",
     "output_type": "stream",
     "text": [
      "5\n"
     ]
    }
   ],
   "source": [
    "f = lambda x,y : x+y\n",
    "print(f(1,4))"
   ]
  },
  {
   "cell_type": "code",
   "execution_count": 42,
   "id": "6aa8c198-15f7-44e8-8966-3e19a82c23bd",
   "metadata": {},
   "outputs": [
    {
     "name": "stdout",
     "output_type": "stream",
     "text": [
      "[2, 4, 6, 8, 10]\n"
     ]
    }
   ],
   "source": [
    "ex = [1,2,3,4,5]\n",
    "f = lambda x,y : x+y\n",
    "print(list(map(f,ex,ex)))"
   ]
  },
  {
   "cell_type": "code",
   "execution_count": 43,
   "id": "98c49806-e7a0-4a82-8659-f3264820265a",
   "metadata": {},
   "outputs": [
    {
     "data": {
      "text/plain": [
       "[1, 4, 3, 16, 5]"
      ]
     },
     "execution_count": 43,
     "metadata": {},
     "output_type": "execute_result"
    }
   ],
   "source": [
    "list(\n",
    "    map(\n",
    "        lambda x: x**2 if x % 2 == 0 \n",
    "        else x, \n",
    "        ex)\n",
    ")"
   ]
  },
  {
   "cell_type": "code",
   "execution_count": 45,
   "id": "3fedd38f-034c-4fbd-b0cd-cf6e63de7296",
   "metadata": {},
   "outputs": [
    {
     "name": "stdout",
     "output_type": "stream",
     "text": [
      "[2, 4, 6, 8, 10]\n",
      "<map object at 0x7ff5e91ad370>\n",
      "<map object at 0x7ff5e91ad3a0>\n",
      "1\n",
      "4\n",
      "9\n",
      "16\n",
      "25\n"
     ]
    }
   ],
   "source": [
    "ex = [1,2,3,4,5]\n",
    "print(list(map(lambda x : x+x, ex)))\n",
    "print((map(lambda x : x+x, ex))) #map iteration 객체\n",
    "\n",
    "f = lambda x: x ** 2\n",
    "print(map(f, ex))\n",
    "for i in map(f,ex):\n",
    "    print(i)"
   ]
  },
  {
   "cell_type": "markdown",
   "id": "8007355d-16b7-4682-9cda-f8f33d1150e2",
   "metadata": {},
   "source": [
    "## reduce"
   ]
  },
  {
   "cell_type": "markdown",
   "id": "ed6d6573-106f-4287-aac8-2d308cad14af",
   "metadata": {},
   "source": [
    "map function과 달리 list에 똑같은 함수를 적용해서 통합"
   ]
  },
  {
   "cell_type": "code",
   "execution_count": 59,
   "id": "588bb624-5a25-41c7-b9e2-0bb70948dff4",
   "metadata": {},
   "outputs": [
    {
     "name": "stdout",
     "output_type": "stream",
     "text": [
      "15\n"
     ]
    }
   ],
   "source": [
    "from functools import reduce\n",
    "print(reduce(lambda x,y : x+y, [1,2,3,4,5]))"
   ]
  },
  {
   "cell_type": "markdown",
   "id": "2aca0e9b-a574-4c70-acaa-6ba50ae43f9e",
   "metadata": {},
   "source": [
    "## iterable object"
   ]
  },
  {
   "cell_type": "markdown",
   "id": "b79b5a51-811f-44d6-bad4-c2eba63d9928",
   "metadata": {},
   "source": [
    "Sequence형 자료형에서 데이터를 순서대로 추출하는 object"
   ]
  },
  {
   "cell_type": "code",
   "execution_count": 61,
   "id": "c7fcab9e-9655-4ee9-9a3a-8f61830afa41",
   "metadata": {},
   "outputs": [
    {
     "name": "stdout",
     "output_type": "stream",
     "text": [
      "Seoul\tBusan\tPohang\tPython\tC\tJava\tP y t h o n   i s   e a s y "
     ]
    }
   ],
   "source": [
    "for city in [\"Seoul\", \"Busan\", \"Pohang\"]: #list\n",
    "    print(city, end='\\t')\n",
    "for language in (\"Python\", \"C\", \"Java\") : #tuple\n",
    "    print(language, end='\\t')\n",
    "for char in \"Python is easy\" : #string\n",
    "    print(char, end=\" \")"
   ]
  },
  {
   "cell_type": "code",
   "execution_count": 62,
   "id": "c69d86d9-1a3c-458c-b926-8ef4c309db35",
   "metadata": {},
   "outputs": [
    {
     "name": "stdout",
     "output_type": "stream",
     "text": [
      "Seoul\n",
      "Busan\n",
      "Jeju\n"
     ]
    },
    {
     "ename": "StopIteration",
     "evalue": "",
     "output_type": "error",
     "traceback": [
      "\u001b[0;31m---------------------------------------------------------------------------\u001b[0m",
      "\u001b[0;31mStopIteration\u001b[0m                             Traceback (most recent call last)",
      "\u001b[0;32m/var/folders/3k/05vd5sp53wbgspztyxv0ksfm0000gn/T/ipykernel_24888/1150674935.py\u001b[0m in \u001b[0;36m<module>\u001b[0;34m\u001b[0m\n\u001b[1;32m      6\u001b[0m \u001b[0mprint\u001b[0m\u001b[0;34m(\u001b[0m\u001b[0mnext\u001b[0m\u001b[0;34m(\u001b[0m\u001b[0miter_obj\u001b[0m\u001b[0;34m)\u001b[0m\u001b[0;34m)\u001b[0m\u001b[0;34m\u001b[0m\u001b[0;34m\u001b[0m\u001b[0m\n\u001b[1;32m      7\u001b[0m \u001b[0mprint\u001b[0m\u001b[0;34m(\u001b[0m\u001b[0mnext\u001b[0m\u001b[0;34m(\u001b[0m\u001b[0miter_obj\u001b[0m\u001b[0;34m)\u001b[0m\u001b[0;34m)\u001b[0m\u001b[0;34m\u001b[0m\u001b[0;34m\u001b[0m\u001b[0m\n\u001b[0;32m----> 8\u001b[0;31m \u001b[0mnext\u001b[0m\u001b[0;34m(\u001b[0m\u001b[0miter_obj\u001b[0m\u001b[0;34m)\u001b[0m\u001b[0;34m\u001b[0m\u001b[0;34m\u001b[0m\u001b[0m\n\u001b[0m",
      "\u001b[0;31mStopIteration\u001b[0m: "
     ]
    }
   ],
   "source": [
    "# 내부적으로 iter()와 next()함수로 iterable객체를 iterator object로 사용\n",
    "cities = [\"Seoul\", \"Busan\", \"Jeju\"]\n",
    "iter_obj = iter(cities)\n",
    "\n",
    "print(next(iter_obj))\n",
    "print(next(iter_obj))\n",
    "print(next(iter_obj))\n",
    "next(iter_obj)"
   ]
  },
  {
   "cell_type": "markdown",
   "id": "71c81e19-78fc-4ea8-b0c7-dd5378e956ec",
   "metadata": {},
   "source": [
    "## generator"
   ]
  },
  {
   "cell_type": "markdown",
   "id": "ee4a7b06-abc0-4d7f-840a-fa66a5a8424f",
   "metadata": {},
   "source": [
    "- iterable object를 특수한 형태로 사용해주는 함수\n",
    "- element가 사용되는 시점에 값을 메모리에 반환\n",
    "  : yield를 사용해 한번에 하나의 element만 반환함\n",
    "- 용량 면에서훨씬 이점"
   ]
  },
  {
   "cell_type": "code",
   "execution_count": 66,
   "id": "da31b23e-cba3-418d-a729-894bb0a7e7e6",
   "metadata": {},
   "outputs": [],
   "source": [
    "def general_list(value) :\n",
    "    result = []\n",
    "    for i in range(value):\n",
    "        result.append(i)\n",
    "    return result"
   ]
  },
  {
   "cell_type": "code",
   "execution_count": 76,
   "id": "0fbd5c95-bfca-4d0f-8f7c-adf0f8435a15",
   "metadata": {},
   "outputs": [],
   "source": [
    "#호출하는 순간 iterable객체에대해 next함수를 사용하는 개념\n",
    "#용량에 대한 이점\n",
    "def general_list(value) :\n",
    "    result = []\n",
    "    for i in range(value) :\n",
    "        yield i"
   ]
  },
  {
   "cell_type": "code",
   "execution_count": 77,
   "id": "110f2bc2-1709-49e6-acff-88edb16063da",
   "metadata": {},
   "outputs": [
    {
     "name": "stdout",
     "output_type": "stream",
     "text": [
      "0\n",
      "1\n",
      "2\n",
      "3\n",
      "4\n",
      "5\n",
      "6\n",
      "7\n",
      "8\n",
      "9\n"
     ]
    }
   ],
   "source": [
    "for i in general_list(10) :\n",
    "    print(i)"
   ]
  },
  {
   "cell_type": "code",
   "execution_count": 83,
   "id": "1b88c85c-5392-4954-81ea-405c019fbb13",
   "metadata": {},
   "outputs": [
    {
     "name": "stdout",
     "output_type": "stream",
     "text": [
      "<class 'generator'>\n"
     ]
    }
   ],
   "source": [
    "gen_ex = (n*n for n in range(500))\n",
    "print(type(gen_ex))"
   ]
  },
  {
   "cell_type": "code",
   "execution_count": 85,
   "id": "fbe6136d-0f9b-4807-b532-8d0234a400bb",
   "metadata": {},
   "outputs": [],
   "source": [
    "for i in gen_ex:\n",
    "    print(i)"
   ]
  },
  {
   "cell_type": "markdown",
   "id": "104ca3ef-90bc-4cab-8460-7262d657a076",
   "metadata": {},
   "source": [
    "## function passing arguments"
   ]
  },
  {
   "cell_type": "markdown",
   "id": "96d7dc48-521b-49ce-9874-0a9e05ecd510",
   "metadata": {},
   "source": [
    "함수에 입력되는 parameter의 변수명을 사용, arguments를 넘김"
   ]
  },
  {
   "cell_type": "code",
   "execution_count": 86,
   "id": "11624936-c98e-43a0-99ec-e26497edd017",
   "metadata": {},
   "outputs": [
    {
     "name": "stdout",
     "output_type": "stream",
     "text": [
      "Hello TEAMLAB, My name is Sungchul\n",
      "Hello teamlab, My name is sungchul\n"
     ]
    }
   ],
   "source": [
    "def print_something(my_name, your_name):\n",
    "    print(\"Hello {0}, My name is {1}\".format(your_name, my_name))\n",
    "\n",
    "print_something(\"Sungchul\", \"TEAMLAB\")\n",
    "print_something(your_name=\"teamlab\",my_name='sungchul')"
   ]
  },
  {
   "cell_type": "code",
   "execution_count": 87,
   "id": "c3c7d683-862f-460d-a7eb-c0fd86c85066",
   "metadata": {},
   "outputs": [
    {
     "name": "stdout",
     "output_type": "stream",
     "text": [
      "Hello TEAMLAB, My name is Sungchul\n",
      "Hello TEAMLAB, My name is Sungchul\n"
     ]
    }
   ],
   "source": [
    "# parameter에 기본값을 사용할 수 있다.\n",
    "def print_something_2(my_name, your_name=\"TEAMLAB\"):\n",
    "    print(\"Hello {0}, My name is {1}\".format(your_name, my_name))\n",
    "\n",
    "print_something_2(\"Sungchul\", \"TEAMLAB\")\n",
    "print_something_2(\"Sungchul\")"
   ]
  },
  {
   "cell_type": "markdown",
   "id": "932ddbd1-2d17-4777-8bc0-addc8cb08903",
   "metadata": {},
   "source": [
    "### 가변인자"
   ]
  },
  {
   "cell_type": "markdown",
   "id": "d7404006-0dce-4e68-a328-f9de86f78ff1",
   "metadata": {},
   "source": [
    "- 개수가 정해지지 않은 변수를 함수의 parameter로 사용하는 법\n",
    "- keyword arguments와 함께, argument 추가가 가능\n",
    "- Asterisk(*)기호를 사용하여 함수의 parameter를 표시함\n",
    "- 입력 값은 tuple type으로 사용할 수 있음\n",
    "- 가변인자는 오직 한 개만 맨 마지막 parmeter 위치에 사용 가능"
   ]
  },
  {
   "cell_type": "code",
   "execution_count": 88,
   "id": "1071e8dd-8da9-48fc-a3c8-b6b96a3b790a",
   "metadata": {},
   "outputs": [
    {
     "name": "stdout",
     "output_type": "stream",
     "text": [
      "15\n"
     ]
    }
   ],
   "source": [
    "def asterisk_test(a,b,*args):\n",
    "    return a+b+sum(args)\n",
    "print(asterisk_test(1,2,3,4,5))"
   ]
  },
  {
   "cell_type": "code",
   "execution_count": 89,
   "id": "cf4a8be0-a2ce-4df4-87a2-40e689b00adc",
   "metadata": {},
   "outputs": [
    {
     "name": "stdout",
     "output_type": "stream",
     "text": [
      "(1, 2, 3)\n"
     ]
    }
   ],
   "source": [
    "# 파라미터에 입력된 값을 tuple로 저장\n",
    "def asterisk_test_2(*args) :\n",
    "    x,y,z = args\n",
    "    return x,y,z\n",
    "print(asterisk_test_2(1,2,3))"
   ]
  },
  {
   "cell_type": "markdown",
   "id": "24b1de92-b27b-4861-b678-85b6721c02e5",
   "metadata": {},
   "source": [
    "### 키워드 가변인자"
   ]
  },
  {
   "cell_type": "markdown",
   "id": "b1e2f0fa-62ae-4bce-9aca-6807c276be87",
   "metadata": {},
   "source": [
    "- parameter 이름을 따로 지정하지 않고 입력\n",
    "- asterik(*) 두개를 사용하여 함수의 parameter를 표시\n",
    "- 입력된 값은 dict type으로 사용\n",
    "- 가변인자는 오직 한 개만 기존 가변인자 다음에 사용"
   ]
  },
  {
   "cell_type": "code",
   "execution_count": 90,
   "id": "34f2ff27-6f82-461f-b943-89e6413a604f",
   "metadata": {},
   "outputs": [],
   "source": [
    "def kwargs_test_1(**kwargs):\n",
    "    print(kwargs)\n",
    "\n",
    "def kwargs_test_2(**kwargs):\n",
    "    print(kwargs)\n",
    "    print(\"First value is {first}\".format(**kwargs))\n",
    "    print(\"Second value is {second}\".format(**kwargs))\n",
    "    print(\"Third value is {third}\".format(**kwargs))"
   ]
  },
  {
   "cell_type": "code",
   "execution_count": 96,
   "id": "be5adfb8-8b3a-4031-8175-eb459b9b5098",
   "metadata": {},
   "outputs": [
    {
     "name": "stdout",
     "output_type": "stream",
     "text": [
      "{'first': 1, 'second': 2, 'third': 3}\n"
     ]
    }
   ],
   "source": [
    "kwargs_test_1(first=1, second=2, third=3)"
   ]
  },
  {
   "cell_type": "code",
   "execution_count": 99,
   "id": "823ee0cb-f1f3-47c6-b365-17a36e9177ac",
   "metadata": {},
   "outputs": [
    {
     "name": "stdout",
     "output_type": "stream",
     "text": [
      "{'first': 1, 'second': 2, 'third': 3, 'fourth': 4}\n",
      "First value is 1\n",
      "Second value is 2\n",
      "Third value is 3\n"
     ]
    }
   ],
   "source": [
    "kwargs_test_2(first=1, second=2, third=3, fourth=4)"
   ]
  },
  {
   "cell_type": "code",
   "execution_count": 103,
   "id": "7d5fbd86-55ff-4896-8307-c733717aa875",
   "metadata": {},
   "outputs": [
    {
     "name": "stdout",
     "output_type": "stream",
     "text": [
      "65\n",
      "(3, 4, 5, 6, 7)\n",
      "{'first': 3, 'second': 4, 'third': 5}\n"
     ]
    }
   ],
   "source": [
    "# args + kwargs\n",
    "def kwargs_test_3(one, two=100, *args, **kwargs):\n",
    "    print(one+two+sum(args))\n",
    "    print(args)\n",
    "    print(kwargs)\n",
    "\n",
    "kwargs_test_3(10,30, 3,4,5,6,7, first=3, second=4, third=5)"
   ]
  },
  {
   "cell_type": "markdown",
   "id": "433d0236-8725-4782-88b4-f6a468a7b01b",
   "metadata": {},
   "source": [
    "## asterisk"
   ]
  },
  {
   "cell_type": "code",
   "execution_count": 113,
   "id": "7b804848-4c36-4618-b322-d82139ce3d3e",
   "metadata": {},
   "outputs": [
    {
     "name": "stdout",
     "output_type": "stream",
     "text": [
      "1 (2, 3, 4, 5, 6)\n",
      "<class 'tuple'>\n"
     ]
    }
   ],
   "source": [
    "#tuple unpacking - packing - unpacking\n",
    "def asterisk_test(a, *args):\n",
    "    print(a, args)\n",
    "    print(type(args))\n",
    "    \n",
    "asterisk_test(1,*(2,3,4,5,6))"
   ]
  },
  {
   "cell_type": "code",
   "execution_count": 114,
   "id": "8720cc3a-a19f-4c33-b301-58bf46f84144",
   "metadata": {},
   "outputs": [
    {
     "name": "stdout",
     "output_type": "stream",
     "text": [
      "1 2 3 4 5 6\n",
      "<class 'tuple'>\n"
     ]
    }
   ],
   "source": [
    "# tuple에 있는 자료 unpacking\n",
    "def asterisk_test(a, args):\n",
    "    print(a, *args)\n",
    "    print(type(args))\n",
    "\n",
    "asterisk_test(1, (2,3,4,5,6))"
   ]
  },
  {
   "cell_type": "code",
   "execution_count": 116,
   "id": "975147b3-f7ef-4996-8039-d6cd293db36b",
   "metadata": {},
   "outputs": [
    {
     "name": "stdout",
     "output_type": "stream",
     "text": [
      "[1, 2] [3, 4] [5, 6]\n",
      "[1, 2] [3, 4] [5, 6]\n"
     ]
    }
   ],
   "source": [
    "a,b,c = ([1,2],[3,4],[5,6])\n",
    "print(a,b,c)\n",
    "\n",
    "data = ([1,2],[3,4],[5,6])\n",
    "print(*data)"
   ]
  },
  {
   "cell_type": "code",
   "execution_count": 117,
   "id": "5bb5cdac-76f5-48e2-9c2d-8c07eeb59d44",
   "metadata": {},
   "outputs": [
    {
     "name": "stdout",
     "output_type": "stream",
     "text": [
      "10 1 2 3\n"
     ]
    }
   ],
   "source": [
    "def asterisk_test(a,b,c,d):\n",
    "    print(a,b,c,d)\n",
    "data = {\"b\":1, \"c\":2, \"d\":3}\n",
    "asterisk_test(10, **data)"
   ]
  },
  {
   "cell_type": "code",
   "execution_count": 118,
   "id": "e929b351-4872-4287-887f-ce6b3e95e8f9",
   "metadata": {},
   "outputs": [
    {
     "name": "stdout",
     "output_type": "stream",
     "text": [
      "(1, 3, 5)\n",
      "(2, 4, 6)\n"
     ]
    }
   ],
   "source": [
    "for data in zip(*([1,2],[3,4],[5,6])):\n",
    "    print(data)"
   ]
  }
 ],
 "metadata": {
  "kernelspec": {
   "display_name": "Python 3 (ipykernel)",
   "language": "python",
   "name": "python3"
  },
  "language_info": {
   "codemirror_mode": {
    "name": "ipython",
    "version": 3
   },
   "file_extension": ".py",
   "mimetype": "text/x-python",
   "name": "python",
   "nbconvert_exporter": "python",
   "pygments_lexer": "ipython3",
   "version": "3.8.12"
  },
  "toc-autonumbering": true
 },
 "nbformat": 4,
 "nbformat_minor": 5
}
