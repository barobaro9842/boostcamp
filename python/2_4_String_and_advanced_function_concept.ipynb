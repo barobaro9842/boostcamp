{
 "cells": [
  {
   "cell_type": "markdown",
   "id": "388cc396-91fd-4542-9f7f-0caa4736611e",
   "metadata": {},
   "source": [
    "# 문자열(String)"
   ]
  },
  {
   "cell_type": "markdown",
   "id": "673b1810-eecb-4305-b0d5-949d7fa4f9dc",
   "metadata": {},
   "source": [
    "- 시퀀스 자료형으로 문자형 data를 메모리에 저장\n",
    "- 영문자 한글자는 1byte의 메모리 공간을 사용"
   ]
  },
  {
   "cell_type": "code",
   "execution_count": 10,
   "id": "12172e49-647c-4001-887d-2ba78aaeeb0d",
   "metadata": {},
   "outputs": [
    {
     "name": "stdout",
     "output_type": "stream",
     "text": [
      "50 51 52\n"
     ]
    }
   ],
   "source": [
    "# 문자열의 메모리 사이즈 (bytes)\n",
    "import sys\n",
    "print(sys.getsizeof(\"a\"), sys.getsizeof(\"ab\"), sys.getsizeof(\"abc\"))"
   ]
  },
  {
   "cell_type": "code",
   "execution_count": 12,
   "id": "8e8faac5-a309-4679-b547-6527eb2f71d7",
   "metadata": {},
   "outputs": [
    {
     "data": {
      "text/plain": [
       "\u001b[0;31mDocstring:\u001b[0m\n",
       "getsizeof(object [, default]) -> int\n",
       "\n",
       "Return the size of object in bytes.\n",
       "\u001b[0;31mType:\u001b[0m      builtin_function_or_method\n"
      ]
     },
     "metadata": {},
     "output_type": "display_data"
    }
   ],
   "source": [
    "sys.getsizeof?"
   ]
  },
  {
   "cell_type": "code",
   "execution_count": 18,
   "id": "5d15b206-f05a-4b23-ad73-5e23e607772d",
   "metadata": {},
   "outputs": [
    {
     "name": "stdout",
     "output_type": "stream",
     "text": [
      "a e\n",
      "e a\n"
     ]
    }
   ],
   "source": [
    "#문자열 인덱싱 (리스트와 동일)\n",
    "a = \"abcde\"\n",
    "print(a[0], a[4])\n",
    "print(a[-1],a[-5])"
   ]
  },
  {
   "cell_type": "code",
   "execution_count": 19,
   "id": "48552579-fcfd-4ebc-948c-e15454090e50",
   "metadata": {},
   "outputs": [
    {
     "name": "stdout",
     "output_type": "stream",
     "text": [
      "Artifi  AND   Learning\n",
      "Artificial Intelligence and Machine Learning\n",
      "Atfca nelgneadMcieLann\n",
      "gninraeL enihcaM dna ecnegilletnI laicifitrA\n"
     ]
    }
   ],
   "source": [
    "#문자열 슬라이싱 (리스트와 동일)\n",
    "a = \"Artificial Intelligence and Machine Learning\"\n",
    "print(a[0:6], \" AND \", a[-9:])\n",
    "print(a[:])\n",
    "print(a[::2])\n",
    "print(a[::-1])"
   ]
  },
  {
   "cell_type": "code",
   "execution_count": 21,
   "id": "85465c11-7f89-4498-90ef-6cd1e3bdf519",
   "metadata": {},
   "outputs": [
    {
     "name": "stdout",
     "output_type": "stream",
     "text": [
      "TEAM LAB\n",
      "False\n",
      "TEAMTEAM LABLABLAB\n"
     ]
    }
   ],
   "source": [
    "# +, *, in 등의 연산 가능\n",
    "a = \"TEAM\"\n",
    "b = \"LAB\"\n",
    "print(a + \" \" + b)\n",
    "print(a in b)\n",
    "print(a*2 + \" \" + b*3)"
   ]
  },
  {
   "cell_type": "code",
   "execution_count": 36,
   "id": "4b06fbf3-7250-4cb5-beb8-1de4164130ec",
   "metadata": {},
   "outputs": [
    {
     "name": "stdout",
     "output_type": "stream",
     "text": [
      "19\n",
      "THIS IS TEST STRING\n",
      "this is test string\n",
      "This is test string\n",
      "This Is Test String\n",
      "4\n"
     ]
    }
   ],
   "source": [
    "# 문자열 함수\n",
    "a = \"this is test string\"\n",
    "print(len(a)) #길이\n",
    "print(a.upper()) #대문자\n",
    "print(a.lower()) #소문자\n",
    "print(a.capitalize()) #첫글자대문자\n",
    "print(a.title()) #제목 형태, 단어의 첫글자 대문자\n",
    "print(a.count('t')) #문자열에 't'가 들어간 횟수"
   ]
  },
  {
   "cell_type": "code",
   "execution_count": 40,
   "id": "099dd89b-3dcd-498c-ba3e-c125e6268513",
   "metadata": {},
   "outputs": [
    {
     "name": "stdout",
     "output_type": "stream",
     "text": [
      "3\n",
      "13\n",
      "False\n",
      "True\n",
      "this is test string\n",
      "this is test string\n",
      "this is test string\n",
      "['this', 'is', 'test', 'string']\n",
      "['th', 's ', 's test str', 'ng']\n"
     ]
    }
   ],
   "source": [
    "print(a.find('s')) #첫번째 s 인덱스\n",
    "print(a.rfind('s')) #마지막 s 인덱스\n",
    "print(a.startswith('i')) #해당 글자로 시작하는지 여부 bool\n",
    "print(a.endswith('g'))\n",
    "print(a.strip()) #좌우 공백제거\n",
    "print(a.rstrip()) #오른쪽 공백제거\n",
    "print(a.lstrip()) #왼쪽 공백제거"
   ]
  },
  {
   "cell_type": "code",
   "execution_count": 42,
   "id": "98678366-920f-4919-97d0-0946434e96fa",
   "metadata": {},
   "outputs": [
    {
     "name": "stdout",
     "output_type": "stream",
     "text": [
      "['this', 'is', 'test', 'string']\n",
      "['th', 's ', 's test str', 'ng']\n",
      "True\n",
      "False\n"
     ]
    }
   ],
   "source": [
    "print(a.split()) #문장 -> 단어로 분리\n",
    "print(a.split('i')) # 'i' 기준으로 문장 분리\n",
    "print(a.islower()) # 소문자 여부\n",
    "print(a.isupper()) # 대문자 여부"
   ]
  },
  {
   "cell_type": "code",
   "execution_count": 53,
   "id": "fac35ab6-f7a9-48e8-afd5-9208b1c06121",
   "metadata": {},
   "outputs": [
    {
     "name": "stdout",
     "output_type": "stream",
     "text": [
      "asdfasdf\n",
      "\\\n",
      "'\n",
      "\"\n",
      "ab\n",
      "line \n",
      " line\n",
      "a \t b\n"
     ]
    }
   ],
   "source": [
    "# 문자열 특수문자 \\\n",
    "print('asdf\\\n",
    "asdf') # \\ 다음줄과 연속임\n",
    "print('\\\\') # \\문자 출력\n",
    "print('\\'') # '문자 출력\n",
    "print('\\\"') # \"문자 출력\n",
    "print('abc\\b') # 백스페이스\n",
    "print('line \\n line') # 줄바꾸기\n",
    "print('a \\t b') #tab 키"
   ]
  },
  {
   "cell_type": "code",
   "execution_count": 56,
   "id": "a0555146-538c-411e-96ab-7e73e1688ba5",
   "metadata": {},
   "outputs": [
    {
     "name": "stdout",
     "output_type": "stream",
     "text": [
      "line \\n line\n"
     ]
    }
   ],
   "source": [
    "# raw_string : escape 문자를 그대로 출력\n",
    "print(r'line \\n line')"
   ]
  },
  {
   "cell_type": "code",
   "execution_count": 58,
   "id": "88285068-e8c5-4746-b525-60796664fa16",
   "metadata": {},
   "outputs": [
    {
     "name": "stdout",
     "output_type": "stream",
     "text": [
      "Number of a Word 'Yesterday' 9\n"
     ]
    }
   ],
   "source": [
    "# yesterday라는 말이 몇번 나올까\n",
    "f = open(\"data/yesterday.txt\", 'r')\n",
    "yesterday_lyric  = \"\"\n",
    "while True :\n",
    "    line = f.readline()\n",
    "    if not line: \n",
    "        break\n",
    "    yesterday_lyric = yesterday_lyric + line.strip()+'\\n'\n",
    "f.close()\n",
    "n_of_yesterday = yesterday_lyric.upper().count(\"YESTERDAY\")\n",
    "print(\"Number of a Word 'Yesterday'\", n_of_yesterday)"
   ]
  },
  {
   "cell_type": "markdown",
   "id": "61424953-07cc-4708-a43e-22cc15133f31",
   "metadata": {},
   "source": [
    "# 함수2"
   ]
  },
  {
   "cell_type": "markdown",
   "id": "36d4dcf2-7a1f-4b7f-b1bf-2ac4f9f3f797",
   "metadata": {},
   "source": [
    "파이썬은 객체의 주소가 함수로 전달"
   ]
  },
  {
   "cell_type": "code",
   "execution_count": 63,
   "id": "85554b8d-3b91-458c-8bd6-971c1ccb46cc",
   "metadata": {},
   "outputs": [
    {
     "name": "stdout",
     "output_type": "stream",
     "text": [
      "[0, 1]\n"
     ]
    }
   ],
   "source": [
    "def spam(eggs) :\n",
    "    eggs.append(1) # 전달된 객체\n",
    "    eggs = [2,3] # 새로운 객체\n",
    "\n",
    "ham = [0]\n",
    "spam(ham)\n",
    "print(ham)"
   ]
  },
  {
   "cell_type": "code",
   "execution_count": 74,
   "id": "5633bcd1-491c-42ab-944e-d01cf2e48047",
   "metadata": {},
   "outputs": [],
   "source": [
    "# swap\n",
    "def swap_value(x,y):\n",
    "    temp = x\n",
    "    x = y\n",
    "    y = temp #a[1] <=> a[2] no swap\n",
    "\n",
    "def swap_offset(offset_x, offset_y) :\n",
    "    temp = a[offset_x]\n",
    "    a[offset_x] = a[offset_y]\n",
    "    a[offset_y] = temp # swap\n",
    "\n",
    "def swap_reference(input_list, offset_x, offset_y) :\n",
    "    temp = input_list[offset_x]\n",
    "    input_list[offset_x] = input_list[offset_y]\n",
    "    input_list[offset_y] = temp #input_list swap, no a"
   ]
  },
  {
   "cell_type": "code",
   "execution_count": 75,
   "id": "9ac5311f-f30e-42b9-8e22-636bc6bcde5c",
   "metadata": {},
   "outputs": [
    {
     "name": "stdout",
     "output_type": "stream",
     "text": [
      "[1, 2, 3, 4, 5]\n",
      "[1, 3, 2, 4, 5]\n",
      "[1, 2, 3, 4, 5]\n"
     ]
    }
   ],
   "source": [
    "a = [1,2,3,4,5]\n",
    "swap_value(a[1], a[2])\n",
    "print(a)\n",
    "swap_offset(1,2)\n",
    "print(a)\n",
    "swap_reference(a,1,2)\n",
    "print(a)"
   ]
  },
  {
   "cell_type": "code",
   "execution_count": 77,
   "id": "dca7e977-320c-4f42-be20-fd79285d88b5",
   "metadata": {},
   "outputs": [
    {
     "name": "stdout",
     "output_type": "stream",
     "text": [
      "Before : 10\n",
      "In Function : 20\n",
      "After :  10\n"
     ]
    }
   ],
   "source": [
    "# 함수의 범위 - 지역변수와 전역변수\n",
    "def test(t) :\n",
    "    t = 20\n",
    "    print(\"In Function :\", t)\n",
    "\n",
    "x = 10\n",
    "print(\"Before :\", x)\n",
    "test(x)\n",
    "print(\"After : \", x)"
   ]
  },
  {
   "cell_type": "code",
   "execution_count": 80,
   "id": "c1e4ab74-f9f8-4467-9f08-d1786bf0b255",
   "metadata": {},
   "outputs": [
    {
     "name": "stdout",
     "output_type": "stream",
     "text": [
      "abc\n",
      "abc\n"
     ]
    }
   ],
   "source": [
    "# global 함수에서 전역변수 사용\n",
    "def f():\n",
    "    global s\n",
    "    s = \"abc\"\n",
    "    print(s)\n",
    "\n",
    "s = 'xyz'\n",
    "f()\n",
    "print(s)"
   ]
  },
  {
   "cell_type": "code",
   "execution_count": 81,
   "id": "8c6afc4d-9890-4526-9165-30adb38052fd",
   "metadata": {},
   "outputs": [
    {
     "name": "stdout",
     "output_type": "stream",
     "text": [
      "In Program - 1\n",
      "a:  5 b:  7 a+b:  12\n",
      "In Function\n",
      "a: 5 b: 7 a+b: 12 total: 12\n",
      "After Calculation\n",
      "Total:  0  Sum :  12\n"
     ]
    }
   ],
   "source": [
    "def calculate(x,y) :\n",
    "    total = x+y\n",
    "    print(\"In Function\")\n",
    "    print(\"a:\", str(a), \"b:\", str(b), \"a+b:\", str(a+b), \"total:\", str(total))\n",
    "    return total\n",
    "a = 5\n",
    "b = 7\n",
    "total = 0\n",
    "print(\"In Program - 1\")\n",
    "print(\"a: \", str(a), \"b: \",str(b), \"a+b: \",str(a+b))\n",
    "\n",
    "sum = calculate(a,b)\n",
    "print(\"After Calculation\")\n",
    "print(\"Total : \", str(total), \" Sum : \", str(sum))"
   ]
  },
  {
   "cell_type": "code",
   "execution_count": null,
   "id": "510558c5-311f-46dc-8311-67c1defa1065",
   "metadata": {},
   "outputs": [],
   "source": []
  }
 ],
 "metadata": {
  "kernelspec": {
   "display_name": "Python 3 (ipykernel)",
   "language": "python",
   "name": "python3"
  },
  "language_info": {
   "codemirror_mode": {
    "name": "ipython",
    "version": 3
   },
   "file_extension": ".py",
   "mimetype": "text/x-python",
   "name": "python",
   "nbconvert_exporter": "python",
   "pygments_lexer": "ipython3",
   "version": "3.8.12"
  }
 },
 "nbformat": 4,
 "nbformat_minor": 5
}
