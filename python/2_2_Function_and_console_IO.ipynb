{
 "cells": [
  {
   "cell_type": "markdown",
   "id": "d577c5c7-f830-4c51-8af1-e6923227f420",
   "metadata": {},
   "source": [
    "# 함수"
   ]
  },
  {
   "cell_type": "markdown",
   "id": "429028e1-267e-4894-86ec-f3cbe5547656",
   "metadata": {},
   "source": [
    "어떤 일을 수행하는 코드의 덩어리"
   ]
  },
  {
   "cell_type": "code",
   "execution_count": 1,
   "id": "210db6f0-a083-4a7a-8973-b4921d7f7a5c",
   "metadata": {},
   "outputs": [
    {
     "data": {
      "text/plain": [
       "200"
      ]
     },
     "execution_count": 1,
     "metadata": {},
     "output_type": "execute_result"
    }
   ],
   "source": [
    "def cal_rec_area(x,y):\n",
    "    return x*y\n",
    "\n",
    "rec_x = 10\n",
    "rec_y = 20\n",
    "\n",
    "cal_rec_area(rec_x, rec_y)"
   ]
  },
  {
   "cell_type": "code",
   "execution_count": 6,
   "id": "93d37577-2c25-4421-afd7-70ecd1b1942b",
   "metadata": {},
   "outputs": [],
   "source": [
    "# Parameter : 함수의 입력 인터페이스\n",
    "def f(x) :\n",
    "    return 2 * x + 7"
   ]
  },
  {
   "cell_type": "code",
   "execution_count": 7,
   "id": "5563cc29-46e3-4f0b-a8c0-de5bbe17550f",
   "metadata": {},
   "outputs": [
    {
     "name": "stdout",
     "output_type": "stream",
     "text": [
      "11\n"
     ]
    }
   ],
   "source": [
    "# Argument : 실제 파라미터에 대입된 값\n",
    "print(f(2))"
   ]
  },
  {
   "cell_type": "markdown",
   "id": "aecfee40-e5ba-471b-8e35-ef69506af0cd",
   "metadata": {},
   "source": [
    "# console in/out"
   ]
  },
  {
   "cell_type": "code",
   "execution_count": 14,
   "id": "bb4da730-134a-46bc-8f8f-aea4f8c1d9d7",
   "metadata": {},
   "outputs": [
    {
     "name": "stdout",
     "output_type": "stream",
     "text": [
      "Enter your name : \n"
     ]
    },
    {
     "name": "stdin",
     "output_type": "stream",
     "text": [
      " asdasd\n"
     ]
    },
    {
     "name": "stdout",
     "output_type": "stream",
     "text": [
      "name is asdasd\n"
     ]
    }
   ],
   "source": [
    "print(\"Enter your name : \")\n",
    "name = input()\n",
    "print('name is', name)"
   ]
  },
  {
   "cell_type": "code",
   "execution_count": 16,
   "id": "f491132c-68bd-4d3c-9b66-a7c7c3a638d7",
   "metadata": {},
   "outputs": [
    {
     "name": "stdin",
     "output_type": "stream",
     "text": [
      " 3.4\n"
     ]
    },
    {
     "name": "stdout",
     "output_type": "stream",
     "text": [
      "3.4\n"
     ]
    }
   ],
   "source": [
    "# input num\n",
    "temperature = float(input())\n",
    "print(temperature)"
   ]
  },
  {
   "cell_type": "markdown",
   "id": "65d966f1-17fa-4084-b675-b22a23e7d391",
   "metadata": {},
   "source": [
    "# print문 formatting"
   ]
  },
  {
   "cell_type": "code",
   "execution_count": 28,
   "id": "4f70ed9a-7cd8-46b7-9f77-8e295c6bce3f",
   "metadata": {},
   "outputs": [
    {
     "name": "stdout",
     "output_type": "stream",
     "text": [
      "1 2 3\n",
      "a b c\n",
      "1 2 3\n",
      "abc\n",
      "value is 123\n"
     ]
    }
   ],
   "source": [
    "value = 123\n",
    "print(1,2,3)\n",
    "print(\"a\" + \" \" + \"b\" + \" \" + \"c\") #normal string\n",
    "print(\"%d %d %d\"%(1,2,3)) # %- format\n",
    "print(\"{}{}{}\".format(\"a\",\"b\",\"c\")) # format함수\n",
    "print(f\"value is {value}\") # fstring"
   ]
  },
  {
   "cell_type": "code",
   "execution_count": 29,
   "id": "f0d0b630-c5e5-4d86-a7c7-b470e120d3b3",
   "metadata": {},
   "outputs": [
    {
     "name": "stdout",
     "output_type": "stream",
     "text": [
      "Product : Apple, Price per unit : 5.24300\n",
      "Product : Apple, Price per unit : 5.24300\n",
      "Product :      Apple, Price per unit :      5.243\n",
      "Product :      Apple, Price per unit :      5.243\n"
     ]
    }
   ],
   "source": [
    "# 여유공간지정\n",
    "print(\"Product : %5s, Price per unit : %.5f\"%(\"Apple\", 5.243))\n",
    "print(\"Product : {0:5s}, Price per unit : {1:.5f}\".format(\"Apple\", 5.243))\n",
    "print(\"Product : %10s, Price per unit : %10.3f\"%(\"Apple\", 5.243))\n",
    "print(\"Product : {0:>10s}, Price per unit : {1:10.3f}\".format(\"Apple\", 5.243))"
   ]
  },
  {
   "cell_type": "code",
   "execution_count": 36,
   "id": "9da6f900-1b88-41cf-9354-747cacd7105a",
   "metadata": {},
   "outputs": [
    {
     "name": "stdout",
     "output_type": "stream",
     "text": [
      "hello, ad. i m 3\n",
      "                  ad\n",
      "******************ad\n",
      "ad******************\n",
      "*********ad*********\n",
      "3.14\n"
     ]
    }
   ],
   "source": [
    "# PEP498 formatting\n",
    "name = 'ad'\n",
    "age = 3\n",
    "print(f'hello, {name}. i m {age}')\n",
    "print(f'{name:>20}')\n",
    "print(f'{name:*>20}')\n",
    "print(f'{name:*<20}')\n",
    "print(f'{name:*^20}')\n",
    "n = 3.141592\n",
    "print(f'{n:.2f}')"
   ]
  },
  {
   "cell_type": "markdown",
   "id": "69865ad6-24eb-40e1-a5c2-6f15f7b1823b",
   "metadata": {},
   "source": [
    "# Ex : Fahrenheit Converter"
   ]
  },
  {
   "cell_type": "code",
   "execution_count": 48,
   "id": "ae70bdf5-d7f5-4abd-bfe0-3f5233d7eb53",
   "metadata": {},
   "outputs": [
    {
     "name": "stdin",
     "output_type": "stream",
     "text": [
      "섭씨온도 : 32.2\n"
     ]
    },
    {
     "name": "stdout",
     "output_type": "stream",
     "text": [
      "화씨온도 : 89.96\n"
     ]
    }
   ],
   "source": [
    "def fahrenheit_converter(celcius):\n",
    "    return 1.8 * celcius + 32\n",
    "\n",
    "celcius = float(input(\"섭씨온도 :\"))\n",
    "fahrenheit = fahrenheit_converter(celcius)\n",
    "print(f\"화씨온도 : {fahrenheit:.2f}\")"
   ]
  },
  {
   "cell_type": "code",
   "execution_count": null,
   "id": "dca8f27c-67d5-493d-aada-febad894888e",
   "metadata": {},
   "outputs": [],
   "source": []
  }
 ],
 "metadata": {
  "kernelspec": {
   "display_name": "Python 3 (ipykernel)",
   "language": "python",
   "name": "python3"
  },
  "language_info": {
   "codemirror_mode": {
    "name": "ipython",
    "version": 3
   },
   "file_extension": ".py",
   "mimetype": "text/x-python",
   "name": "python",
   "nbconvert_exporter": "python",
   "pygments_lexer": "ipython3",
   "version": "3.8.12"
  }
 },
 "nbformat": 4,
 "nbformat_minor": 5
}
