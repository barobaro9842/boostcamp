{
 "cells": [
  {
   "cell_type": "markdown",
   "id": "722edd65-7d9d-4649-9e4d-c3948fefa743",
   "metadata": {},
   "source": [
    "# Exception"
   ]
  },
  {
   "cell_type": "markdown",
   "id": "01578940-83f7-4450-9408-99880660bb2d",
   "metadata": {},
   "source": [
    "- 예상 가능한 예외\n",
    "    - 발생여부를 사전에 인지할 수 있음\n",
    "    - 사용자의 잘못된 입력, 파일 호출 시 파일 없음 등\n",
    "    - 개발자가 명시적으로 정의해야함\n",
    "- 예상 불가능한 예외\n",
    "    - 인터프리터 과정에서 발생하는 예외, 개발자 실수\n",
    "    - 리스트의 범위를 넘어가는 값 호출, 정수 0으로 나눔 등\n",
    "    - 수행 불가 시 인터프리터가 자동 호출"
   ]
  },
  {
   "cell_type": "code",
   "execution_count": 2,
   "id": "89a30c7e-8afb-45a5-bdcc-b4df967c7014",
   "metadata": {},
   "outputs": [
    {
     "name": "stdout",
     "output_type": "stream",
     "text": [
      "division by zero\n",
      "Not divided by 0\n",
      "10.0\n",
      "5.0\n",
      "3.3333333333333335\n",
      "2.5\n",
      "2.0\n",
      "1.6666666666666667\n",
      "1.4285714285714286\n",
      "1.25\n",
      "1.1111111111111112\n"
     ]
    }
   ],
   "source": [
    "for i in range(10) :\n",
    "    try :\n",
    "        print(10 / i)\n",
    "    except ZeroDivisionError as e:\n",
    "        print(e)\n",
    "        print(\"Not divided by 0\")"
   ]
  },
  {
   "cell_type": "markdown",
   "id": "5e330437-d9ec-44c5-ab9d-351c9da7797b",
   "metadata": {},
   "source": [
    "## try-except-else"
   ]
  },
  {
   "cell_type": "code",
   "execution_count": 4,
   "id": "82d96226-8c5d-49a0-9886-01218e40a46a",
   "metadata": {},
   "outputs": [
    {
     "name": "stdout",
     "output_type": "stream",
     "text": [
      "Not divided by 0\n",
      "10.0\n",
      "5.0\n",
      "3.3333333333333335\n",
      "2.5\n",
      "2.0\n",
      "1.6666666666666667\n",
      "1.4285714285714286\n",
      "1.25\n",
      "1.1111111111111112\n"
     ]
    }
   ],
   "source": [
    "for i in range(10):\n",
    "    try :\n",
    "        result = 10 / i\n",
    "    except ZeroDivisionError:\n",
    "        print(\"Not divided by 0\")\n",
    "    else : #except로 진입하지 않으면 실행\n",
    "        print(10 / i) "
   ]
  },
  {
   "cell_type": "markdown",
   "id": "9592b44b-4d16-4eac-8eef-4f9a2e25faee",
   "metadata": {},
   "source": [
    "## try-except-finally"
   ]
  },
  {
   "cell_type": "code",
   "execution_count": 6,
   "id": "cb60315f-8c43-4e55-a826-bdbe4c77a61c",
   "metadata": {},
   "outputs": [
    {
     "name": "stdout",
     "output_type": "stream",
     "text": [
      "Not divided by 0\n",
      "---------\n",
      "10.0\n",
      "---------\n",
      "5.0\n",
      "---------\n",
      "3.3333333333333335\n",
      "---------\n",
      "2.5\n",
      "---------\n",
      "2.0\n",
      "---------\n",
      "1.6666666666666667\n",
      "---------\n",
      "1.4285714285714286\n",
      "---------\n",
      "1.25\n",
      "---------\n",
      "1.1111111111111112\n",
      "---------\n"
     ]
    }
   ],
   "source": [
    "for i in range(10):\n",
    "    try :\n",
    "        result = 10 / i\n",
    "    except ZeroDivisionError:\n",
    "        print(\"Not divided by 0\")\n",
    "    else : #except로 진입하지 않으면 실행\n",
    "        print(10 / i) \n",
    "    finally :\n",
    "        print('---------') #예외발생여부와 관계 없이 무조건 실행"
   ]
  },
  {
   "cell_type": "markdown",
   "id": "d84bfffc-b707-4379-bceb-320788b30e89",
   "metadata": {},
   "source": [
    "## raise"
   ]
  },
  {
   "cell_type": "markdown",
   "id": "c7282c1e-c056-43f9-b5ba-2306c2c55d94",
   "metadata": {},
   "source": [
    "필요에 따라 강제로 Exception을 발생"
   ]
  },
  {
   "cell_type": "code",
   "execution_count": 7,
   "id": "cc8ae2ab-5b3c-4612-a938-23a34025592d",
   "metadata": {},
   "outputs": [
    {
     "name": "stdin",
     "output_type": "stream",
     "text": [
      "변환할 정수값을 입력해주세요 4\n"
     ]
    },
    {
     "name": "stdout",
     "output_type": "stream",
     "text": [
      "정수값으로 변환된 숫자 - 4\n"
     ]
    },
    {
     "name": "stdin",
     "output_type": "stream",
     "text": [
      "변환할 정수값을 입력해주세요 3\n"
     ]
    },
    {
     "name": "stdout",
     "output_type": "stream",
     "text": [
      "정수값으로 변환된 숫자 - 3\n"
     ]
    },
    {
     "name": "stdin",
     "output_type": "stream",
     "text": [
      "변환할 정수값을 입력해주세요 2\n"
     ]
    },
    {
     "name": "stdout",
     "output_type": "stream",
     "text": [
      "정수값으로 변환된 숫자 - 2\n"
     ]
    },
    {
     "name": "stdin",
     "output_type": "stream",
     "text": [
      "변환할 정수값을 입력해주세요 5\n"
     ]
    },
    {
     "name": "stdout",
     "output_type": "stream",
     "text": [
      "정수값으로 변환된 숫자 - 5\n"
     ]
    },
    {
     "name": "stdin",
     "output_type": "stream",
     "text": [
      "변환할 정수값을 입력해주세요 0\n"
     ]
    },
    {
     "name": "stdout",
     "output_type": "stream",
     "text": [
      "정수값으로 변환된 숫자 - 0\n"
     ]
    },
    {
     "name": "stdin",
     "output_type": "stream",
     "text": [
      "변환할 정수값을 입력해주세요 10\n"
     ]
    },
    {
     "name": "stdout",
     "output_type": "stream",
     "text": [
      "정수값으로 변환된 숫자 - 10\n"
     ]
    },
    {
     "name": "stdin",
     "output_type": "stream",
     "text": [
      "변환할 정수값을 입력해주세요 239\n"
     ]
    },
    {
     "name": "stdout",
     "output_type": "stream",
     "text": [
      "정수값으로 변환된 숫자 - 239\n"
     ]
    },
    {
     "name": "stdin",
     "output_type": "stream",
     "text": [
      "변환할 정수값을 입력해주세요 df\n"
     ]
    },
    {
     "ename": "ValueError",
     "evalue": "숫자를 입력하지 않았습니다.",
     "output_type": "error",
     "traceback": [
      "\u001b[0;31m---------------------------------------------------------------------------\u001b[0m",
      "\u001b[0;31mValueError\u001b[0m                                Traceback (most recent call last)",
      "\u001b[0;32m/var/folders/3k/05vd5sp53wbgspztyxv0ksfm0000gn/T/ipykernel_45271/663908261.py\u001b[0m in \u001b[0;36m<module>\u001b[0;34m\u001b[0m\n\u001b[1;32m      3\u001b[0m     \u001b[0;32mfor\u001b[0m \u001b[0mdigit\u001b[0m \u001b[0;32min\u001b[0m \u001b[0mvalue\u001b[0m \u001b[0;34m:\u001b[0m\u001b[0;34m\u001b[0m\u001b[0;34m\u001b[0m\u001b[0m\n\u001b[1;32m      4\u001b[0m         \u001b[0;32mif\u001b[0m \u001b[0mdigit\u001b[0m \u001b[0;32mnot\u001b[0m \u001b[0;32min\u001b[0m \u001b[0;34m\"0123456789\"\u001b[0m \u001b[0;34m:\u001b[0m\u001b[0;34m\u001b[0m\u001b[0;34m\u001b[0m\u001b[0m\n\u001b[0;32m----> 5\u001b[0;31m             \u001b[0;32mraise\u001b[0m \u001b[0mValueError\u001b[0m\u001b[0;34m(\u001b[0m\u001b[0;34m\"숫자를 입력하지 않았습니다.\"\u001b[0m\u001b[0;34m)\u001b[0m\u001b[0;34m\u001b[0m\u001b[0;34m\u001b[0m\u001b[0m\n\u001b[0m\u001b[1;32m      6\u001b[0m     \u001b[0mprint\u001b[0m\u001b[0;34m(\u001b[0m\u001b[0;34m\"정수값으로 변환된 숫자 -\"\u001b[0m\u001b[0;34m,\u001b[0m \u001b[0mint\u001b[0m\u001b[0;34m(\u001b[0m\u001b[0mvalue\u001b[0m\u001b[0;34m)\u001b[0m\u001b[0;34m)\u001b[0m\u001b[0;34m\u001b[0m\u001b[0;34m\u001b[0m\u001b[0m\n",
      "\u001b[0;31mValueError\u001b[0m: 숫자를 입력하지 않았습니다."
     ]
    }
   ],
   "source": [
    "while True :\n",
    "    value = input(\"변환할 정수값을 입력해주세요\")\n",
    "    for digit in value :\n",
    "        if digit not in \"0123456789\" :\n",
    "            raise ValueError(\"숫자를 입력하지 않았습니다.\")\n",
    "    print(\"정수값으로 변환된 숫자 -\", int(value))"
   ]
  },
  {
   "cell_type": "markdown",
   "id": "326ca5e5-2706-4d0d-95df-210ba1904e3c",
   "metadata": {},
   "source": [
    "## assert"
   ]
  },
  {
   "cell_type": "markdown",
   "id": "f5623ccd-5dcf-4c55-b9f4-3886dd26fd18",
   "metadata": {},
   "source": [
    "특정 조건에 만족하지 않을 경우 예외 발생"
   ]
  },
  {
   "cell_type": "code",
   "execution_count": 11,
   "id": "955e1b61-eb90-4439-b069-b39e3022e7a7",
   "metadata": {},
   "outputs": [
    {
     "name": "stdout",
     "output_type": "stream",
     "text": [
      "0b1010\n"
     ]
    },
    {
     "ename": "AssertionError",
     "evalue": "",
     "output_type": "error",
     "traceback": [
      "\u001b[0;31m---------------------------------------------------------------------------\u001b[0m",
      "\u001b[0;31mAssertionError\u001b[0m                            Traceback (most recent call last)",
      "\u001b[0;32m/var/folders/3k/05vd5sp53wbgspztyxv0ksfm0000gn/T/ipykernel_45271/1718208696.py\u001b[0m in \u001b[0;36m<module>\u001b[0;34m\u001b[0m\n\u001b[1;32m      4\u001b[0m \u001b[0;34m\u001b[0m\u001b[0m\n\u001b[1;32m      5\u001b[0m \u001b[0mprint\u001b[0m\u001b[0;34m(\u001b[0m\u001b[0mget_binary_number\u001b[0m\u001b[0;34m(\u001b[0m\u001b[0;36m10\u001b[0m\u001b[0;34m)\u001b[0m\u001b[0;34m)\u001b[0m\u001b[0;34m\u001b[0m\u001b[0;34m\u001b[0m\u001b[0m\n\u001b[0;32m----> 6\u001b[0;31m \u001b[0mprint\u001b[0m\u001b[0;34m(\u001b[0m\u001b[0mget_binary_number\u001b[0m\u001b[0;34m(\u001b[0m\u001b[0;34m'asd'\u001b[0m\u001b[0;34m)\u001b[0m\u001b[0;34m)\u001b[0m\u001b[0;34m\u001b[0m\u001b[0;34m\u001b[0m\u001b[0m\n\u001b[0m",
      "\u001b[0;32m/var/folders/3k/05vd5sp53wbgspztyxv0ksfm0000gn/T/ipykernel_45271/1718208696.py\u001b[0m in \u001b[0;36mget_binary_number\u001b[0;34m(decimal_number)\u001b[0m\n\u001b[1;32m      1\u001b[0m \u001b[0;32mdef\u001b[0m \u001b[0mget_binary_number\u001b[0m\u001b[0;34m(\u001b[0m\u001b[0mdecimal_number\u001b[0m\u001b[0;34m)\u001b[0m \u001b[0;34m:\u001b[0m\u001b[0;34m\u001b[0m\u001b[0;34m\u001b[0m\u001b[0m\n\u001b[0;32m----> 2\u001b[0;31m     \u001b[0;32massert\u001b[0m \u001b[0misinstance\u001b[0m\u001b[0;34m(\u001b[0m\u001b[0mdecimal_number\u001b[0m\u001b[0;34m,\u001b[0m \u001b[0mint\u001b[0m\u001b[0;34m)\u001b[0m\u001b[0;34m\u001b[0m\u001b[0;34m\u001b[0m\u001b[0m\n\u001b[0m\u001b[1;32m      3\u001b[0m     \u001b[0;32mreturn\u001b[0m \u001b[0mbin\u001b[0m\u001b[0;34m(\u001b[0m\u001b[0mdecimal_number\u001b[0m\u001b[0;34m)\u001b[0m\u001b[0;34m\u001b[0m\u001b[0;34m\u001b[0m\u001b[0m\n\u001b[1;32m      4\u001b[0m \u001b[0;34m\u001b[0m\u001b[0m\n\u001b[1;32m      5\u001b[0m \u001b[0mprint\u001b[0m\u001b[0;34m(\u001b[0m\u001b[0mget_binary_number\u001b[0m\u001b[0;34m(\u001b[0m\u001b[0;36m10\u001b[0m\u001b[0;34m)\u001b[0m\u001b[0;34m)\u001b[0m\u001b[0;34m\u001b[0m\u001b[0;34m\u001b[0m\u001b[0m\n",
      "\u001b[0;31mAssertionError\u001b[0m: "
     ]
    }
   ],
   "source": [
    "def get_binary_number(decimal_number) :\n",
    "    assert isinstance(decimal_number, int)\n",
    "    return bin(decimal_number)\n",
    "\n",
    "print(get_binary_number(10))\n",
    "print(get_binary_number('asd'))"
   ]
  },
  {
   "cell_type": "markdown",
   "id": "664670a3-b6d2-4f31-9c11-853705ac20c8",
   "metadata": {},
   "source": [
    "# File Handling"
   ]
  },
  {
   "cell_type": "markdown",
   "id": "334155e2-4677-480c-b146-f15a01cd84fc",
   "metadata": {},
   "source": [
    "- 기본적인 파일 종류로 text 파일과 binary파일로 나눔\n",
    "- 컴퓨터는 text 파일을 처리하기 위해 binary 파일을 변환시킴\n",
    "- 모든 text 파일도 실제는 binary 파일, ASCII / Unicode 문자열 집합으로 저장되어 사람이 읽을 수 있음"
   ]
  },
  {
   "cell_type": "code",
   "execution_count": 20,
   "id": "77911e1b-df0c-420c-bcad-b26f7b8dda1d",
   "metadata": {
    "collapsed": true,
    "jupyter": {
     "outputs_hidden": true
    },
    "tags": []
   },
   "outputs": [
    {
     "name": "stdout",
     "output_type": "stream",
     "text": [
      "['{\\n', ' \"cells\": [\\n', '  {\\n', '   \"cell_type\": \"markdown\",\\n', '   \"id\": \"45dc8e1a-6a5e-4ca4-b0ab-b145a86c1491\",\\n', '   \"metadata\": {\\n', '    \"tags\": []\\n', '   },\\n', '   \"source\": [\\n', '    \"# 기본 자료형\"\\n', '   ]\\n', '  },\\n', '  {\\n', '   \"cell_type\": \"markdown\",\\n', '   \"id\": \"11f508fb-1f07-4f4d-9ab3-7051f89e29bf\",\\n', '   \"metadata\": {},\\n', '   \"source\": [\\n', '    \"python의 데이터 타입은 Dynamic typing 방식으로 실행하는 순간 타입이 결정\"\\n', '   ]\\n', '  },\\n', '  {\\n', '   \"cell_type\": \"code\",\\n', '   \"execution_count\": 12,\\n', '   \"id\": \"b04ced85-6516-47fa-b048-3bb6ce372b6e\",\\n', '   \"metadata\": {},\\n', '   \"outputs\": [\\n', '    {\\n', '     \"name\": \"stdout\",\\n', '     \"output_type\": \"stream\",\\n', '     \"text\": [\\n', '      \"1 1\\\\n\"\\n', '     ]\\n', '    }\\n', '   ],\\n', '   \"source\": [\\n', '    \"# integer\\\\n\",\\n', '    \"a = 1\\\\n\",\\n', '    \"b = 1\\\\n\",\\n', '    \"print(a,b)\"\\n', '   ]\\n', '  },\\n', '  {\\n', '   \"cell_type\": \"code\",\\n', '   \"execution_count\": 13,\\n', '   \"id\": \"ddffc7d1-2a1d-426e-875e-890331772090\",\\n', '   \"metadata\": {},\\n', '   \"outputs\": [\\n', '    {\\n', '     \"name\": \"stdout\",\\n', '     \"output_type\": \"stream\",\\n', '     \"text\": [\\n', '      \"1.5 3.5\\\\n\"\\n', '     ]\\n', '    }\\n', '   ],\\n', '   \"source\": [\\n', '    \"#float\\\\n\",\\n', '    \"a = 1.5\\\\n\",\\n', '    \"b = 3.5\\\\n\",\\n', '    \"print(a,b)\"\\n', '   ]\\n', '  },\\n', '  {\\n', '   \"cell_type\": \"code\",\\n', '   \"execution_count\": 14,\\n', '   \"id\": \"aa1d535d-1fdd-4791-b82e-1c2ffadca1dd\",\\n', '   \"metadata\": {},\\n', '   \"outputs\": [\\n', '    {\\n', '     \"name\": \"stdout\",\\n', '     \"output_type\": \"stream\",\\n', '     \"text\": [\\n', '      \"ABC 101010\\\\n\"\\n', '     ]\\n', '    }\\n', '   ],\\n', '   \"source\": [\\n', '    \"#String\\\\n\",\\n', '    \"a = \\\\\"ABC\\\\\"\\\\n\",\\n', '    \"b = \\\\\"101010\\\\\"\\\\n\",\\n', '    \"print(a,b)\"\\n', '   ]\\n', '  },\\n', '  {\\n', '   \"cell_type\": \"code\",\\n', '   \"execution_count\": 15,\\n', '   \"id\": \"19372567-ea3e-40b0-aae2-c053f1356549\",\\n', '   \"metadata\": {},\\n', '   \"outputs\": [\\n', '    {\\n', '     \"name\": \"stdout\",\\n', '     \"output_type\": \"stream\",\\n', '     \"text\": [\\n', '      \"True False\\\\n\"\\n', '     ]\\n', '    }\\n', '   ],\\n', '   \"source\": [\\n', '    \"#Boolean\\\\n\",\\n', '    \"a = True\\\\n\",\\n', '    \"b = False\\\\n\",\\n', '    \"print(a,b)\"\\n', '   ]\\n', '  },\\n', '  {\\n', '   \"cell_type\": \"markdown\",\\n', '   \"id\": \"2cd538ed-de77-459e-8a2c-34cd545ff4bb\",\\n', '   \"metadata\": {},\\n', '   \"source\": [\\n', '    \"# 연산자와 피연산자\"\\n', '   ]\\n', '  },\\n', '  {\\n', '   \"cell_type\": \"markdown\",\\n', '   \"id\": \"909ca0ed-447b-4fe7-8831-49670a128743\",\\n', '   \"metadata\": {},\\n', '   \"source\": [\\n', '    \"- +,-,*,/ 같은 기호들을 연산자로 칭함\\\\n\",\\n', '    \"- 연산자에 의해 계산 되는 숫자들은 피연산자\\\\n\",\\n', '    \"- 연산 순서는 수학과 동일\\\\n\",\\n', '    \"- 문자간에도 + 연산이 가능 -> concatenate\"\\n', '   ]\\n', '  },\\n', '  {\\n', '   \"cell_type\": \"code\",\\n', '   \"execution_count\": 16,\\n', '   \"id\": \"2518880f-a824-4258-8118-b73332f31dc6\",\\n', '   \"metadata\": {},\\n', '   \"outputs\": [\\n', '    {\\n', '     \"name\": \"stdout\",\\n', '     \"output_type\": \"stream\",\\n', '     \"text\": [\\n', '      \"243\\\\n\",\\n', '      \"243\\\\n\"\\n', '     ]\\n', '    }\\n', '   ],\\n', '   \"source\": [\\n', '    \"# 제곱승과 나머지 구하기\\\\n\",\\n', '    \"print(3*3*3*3*3)\\\\n\",\\n', '    \"print(3**5)\"\\n', '   ]\\n', '  },\\n', '  {\\n', '   \"cell_type\": \"code\",\\n', '   \"execution_count\": 18,\\n', '   \"id\": \"c31d2f55-34ec-4a56-a6db-795ba1a0a8ce\",\\n', '   \"metadata\": {},\\n', '   \"outputs\": [\\n', '    {\\n', '     \"name\": \"stdout\",\\n', '     \"output_type\": \"stream\",\\n', '     \"text\": [\\n', '      \"3.5\\\\n\",\\n', '      \"1\\\\n\"\\n', '     ]\\n', '    }\\n', '   ],\\n', '   \"source\": [\\n', '    \"#%는 나머지 연산자\\\\n\",\\n', '    \"print(7/2)\\\\n\",\\n', '    \"print(7%2)\"\\n', '   ]\\n', '  },\\n', '  {\\n', '   \"cell_type\": \"code\",\\n', '   \"execution_count\": 19,\\n', '   \"id\": \"61b76029-0bfb-42c8-9b28-d86c635dded5\",\\n', '   \"metadata\": {},\\n', '   \"outputs\": [\\n', '    {\\n', '     \"name\": \"stdout\",\\n', '     \"output_type\": \"stream\",\\n', '     \"text\": [\\n', '      \"2\\\\n\",\\n', '      \"1\\\\n\"\\n', '     ]\\n', '    }\\n', '   ],\\n', '   \"source\": [\\n', '    \"#증감연산\\\\n\",\\n', '    \"a = 1\\\\n\",\\n', '    \"a += 1\\\\n\",\\n', '    \"print(a)\\\\n\",\\n', '    \"a -= 1\\\\n\",\\n', '    \"print(a)\"\\n', '   ]\\n', '  },\\n', '  {\\n', '   \"cell_type\": \"markdown\",\\n', '   \"id\": \"41416bbe-e566-4d93-bd23-6c09c9b618c6\",\\n', '   \"metadata\": {},\\n', '   \"source\": [\\n', '    \"# 데이터 형변환\"\\n', '   ]\\n', '  },\\n', '  {\\n', '   \"cell_type\": \"code\",\\n', '   \"execution_count\": 22,\\n', '   \"id\": \"e709afa4-e203-4578-8402-c9226441b6f3\",\\n', '   \"metadata\": {},\\n', '   \"outputs\": [\\n', '    {\\n', '     \"name\": \"stdout\",\\n', '     \"output_type\": \"stream\",\\n', '     \"text\": [\\n', '      \"10\\\\n\",\\n', '      \"10.0\\\\n\"\\n', '     ]\\n', '    }\\n', '   ],\\n', '   \"source\": [\\n', '    \"a = 10\\\\n\",\\n', '    \"print(a)\\\\n\",\\n', '    \"a = float(10)\\\\n\",\\n', '    \"print(a)\"\\n', '   ]\\n', '  },\\n', '  {\\n', '   \"cell_type\": \"code\",\\n', '   \"execution_count\": 25,\\n', '   \"id\": \"76263ed1-986a-497f-b34c-f616b7844da9\",\\n', '   \"metadata\": {},\\n', '   \"outputs\": [\\n', '    {\\n', '     \"name\": \"stdout\",\\n', '     \"output_type\": \"stream\",\\n', '     \"text\": [\\n', '      \"20\\\\n\"\\n', '     ]\\n', '    }\\n', '   ],\\n', '   \"source\": [\\n', '    \"# 실수형 -> 정수형 형변환 시 소숫점 아래는 버림\\\\n\",\\n', '    \"a = 10.7\\\\n\",\\n', '    \"b = 10.3\\\\n\",\\n', '    \"a = int(a) # 10\\\\n\",\\n', '    \"b = int(b) # 10\\\\n\",\\n', '    \"print(a+b) # 20\"\\n', '   ]\\n', '  },\\n', '  {\\n', '   \"cell_type\": \"code\",\\n', '   \"execution_count\": 26,\\n', '   \"id\": \"c776fec8-5fd8-4c5b-8560-9f47b0c2bb31\",\\n', '   \"metadata\": {},\\n', '   \"outputs\": [\\n', '    {\\n', '     \"name\": \"stdout\",\\n', '     \"output_type\": \"stream\",\\n', '     \"text\": [\\n', '      \"76.3\\\\n\"\\n', '     ]\\n', '    }\\n', '   ],\\n', '   \"source\": [\\n', '    \"# string -> float\\\\n\",\\n', '    \"a = \\'76.3\\'\\\\n\",\\n', '    \"b = float(a)\\\\n\",\\n', '    \"print(a)\"\\n', '   ]\\n', '  },\\n', '  {\\n', '   \"cell_type\": \"code\",\\n', '   \"execution_count\": 29,\\n', '   \"id\": \"75054f42-d538-4f6d-b7e5-9c77060f5983\",\\n', '   \"metadata\": {},\\n', '   \"outputs\": [\\n', '    {\\n', '     \"name\": \"stdout\",\\n', '     \"output_type\": \"stream\",\\n', '     \"text\": [\\n', '      \"<class \\'float\\'>\\\\n\",\\n', '      \"<class \\'str\\'>\\\\n\",\\n', '      \"<class \\'int\\'>\\\\n\"\\n', '     ]\\n', '    }\\n', '   ],\\n', '   \"source\": [\\n', '    \"# type()으로 데이터 타입 출력\\\\n\",\\n', '    \"print(type(76.3))\\\\n\",\\n', '    \"print(type(\\'76.3\\'))\\\\n\",\\n', '    \"print(type(76))\"\\n', '   ]\\n', '  },\\n', '  {\\n', '   \"cell_type\": \"markdown\",\\n', '   \"id\": \"588d232a-21df-406e-af61-ec840fa5f059\",\\n', '   \"metadata\": {},\\n', '   \"source\": [\\n', '    \"# 리스트\"\\n', '   ]\\n', '  },\\n', '  {\\n', '   \"cell_type\": \"code\",\\n', '   \"execution_count\": 30,\\n', '   \"id\": \"ffc0b2f5-86da-47c0-8212-7eb7d135d3f0\",\\n', '   \"metadata\": {\\n', '    \"tags\": []\\n', '   },\\n', '   \"outputs\": [\\n', '    {\\n', '     \"name\": \"stdout\",\\n', '     \"output_type\": \"stream\",\\n', '     \"text\": [\\n', '      \"r\\\\n\",\\n', '      \"b\\\\n\",\\n', '      \"3\\\\n\"\\n', '     ]\\n', '    }\\n', '   ],\\n', '   \"source\": [\\n', '    \"# 인덱싱\\\\n\",\\n', '    \"colors = [\\'r\\',\\'g\\',\\'b\\']\\\\n\",\\n', '    \"print(colors[0])\\\\n\",\\n', '    \"print(colors[2])\\\\n\",\\n', '    \"print(len(colors))\"\\n', '   ]\\n', '  },\\n', '  {\\n', '   \"cell_type\": \"code\",\\n', '   \"execution_count\": 34,\\n', '   \"id\": \"5954ce03-e797-4f0f-86c0-8abe7b8e1c88\",\\n', '   \"metadata\": {},\\n', '   \"outputs\": [\\n', '    {\\n', '     \"name\": \"stdout\",\\n', '     \"output_type\": \"stream\",\\n', '     \"text\": [\\n', '      \"[\\'a\\', \\'b\\', \\'c\\', \\'d\\'] and [\\'a\\', \\'b\\']\\\\n\",\\n', '      \"[\\'a\\', \\'b\\', \\'c\\', \\'d\\', \\'e\\', \\'f\\', \\'g\\', \\'h\\', \\'i\\', \\'j\\']\\\\n\",\\n', '      \"[\\'a\\', \\'b\\', \\'c\\', \\'d\\', \\'e\\', \\'f\\', \\'g\\', \\'h\\', \\'i\\', \\'j\\']\\\\n\",\\n', '      \"[\\'a\\', \\'c\\', \\'e\\', \\'g\\', \\'i\\'] and [\\'j\\', \\'i\\', \\'h\\', \\'g\\', \\'f\\', \\'e\\', \\'d\\', \\'c\\', \\'b\\', \\'a\\']\\\\n\"\\n', '     ]\\n', '    }\\n', '   ],\\n', '   \"source\": [\\n', '    \"# 슬라이싱\\\\n\",\\n', '    \"test_list = [\\'a\\',\\'b\\',\\'c\\',\\'d\\',\\'e\\',\\'f\\',\\'g\\',\\'h\\',\\'i\\',\\'j\\']\\\\n\",\\n', '    \"print(test_list[0:4], \\'and\\', test_list[:-8])\\\\n\",\\n', '    \"print(test_list[:])\\\\n\",\\n', '    \"print(test_list[-50:50])\\\\n\",\\n', '    \"print(test_list[::2], \\'and\\', test_list[::-1])\"\\n', '   ]\\n', '  },\\n', '  {\\n', '   \"cell_type\": \"code\",\\n', '   \"execution_count\": 35,\\n', '   \"id\": \"632ca3d3-7e54-4f25-99e4-54253689dfb4\",\\n', '   \"metadata\": {},\\n', '   \"outputs\": [\\n', '    {\\n', '     \"name\": \"stdout\",\\n', '     \"output_type\": \"stream\",\\n', '     \"text\": [\\n', '      \"[\\'a\\', \\'b\\', \\'c\\', 1, 2, 3]\\\\n\"\\n', '     ]\\n', '    }\\n', '   ],\\n', '   \"source\": [\\n', '    \"# concatenation\\\\n\",\\n', '    \"list1 = [\\'a\\',\\'b\\',\\'c\\']\\\\n\",\\n', '    \"list2 = [1,2,3]\\\\n\",\\n', '    \"print(list1 + list2)\"\\n', '   ]\\n', '  },\\n', '  {\\n', '   \"cell_type\": \"code\",\\n', '   \"execution_count\": 36,\\n', '   \"id\": \"00ab1689-3ce3-46ba-9cc3-5eac09975a0a\",\\n', '   \"metadata\": {},\\n', '   \"outputs\": [\\n', '    {\\n', '     \"data\": {\\n', '      \"text/plain\": [\\n', '       \"True\"\\n', '      ]\\n', '     },\\n', '     \"execution_count\": 36,\\n', '     \"metadata\": {},\\n', '     \"output_type\": \"execute_result\"\\n', '    }\\n', '   ],\\n', '   \"source\": [\\n', '    \"# in \\\\n\",\\n', '    \"\\'a\\' in list1\"\\n', '   ]\\n', '  },\\n', '  {\\n', '   \"cell_type\": \"code\",\\n', '   \"execution_count\": 38,\\n', '   \"id\": \"e4a4154f-0eed-42ea-ab6b-7d442c47ad95\",\\n', '   \"metadata\": {},\\n', '   \"outputs\": [\\n', '    {\\n', '     \"name\": \"stdout\",\\n', '     \"output_type\": \"stream\",\\n', '     \"text\": [\\n', '      \"[\\'d\\', \\'b\\', \\'c\\']\\\\n\"\\n', '     ]\\n', '    }\\n', '   ],\\n', '   \"source\": [\\n', '    \"list1[0] = \\'d\\'\\\\n\",\\n', '    \"print(list1)\"\\n', '   ]\\n', '  },\\n', '  {\\n', '   \"cell_type\": \"code\",\\n', '   \"execution_count\": 44,\\n', '   \"id\": \"c562de1f-75c9-42d2-a882-e9636e32c2bd\",\\n', '   \"metadata\": {},\\n', '   \"outputs\": [\\n', '    {\\n', '     \"name\": \"stdout\",\\n', '     \"output_type\": \"stream\",\\n', '     \"text\": [\\n', '      \"[\\'d\\', \\'b\\', \\'c\\', \\'f\\', \\'f\\', \\'f\\', \\'f\\', \\'f\\']\\\\n\"\\n', '     ]\\n', '    }\\n', '   ],\\n', '   \"source\": [\\n', '    \"#append = 반복 추가\\\\n\",\\n', '    \"list1.append(\\'f\\')\\\\n\",\\n', '    \"print(list1)\"\\n', '   ]\\n', '  },\\n', '  {\\n', '   \"cell_type\": \"code\",\\n', '   \"execution_count\": 48,\\n', '   \"id\": \"a7ce1aa1-9f53-480c-ac45-3546e7483900\",\\n', '   \"metadata\": {},\\n', '   \"outputs\": [\\n', '    {\\n', '     \"name\": \"stdout\",\\n', '     \"output_type\": \"stream\",\\n', '     \"text\": [\\n', '      \"[1, 2, 3, \\'y\\', \\'z\\', \\'y\\', \\'z\\', \\'y\\', \\'z\\', \\'y\\', \\'z\\']\\\\n\"\\n', '     ]\\n', '    }\\n', '   ],\\n', '   \"source\": [\\n', '    \"#extend = 반복 리스트 추가\\\\n\",\\n', '    \"list2.extend([\\'y\\',\\'z\\'])\\\\n\",\\n', '    \"print(list2)\"\\n', '   ]\\n', '  },\\n', '  {\\n', '   \"cell_type\": \"code\",\\n', '   \"execution_count\": 52,\\n', '   \"id\": \"07e8ae55-eed4-45f6-b9ee-8b511df83ad0\",\\n', '   \"metadata\": {},\\n', '   \"outputs\": [\\n', '    {\\n', '     \"name\": \"stdout\",\\n', '     \"output_type\": \"stream\",\\n', '     \"text\": [\\n', '      \"[\\'in\\', \\'in\\', 1, 2, 3, \\'y\\', \\'z\\', \\'y\\', \\'z\\', \\'y\\', \\'z\\', \\'y\\', \\'z\\']\\\\n\"\\n', '     ]\\n', '    }\\n', '   ],\\n', '   \"source\": [\\n', '    \"#insert = n번째 위치에 값 추가\\\\n\",\\n', '    \"list2.insert(0,\\'in\\')\\\\n\",\\n', '    \"print(list2)\"\\n', '   ]\\n', '  },\\n', '  {\\n', '   \"cell_type\": \"code\",\\n', '   \"execution_count\": 54,\\n', '   \"id\": \"c21499dc-3267-4df2-b70b-9ff2c5f00c3c\",\\n', '   \"metadata\": {},\\n', '   \"outputs\": [\\n', '    {\\n', '     \"name\": \"stdout\",\\n', '     \"output_type\": \"stream\",\\n', '     \"text\": [\\n', '      \"[1, 2, 3, \\'y\\', \\'z\\', \\'y\\', \\'z\\', \\'y\\', \\'z\\', \\'y\\', \\'z\\']\\\\n\"\\n', '     ]\\n', '    }\\n', '   ],\\n', '   \"source\": [\\n', '    \"#remove = 값 제거\\\\n\",\\n', '    \"list2.remove(\\'in\\')\\\\n\",\\n', '    \"print(list2)\"\\n', '   ]\\n', '  },\\n', '  {\\n', '   \"cell_type\": \"code\",\\n', '   \"execution_count\": 56,\\n', '   \"id\": \"b488490e-22db-46b1-8478-efdc10fd2d62\",\\n', '   \"metadata\": {},\\n', '   \"outputs\": [\\n', '    {\\n', '     \"name\": \"stdout\",\\n', '     \"output_type\": \"stream\",\\n', '     \"text\": [\\n', '      \"[3, \\'y\\', \\'z\\', \\'y\\', \\'z\\', \\'y\\', \\'z\\', \\'y\\', \\'z\\']\\\\n\"\\n', '     ]\\n', '    }\\n', '   ],\\n', '   \"source\": [\\n', '    \"# del = 해당 위치 객체 삭제 (메모리에서 할당 제거)\\\\n\",\\n', '    \"del list2[0]\\\\n\",\\n', '    \"print(list2)\"\\n', '   ]\\n', '  },\\n', '  {\\n', '   \"cell_type\": \"code\",\\n', '   \"execution_count\": 60,\\n', '   \"id\": \"cfbb5494-40f2-42c1-9887-16334ffc820e\",\\n', '   \"metadata\": {},\\n', '   \"outputs\": [\\n', '    {\\n', '     \"name\": \"stdout\",\\n', '     \"output_type\": \"stream\",\\n', '     \"text\": [\\n', '      \"[[\\'yellow\\', \\'blue\\', \\'green\\'], 1, 0.2]\\\\n\"\\n', '     ]\\n', '    }\\n', '   ],\\n', '   \"source\": [\\n', '    \"# 리스트 안에 리스트도 가능\\\\n\",\\n', '    \"a = [\\'color\\', 1, 0.2]\\\\n\",\\n', '    \"color = [\\'yellow\\', \\'blue\\', \\'green\\']\\\\n\",\\n', '    \"a[0] = color\\\\n\",\\n', '    \"print(a)\"\\n', '   ]\\n', '  },\\n', '  {\\n', '   \"cell_type\": \"code\",\\n', '   \"execution_count\": 64,\\n', '   \"id\": \"02001d0c-7f26-4f53-b9ec-f1e8c22ed2e1\",\\n', '   \"metadata\": {},\\n', '   \"outputs\": [\\n', '    {\\n', '     \"name\": \"stdout\",\\n', '     \"output_type\": \"stream\",\\n', '     \"text\": [\\n', '      \"[1, 4, 3, 2, 1]\\\\n\",\\n', '      \"[1, 4, 3, 2, 1]\\\\n\"\\n', '     ]\\n', '    }\\n', '   ],\\n', '   \"source\": [\\n', '    \"# 리스트변수에는 리스트의 주소값이 저장된다.\\\\n\",\\n', '    \"# b에는 a리스트의 주소값 저장\\\\n\",\\n', '    \"a = [5,4,3,2,1]\\\\n\",\\n', '    \"b = [1,2,3,4,5]\\\\n\",\\n', '    \"b = a\\\\n\",\\n', '    \"\\\\n\",\\n', '    \"a[0] = 1\\\\n\",\\n', '    \"print(a)\\\\n\",\\n', '    \"print(b)\"\\n', '   ]\\n', '  },\\n', '  {\\n', '   \"cell_type\": \"code\",\\n', '   \"execution_count\": 65,\\n', '   \"id\": \"99d6f22d-7de9-40ce-95e6-894d790ec09a\",\\n', '   \"metadata\": {},\\n', '   \"outputs\": [\\n', '    {\\n', '     \"name\": \"stdout\",\\n', '     \"output_type\": \"stream\",\\n', '     \"text\": [\\n', '      \"1 2 3 [1, 2, 3]\\\\n\"\\n', '     ]\\n', '    }\\n', '   ],\\n', '   \"source\": [\\n', '    \"# 패킹 언패킹\\\\n\",\\n', '    \"t = [1,2,3]\\\\n\",\\n', '    \"a,b,c = t\\\\n\",\\n', '    \"print(a,b,c,t)\"\\n', '   ]\\n', '  },\\n', '  {\\n', '   \"cell_type\": \"code\",\\n', '   \"execution_count\": 66,\\n', '   \"id\": \"2dea8466-e62c-460e-a363-1047830be59f\",\\n', '   \"metadata\": {},\\n', '   \"outputs\": [\\n', '    {\\n', '     \"name\": \"stdout\",\\n', '     \"output_type\": \"stream\",\\n', '     \"text\": [\\n', '      \"[[1, 2, 3, 4, 5], [11, 22, 33, 44, 55], [111, 222, 333, 444, 555]]\\\\n\"\\n', '     ]\\n', '    }\\n', '   ],\\n', '   \"source\": [\\n', '    \"# 행렬 생성\\\\n\",\\n', '    \"a = [1,2,3,4,5]\\\\n\",\\n', '    \"b = [11,22,33,44,55]\\\\n\",\\n', '    \"c = [111,222,333,444,555]\\\\n\",\\n', '    \"tot = [a,b,c]\\\\n\",\\n', '    \"print(tot)\"\\n', '   ]\\n', '  },\\n', '  {\\n', '   \"cell_type\": \"code\",\\n', '   \"execution_count\": null,\\n', '   \"id\": \"201f40e6-ce8d-4cdf-91f8-9cb01c7c1ba1\",\\n', '   \"metadata\": {},\\n', '   \"outputs\": [],\\n', '   \"source\": []\\n', '  }\\n', ' ],\\n', ' \"metadata\": {\\n', '  \"kernelspec\": {\\n', '   \"display_name\": \"Python 3 (ipykernel)\",\\n', '   \"language\": \"python\",\\n', '   \"name\": \"python3\"\\n', '  },\\n', '  \"language_info\": {\\n', '   \"codemirror_mode\": {\\n', '    \"name\": \"ipython\",\\n', '    \"version\": 3\\n', '   },\\n', '   \"file_extension\": \".py\",\\n', '   \"mimetype\": \"text/x-python\",\\n', '   \"name\": \"python\",\\n', '   \"nbconvert_exporter\": \"python\",\\n', '   \"pygments_lexer\": \"ipython3\",\\n', '   \"version\": \"3.8.12\"\\n', '  }\\n', ' },\\n', ' \"nbformat\": 4,\\n', ' \"nbformat_minor\": 5\\n', '}\\n']\n"
     ]
    },
    {
     "data": {
      "text/plain": [
       "<function TextIOWrapper.close()>"
      ]
     },
     "execution_count": 20,
     "metadata": {},
     "output_type": "execute_result"
    }
   ],
   "source": [
    "f = open('2_1_Variables_and_list.ipynb', 'r') # r = 읽기 모드, w = 쓰기 모드, a = 추가 모드\n",
    "contents = f.readlines()\n",
    "print(contents)\n",
    "f.close"
   ]
  },
  {
   "cell_type": "code",
   "execution_count": 19,
   "id": "d3d2fde3-effc-4828-9fc5-55a71d3d085a",
   "metadata": {
    "collapsed": true,
    "jupyter": {
     "outputs_hidden": true
    },
    "tags": []
   },
   "outputs": [
    {
     "name": "stdout",
     "output_type": "stream",
     "text": [
      "0==={\n",
      "1=== \"cells\": [\n",
      "2===  {\n",
      "3===   \"cell_type\": \"markdown\",\n",
      "4===   \"id\": \"45dc8e1a-6a5e-4ca4-b0ab-b145a86c1491\",\n",
      "5===   \"metadata\": {\n",
      "6===    \"tags\": []\n",
      "7===   },\n",
      "8===   \"source\": [\n",
      "9===    \"# 기본 자료형\"\n",
      "10===   ]\n",
      "11===  },\n",
      "12===  {\n",
      "13===   \"cell_type\": \"markdown\",\n",
      "14===   \"id\": \"11f508fb-1f07-4f4d-9ab3-7051f89e29bf\",\n",
      "15===   \"metadata\": {},\n",
      "16===   \"source\": [\n",
      "17===    \"python의 데이터 타입은 Dynamic typing 방식으로 실행하는 순간 타입이 결정\"\n",
      "18===   ]\n",
      "19===  },\n",
      "20===  {\n",
      "21===   \"cell_type\": \"code\",\n",
      "22===   \"execution_count\": 12,\n",
      "23===   \"id\": \"b04ced85-6516-47fa-b048-3bb6ce372b6e\",\n",
      "24===   \"metadata\": {},\n",
      "25===   \"outputs\": [\n",
      "26===    {\n",
      "27===     \"name\": \"stdout\",\n",
      "28===     \"output_type\": \"stream\",\n",
      "29===     \"text\": [\n",
      "30===      \"1 1\\n\"\n",
      "31===     ]\n",
      "32===    }\n",
      "33===   ],\n",
      "34===   \"source\": [\n",
      "35===    \"# integer\\n\",\n",
      "36===    \"a = 1\\n\",\n",
      "37===    \"b = 1\\n\",\n",
      "38===    \"print(a,b)\"\n",
      "39===   ]\n",
      "40===  },\n",
      "41===  {\n",
      "42===   \"cell_type\": \"code\",\n",
      "43===   \"execution_count\": 13,\n",
      "44===   \"id\": \"ddffc7d1-2a1d-426e-875e-890331772090\",\n",
      "45===   \"metadata\": {},\n",
      "46===   \"outputs\": [\n",
      "47===    {\n",
      "48===     \"name\": \"stdout\",\n",
      "49===     \"output_type\": \"stream\",\n",
      "50===     \"text\": [\n",
      "51===      \"1.5 3.5\\n\"\n",
      "52===     ]\n",
      "53===    }\n",
      "54===   ],\n",
      "55===   \"source\": [\n",
      "56===    \"#float\\n\",\n",
      "57===    \"a = 1.5\\n\",\n",
      "58===    \"b = 3.5\\n\",\n",
      "59===    \"print(a,b)\"\n",
      "60===   ]\n",
      "61===  },\n",
      "62===  {\n",
      "63===   \"cell_type\": \"code\",\n",
      "64===   \"execution_count\": 14,\n",
      "65===   \"id\": \"aa1d535d-1fdd-4791-b82e-1c2ffadca1dd\",\n",
      "66===   \"metadata\": {},\n",
      "67===   \"outputs\": [\n",
      "68===    {\n",
      "69===     \"name\": \"stdout\",\n",
      "70===     \"output_type\": \"stream\",\n",
      "71===     \"text\": [\n",
      "72===      \"ABC 101010\\n\"\n",
      "73===     ]\n",
      "74===    }\n",
      "75===   ],\n",
      "76===   \"source\": [\n",
      "77===    \"#String\\n\",\n",
      "78===    \"a = \\\"ABC\\\"\\n\",\n",
      "79===    \"b = \\\"101010\\\"\\n\",\n",
      "80===    \"print(a,b)\"\n",
      "81===   ]\n",
      "82===  },\n",
      "83===  {\n",
      "84===   \"cell_type\": \"code\",\n",
      "85===   \"execution_count\": 15,\n",
      "86===   \"id\": \"19372567-ea3e-40b0-aae2-c053f1356549\",\n",
      "87===   \"metadata\": {},\n",
      "88===   \"outputs\": [\n",
      "89===    {\n",
      "90===     \"name\": \"stdout\",\n",
      "91===     \"output_type\": \"stream\",\n",
      "92===     \"text\": [\n",
      "93===      \"True False\\n\"\n",
      "94===     ]\n",
      "95===    }\n",
      "96===   ],\n",
      "97===   \"source\": [\n",
      "98===    \"#Boolean\\n\",\n",
      "99===    \"a = True\\n\",\n",
      "100===    \"b = False\\n\",\n",
      "101===    \"print(a,b)\"\n",
      "102===   ]\n",
      "103===  },\n",
      "104===  {\n",
      "105===   \"cell_type\": \"markdown\",\n",
      "106===   \"id\": \"2cd538ed-de77-459e-8a2c-34cd545ff4bb\",\n",
      "107===   \"metadata\": {},\n",
      "108===   \"source\": [\n",
      "109===    \"# 연산자와 피연산자\"\n",
      "110===   ]\n",
      "111===  },\n",
      "112===  {\n",
      "113===   \"cell_type\": \"markdown\",\n",
      "114===   \"id\": \"909ca0ed-447b-4fe7-8831-49670a128743\",\n",
      "115===   \"metadata\": {},\n",
      "116===   \"source\": [\n",
      "117===    \"- +,-,*,/ 같은 기호들을 연산자로 칭함\\n\",\n",
      "118===    \"- 연산자에 의해 계산 되는 숫자들은 피연산자\\n\",\n",
      "119===    \"- 연산 순서는 수학과 동일\\n\",\n",
      "120===    \"- 문자간에도 + 연산이 가능 -> concatenate\"\n",
      "121===   ]\n",
      "122===  },\n",
      "123===  {\n",
      "124===   \"cell_type\": \"code\",\n",
      "125===   \"execution_count\": 16,\n",
      "126===   \"id\": \"2518880f-a824-4258-8118-b73332f31dc6\",\n",
      "127===   \"metadata\": {},\n",
      "128===   \"outputs\": [\n",
      "129===    {\n",
      "130===     \"name\": \"stdout\",\n",
      "131===     \"output_type\": \"stream\",\n",
      "132===     \"text\": [\n",
      "133===      \"243\\n\",\n",
      "134===      \"243\\n\"\n",
      "135===     ]\n",
      "136===    }\n",
      "137===   ],\n",
      "138===   \"source\": [\n",
      "139===    \"# 제곱승과 나머지 구하기\\n\",\n",
      "140===    \"print(3*3*3*3*3)\\n\",\n",
      "141===    \"print(3**5)\"\n",
      "142===   ]\n",
      "143===  },\n",
      "144===  {\n",
      "145===   \"cell_type\": \"code\",\n",
      "146===   \"execution_count\": 18,\n",
      "147===   \"id\": \"c31d2f55-34ec-4a56-a6db-795ba1a0a8ce\",\n",
      "148===   \"metadata\": {},\n",
      "149===   \"outputs\": [\n",
      "150===    {\n",
      "151===     \"name\": \"stdout\",\n",
      "152===     \"output_type\": \"stream\",\n",
      "153===     \"text\": [\n",
      "154===      \"3.5\\n\",\n",
      "155===      \"1\\n\"\n",
      "156===     ]\n",
      "157===    }\n",
      "158===   ],\n",
      "159===   \"source\": [\n",
      "160===    \"#%는 나머지 연산자\\n\",\n",
      "161===    \"print(7/2)\\n\",\n",
      "162===    \"print(7%2)\"\n",
      "163===   ]\n",
      "164===  },\n",
      "165===  {\n",
      "166===   \"cell_type\": \"code\",\n",
      "167===   \"execution_count\": 19,\n",
      "168===   \"id\": \"61b76029-0bfb-42c8-9b28-d86c635dded5\",\n",
      "169===   \"metadata\": {},\n",
      "170===   \"outputs\": [\n",
      "171===    {\n",
      "172===     \"name\": \"stdout\",\n",
      "173===     \"output_type\": \"stream\",\n",
      "174===     \"text\": [\n",
      "175===      \"2\\n\",\n",
      "176===      \"1\\n\"\n",
      "177===     ]\n",
      "178===    }\n",
      "179===   ],\n",
      "180===   \"source\": [\n",
      "181===    \"#증감연산\\n\",\n",
      "182===    \"a = 1\\n\",\n",
      "183===    \"a += 1\\n\",\n",
      "184===    \"print(a)\\n\",\n",
      "185===    \"a -= 1\\n\",\n",
      "186===    \"print(a)\"\n",
      "187===   ]\n",
      "188===  },\n",
      "189===  {\n",
      "190===   \"cell_type\": \"markdown\",\n",
      "191===   \"id\": \"41416bbe-e566-4d93-bd23-6c09c9b618c6\",\n",
      "192===   \"metadata\": {},\n",
      "193===   \"source\": [\n",
      "194===    \"# 데이터 형변환\"\n",
      "195===   ]\n",
      "196===  },\n",
      "197===  {\n",
      "198===   \"cell_type\": \"code\",\n",
      "199===   \"execution_count\": 22,\n",
      "200===   \"id\": \"e709afa4-e203-4578-8402-c9226441b6f3\",\n",
      "201===   \"metadata\": {},\n",
      "202===   \"outputs\": [\n",
      "203===    {\n",
      "204===     \"name\": \"stdout\",\n",
      "205===     \"output_type\": \"stream\",\n",
      "206===     \"text\": [\n",
      "207===      \"10\\n\",\n",
      "208===      \"10.0\\n\"\n",
      "209===     ]\n",
      "210===    }\n",
      "211===   ],\n",
      "212===   \"source\": [\n",
      "213===    \"a = 10\\n\",\n",
      "214===    \"print(a)\\n\",\n",
      "215===    \"a = float(10)\\n\",\n",
      "216===    \"print(a)\"\n",
      "217===   ]\n",
      "218===  },\n",
      "219===  {\n",
      "220===   \"cell_type\": \"code\",\n",
      "221===   \"execution_count\": 25,\n",
      "222===   \"id\": \"76263ed1-986a-497f-b34c-f616b7844da9\",\n",
      "223===   \"metadata\": {},\n",
      "224===   \"outputs\": [\n",
      "225===    {\n",
      "226===     \"name\": \"stdout\",\n",
      "227===     \"output_type\": \"stream\",\n",
      "228===     \"text\": [\n",
      "229===      \"20\\n\"\n",
      "230===     ]\n",
      "231===    }\n",
      "232===   ],\n",
      "233===   \"source\": [\n",
      "234===    \"# 실수형 -> 정수형 형변환 시 소숫점 아래는 버림\\n\",\n",
      "235===    \"a = 10.7\\n\",\n",
      "236===    \"b = 10.3\\n\",\n",
      "237===    \"a = int(a) # 10\\n\",\n",
      "238===    \"b = int(b) # 10\\n\",\n",
      "239===    \"print(a+b) # 20\"\n",
      "240===   ]\n",
      "241===  },\n",
      "242===  {\n",
      "243===   \"cell_type\": \"code\",\n",
      "244===   \"execution_count\": 26,\n",
      "245===   \"id\": \"c776fec8-5fd8-4c5b-8560-9f47b0c2bb31\",\n",
      "246===   \"metadata\": {},\n",
      "247===   \"outputs\": [\n",
      "248===    {\n",
      "249===     \"name\": \"stdout\",\n",
      "250===     \"output_type\": \"stream\",\n",
      "251===     \"text\": [\n",
      "252===      \"76.3\\n\"\n",
      "253===     ]\n",
      "254===    }\n",
      "255===   ],\n",
      "256===   \"source\": [\n",
      "257===    \"# string -> float\\n\",\n",
      "258===    \"a = '76.3'\\n\",\n",
      "259===    \"b = float(a)\\n\",\n",
      "260===    \"print(a)\"\n",
      "261===   ]\n",
      "262===  },\n",
      "263===  {\n",
      "264===   \"cell_type\": \"code\",\n",
      "265===   \"execution_count\": 29,\n",
      "266===   \"id\": \"75054f42-d538-4f6d-b7e5-9c77060f5983\",\n",
      "267===   \"metadata\": {},\n",
      "268===   \"outputs\": [\n",
      "269===    {\n",
      "270===     \"name\": \"stdout\",\n",
      "271===     \"output_type\": \"stream\",\n",
      "272===     \"text\": [\n",
      "273===      \"<class 'float'>\\n\",\n",
      "274===      \"<class 'str'>\\n\",\n",
      "275===      \"<class 'int'>\\n\"\n",
      "276===     ]\n",
      "277===    }\n",
      "278===   ],\n",
      "279===   \"source\": [\n",
      "280===    \"# type()으로 데이터 타입 출력\\n\",\n",
      "281===    \"print(type(76.3))\\n\",\n",
      "282===    \"print(type('76.3'))\\n\",\n",
      "283===    \"print(type(76))\"\n",
      "284===   ]\n",
      "285===  },\n",
      "286===  {\n",
      "287===   \"cell_type\": \"markdown\",\n",
      "288===   \"id\": \"588d232a-21df-406e-af61-ec840fa5f059\",\n",
      "289===   \"metadata\": {},\n",
      "290===   \"source\": [\n",
      "291===    \"# 리스트\"\n",
      "292===   ]\n",
      "293===  },\n",
      "294===  {\n",
      "295===   \"cell_type\": \"code\",\n",
      "296===   \"execution_count\": 30,\n",
      "297===   \"id\": \"ffc0b2f5-86da-47c0-8212-7eb7d135d3f0\",\n",
      "298===   \"metadata\": {\n",
      "299===    \"tags\": []\n",
      "300===   },\n",
      "301===   \"outputs\": [\n",
      "302===    {\n",
      "303===     \"name\": \"stdout\",\n",
      "304===     \"output_type\": \"stream\",\n",
      "305===     \"text\": [\n",
      "306===      \"r\\n\",\n",
      "307===      \"b\\n\",\n",
      "308===      \"3\\n\"\n",
      "309===     ]\n",
      "310===    }\n",
      "311===   ],\n",
      "312===   \"source\": [\n",
      "313===    \"# 인덱싱\\n\",\n",
      "314===    \"colors = ['r','g','b']\\n\",\n",
      "315===    \"print(colors[0])\\n\",\n",
      "316===    \"print(colors[2])\\n\",\n",
      "317===    \"print(len(colors))\"\n",
      "318===   ]\n",
      "319===  },\n",
      "320===  {\n",
      "321===   \"cell_type\": \"code\",\n",
      "322===   \"execution_count\": 34,\n",
      "323===   \"id\": \"5954ce03-e797-4f0f-86c0-8abe7b8e1c88\",\n",
      "324===   \"metadata\": {},\n",
      "325===   \"outputs\": [\n",
      "326===    {\n",
      "327===     \"name\": \"stdout\",\n",
      "328===     \"output_type\": \"stream\",\n",
      "329===     \"text\": [\n",
      "330===      \"['a', 'b', 'c', 'd'] and ['a', 'b']\\n\",\n",
      "331===      \"['a', 'b', 'c', 'd', 'e', 'f', 'g', 'h', 'i', 'j']\\n\",\n",
      "332===      \"['a', 'b', 'c', 'd', 'e', 'f', 'g', 'h', 'i', 'j']\\n\",\n",
      "333===      \"['a', 'c', 'e', 'g', 'i'] and ['j', 'i', 'h', 'g', 'f', 'e', 'd', 'c', 'b', 'a']\\n\"\n",
      "334===     ]\n",
      "335===    }\n",
      "336===   ],\n",
      "337===   \"source\": [\n",
      "338===    \"# 슬라이싱\\n\",\n",
      "339===    \"test_list = ['a','b','c','d','e','f','g','h','i','j']\\n\",\n",
      "340===    \"print(test_list[0:4], 'and', test_list[:-8])\\n\",\n",
      "341===    \"print(test_list[:])\\n\",\n",
      "342===    \"print(test_list[-50:50])\\n\",\n",
      "343===    \"print(test_list[::2], 'and', test_list[::-1])\"\n",
      "344===   ]\n",
      "345===  },\n",
      "346===  {\n",
      "347===   \"cell_type\": \"code\",\n",
      "348===   \"execution_count\": 35,\n",
      "349===   \"id\": \"632ca3d3-7e54-4f25-99e4-54253689dfb4\",\n",
      "350===   \"metadata\": {},\n",
      "351===   \"outputs\": [\n",
      "352===    {\n",
      "353===     \"name\": \"stdout\",\n",
      "354===     \"output_type\": \"stream\",\n",
      "355===     \"text\": [\n",
      "356===      \"['a', 'b', 'c', 1, 2, 3]\\n\"\n",
      "357===     ]\n",
      "358===    }\n",
      "359===   ],\n",
      "360===   \"source\": [\n",
      "361===    \"# concatenation\\n\",\n",
      "362===    \"list1 = ['a','b','c']\\n\",\n",
      "363===    \"list2 = [1,2,3]\\n\",\n",
      "364===    \"print(list1 + list2)\"\n",
      "365===   ]\n",
      "366===  },\n",
      "367===  {\n",
      "368===   \"cell_type\": \"code\",\n",
      "369===   \"execution_count\": 36,\n",
      "370===   \"id\": \"00ab1689-3ce3-46ba-9cc3-5eac09975a0a\",\n",
      "371===   \"metadata\": {},\n",
      "372===   \"outputs\": [\n",
      "373===    {\n",
      "374===     \"data\": {\n",
      "375===      \"text/plain\": [\n",
      "376===       \"True\"\n",
      "377===      ]\n",
      "378===     },\n",
      "379===     \"execution_count\": 36,\n",
      "380===     \"metadata\": {},\n",
      "381===     \"output_type\": \"execute_result\"\n",
      "382===    }\n",
      "383===   ],\n",
      "384===   \"source\": [\n",
      "385===    \"# in \\n\",\n",
      "386===    \"'a' in list1\"\n",
      "387===   ]\n",
      "388===  },\n",
      "389===  {\n",
      "390===   \"cell_type\": \"code\",\n",
      "391===   \"execution_count\": 38,\n",
      "392===   \"id\": \"e4a4154f-0eed-42ea-ab6b-7d442c47ad95\",\n",
      "393===   \"metadata\": {},\n",
      "394===   \"outputs\": [\n",
      "395===    {\n",
      "396===     \"name\": \"stdout\",\n",
      "397===     \"output_type\": \"stream\",\n",
      "398===     \"text\": [\n",
      "399===      \"['d', 'b', 'c']\\n\"\n",
      "400===     ]\n",
      "401===    }\n",
      "402===   ],\n",
      "403===   \"source\": [\n",
      "404===    \"list1[0] = 'd'\\n\",\n",
      "405===    \"print(list1)\"\n",
      "406===   ]\n",
      "407===  },\n",
      "408===  {\n",
      "409===   \"cell_type\": \"code\",\n",
      "410===   \"execution_count\": 44,\n",
      "411===   \"id\": \"c562de1f-75c9-42d2-a882-e9636e32c2bd\",\n",
      "412===   \"metadata\": {},\n",
      "413===   \"outputs\": [\n",
      "414===    {\n",
      "415===     \"name\": \"stdout\",\n",
      "416===     \"output_type\": \"stream\",\n",
      "417===     \"text\": [\n",
      "418===      \"['d', 'b', 'c', 'f', 'f', 'f', 'f', 'f']\\n\"\n",
      "419===     ]\n",
      "420===    }\n",
      "421===   ],\n",
      "422===   \"source\": [\n",
      "423===    \"#append = 반복 추가\\n\",\n",
      "424===    \"list1.append('f')\\n\",\n",
      "425===    \"print(list1)\"\n",
      "426===   ]\n",
      "427===  },\n",
      "428===  {\n",
      "429===   \"cell_type\": \"code\",\n",
      "430===   \"execution_count\": 48,\n",
      "431===   \"id\": \"a7ce1aa1-9f53-480c-ac45-3546e7483900\",\n",
      "432===   \"metadata\": {},\n",
      "433===   \"outputs\": [\n",
      "434===    {\n",
      "435===     \"name\": \"stdout\",\n",
      "436===     \"output_type\": \"stream\",\n",
      "437===     \"text\": [\n",
      "438===      \"[1, 2, 3, 'y', 'z', 'y', 'z', 'y', 'z', 'y', 'z']\\n\"\n",
      "439===     ]\n",
      "440===    }\n",
      "441===   ],\n",
      "442===   \"source\": [\n",
      "443===    \"#extend = 반복 리스트 추가\\n\",\n",
      "444===    \"list2.extend(['y','z'])\\n\",\n",
      "445===    \"print(list2)\"\n",
      "446===   ]\n",
      "447===  },\n",
      "448===  {\n",
      "449===   \"cell_type\": \"code\",\n",
      "450===   \"execution_count\": 52,\n",
      "451===   \"id\": \"07e8ae55-eed4-45f6-b9ee-8b511df83ad0\",\n",
      "452===   \"metadata\": {},\n",
      "453===   \"outputs\": [\n",
      "454===    {\n",
      "455===     \"name\": \"stdout\",\n",
      "456===     \"output_type\": \"stream\",\n",
      "457===     \"text\": [\n",
      "458===      \"['in', 'in', 1, 2, 3, 'y', 'z', 'y', 'z', 'y', 'z', 'y', 'z']\\n\"\n",
      "459===     ]\n",
      "460===    }\n",
      "461===   ],\n",
      "462===   \"source\": [\n",
      "463===    \"#insert = n번째 위치에 값 추가\\n\",\n",
      "464===    \"list2.insert(0,'in')\\n\",\n",
      "465===    \"print(list2)\"\n",
      "466===   ]\n",
      "467===  },\n",
      "468===  {\n",
      "469===   \"cell_type\": \"code\",\n",
      "470===   \"execution_count\": 54,\n",
      "471===   \"id\": \"c21499dc-3267-4df2-b70b-9ff2c5f00c3c\",\n",
      "472===   \"metadata\": {},\n",
      "473===   \"outputs\": [\n",
      "474===    {\n",
      "475===     \"name\": \"stdout\",\n",
      "476===     \"output_type\": \"stream\",\n",
      "477===     \"text\": [\n",
      "478===      \"[1, 2, 3, 'y', 'z', 'y', 'z', 'y', 'z', 'y', 'z']\\n\"\n",
      "479===     ]\n",
      "480===    }\n",
      "481===   ],\n",
      "482===   \"source\": [\n",
      "483===    \"#remove = 값 제거\\n\",\n",
      "484===    \"list2.remove('in')\\n\",\n",
      "485===    \"print(list2)\"\n",
      "486===   ]\n",
      "487===  },\n",
      "488===  {\n",
      "489===   \"cell_type\": \"code\",\n",
      "490===   \"execution_count\": 56,\n",
      "491===   \"id\": \"b488490e-22db-46b1-8478-efdc10fd2d62\",\n",
      "492===   \"metadata\": {},\n",
      "493===   \"outputs\": [\n",
      "494===    {\n",
      "495===     \"name\": \"stdout\",\n",
      "496===     \"output_type\": \"stream\",\n",
      "497===     \"text\": [\n",
      "498===      \"[3, 'y', 'z', 'y', 'z', 'y', 'z', 'y', 'z']\\n\"\n",
      "499===     ]\n",
      "500===    }\n",
      "501===   ],\n",
      "502===   \"source\": [\n",
      "503===    \"# del = 해당 위치 객체 삭제 (메모리에서 할당 제거)\\n\",\n",
      "504===    \"del list2[0]\\n\",\n",
      "505===    \"print(list2)\"\n",
      "506===   ]\n",
      "507===  },\n",
      "508===  {\n",
      "509===   \"cell_type\": \"code\",\n",
      "510===   \"execution_count\": 60,\n",
      "511===   \"id\": \"cfbb5494-40f2-42c1-9887-16334ffc820e\",\n",
      "512===   \"metadata\": {},\n",
      "513===   \"outputs\": [\n",
      "514===    {\n",
      "515===     \"name\": \"stdout\",\n",
      "516===     \"output_type\": \"stream\",\n",
      "517===     \"text\": [\n",
      "518===      \"[['yellow', 'blue', 'green'], 1, 0.2]\\n\"\n",
      "519===     ]\n",
      "520===    }\n",
      "521===   ],\n",
      "522===   \"source\": [\n",
      "523===    \"# 리스트 안에 리스트도 가능\\n\",\n",
      "524===    \"a = ['color', 1, 0.2]\\n\",\n",
      "525===    \"color = ['yellow', 'blue', 'green']\\n\",\n",
      "526===    \"a[0] = color\\n\",\n",
      "527===    \"print(a)\"\n",
      "528===   ]\n",
      "529===  },\n",
      "530===  {\n",
      "531===   \"cell_type\": \"code\",\n",
      "532===   \"execution_count\": 64,\n",
      "533===   \"id\": \"02001d0c-7f26-4f53-b9ec-f1e8c22ed2e1\",\n",
      "534===   \"metadata\": {},\n",
      "535===   \"outputs\": [\n",
      "536===    {\n",
      "537===     \"name\": \"stdout\",\n",
      "538===     \"output_type\": \"stream\",\n",
      "539===     \"text\": [\n",
      "540===      \"[1, 4, 3, 2, 1]\\n\",\n",
      "541===      \"[1, 4, 3, 2, 1]\\n\"\n",
      "542===     ]\n",
      "543===    }\n",
      "544===   ],\n",
      "545===   \"source\": [\n",
      "546===    \"# 리스트변수에는 리스트의 주소값이 저장된다.\\n\",\n",
      "547===    \"# b에는 a리스트의 주소값 저장\\n\",\n",
      "548===    \"a = [5,4,3,2,1]\\n\",\n",
      "549===    \"b = [1,2,3,4,5]\\n\",\n",
      "550===    \"b = a\\n\",\n",
      "551===    \"\\n\",\n",
      "552===    \"a[0] = 1\\n\",\n",
      "553===    \"print(a)\\n\",\n",
      "554===    \"print(b)\"\n",
      "555===   ]\n",
      "556===  },\n",
      "557===  {\n",
      "558===   \"cell_type\": \"code\",\n",
      "559===   \"execution_count\": 65,\n",
      "560===   \"id\": \"99d6f22d-7de9-40ce-95e6-894d790ec09a\",\n",
      "561===   \"metadata\": {},\n",
      "562===   \"outputs\": [\n",
      "563===    {\n",
      "564===     \"name\": \"stdout\",\n",
      "565===     \"output_type\": \"stream\",\n",
      "566===     \"text\": [\n",
      "567===      \"1 2 3 [1, 2, 3]\\n\"\n",
      "568===     ]\n",
      "569===    }\n",
      "570===   ],\n",
      "571===   \"source\": [\n",
      "572===    \"# 패킹 언패킹\\n\",\n",
      "573===    \"t = [1,2,3]\\n\",\n",
      "574===    \"a,b,c = t\\n\",\n",
      "575===    \"print(a,b,c,t)\"\n",
      "576===   ]\n",
      "577===  },\n",
      "578===  {\n",
      "579===   \"cell_type\": \"code\",\n",
      "580===   \"execution_count\": 66,\n",
      "581===   \"id\": \"2dea8466-e62c-460e-a363-1047830be59f\",\n",
      "582===   \"metadata\": {},\n",
      "583===   \"outputs\": [\n",
      "584===    {\n",
      "585===     \"name\": \"stdout\",\n",
      "586===     \"output_type\": \"stream\",\n",
      "587===     \"text\": [\n",
      "588===      \"[[1, 2, 3, 4, 5], [11, 22, 33, 44, 55], [111, 222, 333, 444, 555]]\\n\"\n",
      "589===     ]\n",
      "590===    }\n",
      "591===   ],\n",
      "592===   \"source\": [\n",
      "593===    \"# 행렬 생성\\n\",\n",
      "594===    \"a = [1,2,3,4,5]\\n\",\n",
      "595===    \"b = [11,22,33,44,55]\\n\",\n",
      "596===    \"c = [111,222,333,444,555]\\n\",\n",
      "597===    \"tot = [a,b,c]\\n\",\n",
      "598===    \"print(tot)\"\n",
      "599===   ]\n",
      "600===  },\n",
      "601===  {\n",
      "602===   \"cell_type\": \"code\",\n",
      "603===   \"execution_count\": null,\n",
      "604===   \"id\": \"201f40e6-ce8d-4cdf-91f8-9cb01c7c1ba1\",\n",
      "605===   \"metadata\": {},\n",
      "606===   \"outputs\": [],\n",
      "607===   \"source\": []\n",
      "608===  }\n",
      "609=== ],\n",
      "610=== \"metadata\": {\n",
      "611===  \"kernelspec\": {\n",
      "612===   \"display_name\": \"Python 3 (ipykernel)\",\n",
      "613===   \"language\": \"python\",\n",
      "614===   \"name\": \"python3\"\n",
      "615===  },\n",
      "616===  \"language_info\": {\n",
      "617===   \"codemirror_mode\": {\n",
      "618===    \"name\": \"ipython\",\n",
      "619===    \"version\": 3\n",
      "620===   },\n",
      "621===   \"file_extension\": \".py\",\n",
      "622===   \"mimetype\": \"text/x-python\",\n",
      "623===   \"name\": \"python\",\n",
      "624===   \"nbconvert_exporter\": \"python\",\n",
      "625===   \"pygments_lexer\": \"ipython3\",\n",
      "626===   \"version\": \"3.8.12\"\n",
      "627===  }\n",
      "628=== },\n",
      "629=== \"nbformat\": 4,\n",
      "630=== \"nbformat_minor\": 5\n",
      "631===}\n"
     ]
    }
   ],
   "source": [
    "with open('2_1_Variables_and_list.ipynb', 'r') as my_file :\n",
    "    i = 0\n",
    "    while True :\n",
    "        line = my_file.readline()\n",
    "        if not line :\n",
    "            break\n",
    "        print(str(i) + \"===\" + line.replace(\"\\n\",\"\")) # 한줄씩 출력\n",
    "        i = i +1"
   ]
  },
  {
   "cell_type": "markdown",
   "id": "643f66bf-bef8-47df-adcf-55a080151833",
   "metadata": {},
   "source": [
    "## 단어 통계 정보 산출"
   ]
  },
  {
   "cell_type": "code",
   "execution_count": 22,
   "id": "00abf64b-c4ca-4f1b-8971-2b57e1caa71d",
   "metadata": {},
   "outputs": [
    {
     "name": "stdout",
     "output_type": "stream",
     "text": [
      "Total Number of Characters :  11699\n",
      "Total Number of Words :  2904\n",
      "Total Number of Lines :  633\n"
     ]
    }
   ],
   "source": [
    "with open('2_1_Variables_and_list.ipynb', 'r') as my_file :\n",
    "    contents = my_file.read()\n",
    "    word_list = contents.split(\" \")\n",
    "    line_list = contents.split(\"\\n\")\n",
    "    \n",
    "print(\"Total Number of Characters : \", len(contents))\n",
    "print(\"Total Number of Words : \", len(word_list))\n",
    "print(\"Total Number of Lines : \", len(line_list))"
   ]
  },
  {
   "cell_type": "markdown",
   "id": "bb294276-dbea-4275-b0e6-956d84591236",
   "metadata": {},
   "source": [
    "## File Write"
   ]
  },
  {
   "cell_type": "code",
   "execution_count": 25,
   "id": "0c162216-ac28-4f84-81f3-3757314133f5",
   "metadata": {},
   "outputs": [],
   "source": [
    "f = open(\"data/note.txt\", 'w', encoding='utf8')\n",
    "for i in range(1,11):\n",
    "    data = \"%d번째 줄입니다.\\n\" %i\n",
    "    f.write(data)\n",
    "f.close()"
   ]
  },
  {
   "cell_type": "code",
   "execution_count": 28,
   "id": "a84a1212-924a-4d12-a12e-acbebb7e0a06",
   "metadata": {},
   "outputs": [],
   "source": [
    "with open(\"data/note.txt\", 'a', encoding='utf8') as f : # a는 추가\n",
    "    for i in range(1,11):\n",
    "        data = \"%d번째 줄입니다.\\n\"%i\n",
    "        f.write(data)"
   ]
  },
  {
   "cell_type": "markdown",
   "id": "23d212b3-9b49-40d2-b3dc-b4acf51ae700",
   "metadata": {},
   "source": [
    "## handling directory"
   ]
  },
  {
   "cell_type": "code",
   "execution_count": 30,
   "id": "c3d0f53b-0fbe-400b-acb2-f9300b696e3c",
   "metadata": {},
   "outputs": [
    {
     "ename": "FileExistsError",
     "evalue": "[Errno 17] File exists: 'log'",
     "output_type": "error",
     "traceback": [
      "\u001b[0;31m---------------------------------------------------------------------------\u001b[0m",
      "\u001b[0;31mFileExistsError\u001b[0m                           Traceback (most recent call last)",
      "\u001b[0;32m/var/folders/3k/05vd5sp53wbgspztyxv0ksfm0000gn/T/ipykernel_45271/2221027813.py\u001b[0m in \u001b[0;36m<module>\u001b[0;34m\u001b[0m\n\u001b[1;32m      1\u001b[0m \u001b[0;32mimport\u001b[0m \u001b[0mos\u001b[0m\u001b[0;34m\u001b[0m\u001b[0;34m\u001b[0m\u001b[0m\n\u001b[0;32m----> 2\u001b[0;31m \u001b[0mos\u001b[0m\u001b[0;34m.\u001b[0m\u001b[0mmkdir\u001b[0m\u001b[0;34m(\u001b[0m\u001b[0;34m\"log\"\u001b[0m\u001b[0;34m)\u001b[0m\u001b[0;34m\u001b[0m\u001b[0;34m\u001b[0m\u001b[0m\n\u001b[0m",
      "\u001b[0;31mFileExistsError\u001b[0m: [Errno 17] File exists: 'log'"
     ]
    }
   ],
   "source": [
    "import os\n",
    "os.mkdir(\"log\")"
   ]
  },
  {
   "cell_type": "code",
   "execution_count": 31,
   "id": "b785f099-07c2-4182-92b3-b6fa043032cf",
   "metadata": {},
   "outputs": [],
   "source": [
    "if not os.path.isdir(\"log\"):\n",
    "    os.mkdir(\"log\")"
   ]
  },
  {
   "cell_type": "markdown",
   "id": "d05fde93-ad48-401a-a55d-0eb38b074a99",
   "metadata": {},
   "source": [
    "### pathlib 모듈"
   ]
  },
  {
   "cell_type": "code",
   "execution_count": 33,
   "id": "08e4d04c-0a43-42df-be8b-af0304c575d7",
   "metadata": {},
   "outputs": [
    {
     "data": {
      "text/plain": [
       "PosixPath('/Volumes/GoogleDrive-111094423641400606317/My Drive/boostcamp/code/python')"
      ]
     },
     "execution_count": 33,
     "metadata": {},
     "output_type": "execute_result"
    }
   ],
   "source": [
    "import pathlib\n",
    "\n",
    "cwd = pathlib.Path.cwd()\n",
    "cwd"
   ]
  },
  {
   "cell_type": "code",
   "execution_count": 34,
   "id": "4f0ef8f8-bad7-4493-b3da-c15afd0a1518",
   "metadata": {},
   "outputs": [
    {
     "data": {
      "text/plain": [
       "PosixPath('/Volumes/GoogleDrive-111094423641400606317/My Drive/boostcamp/code')"
      ]
     },
     "execution_count": 34,
     "metadata": {},
     "output_type": "execute_result"
    }
   ],
   "source": [
    "cwd.parent"
   ]
  },
  {
   "cell_type": "code",
   "execution_count": 35,
   "id": "c39ddb2a-1cc5-45e4-a7da-94dcb6fe3ed1",
   "metadata": {},
   "outputs": [
    {
     "data": {
      "text/plain": [
       "[PosixPath('/Volumes/GoogleDrive-111094423641400606317/My Drive/boostcamp/code'),\n",
       " PosixPath('/Volumes/GoogleDrive-111094423641400606317/My Drive/boostcamp'),\n",
       " PosixPath('/Volumes/GoogleDrive-111094423641400606317/My Drive'),\n",
       " PosixPath('/Volumes/GoogleDrive-111094423641400606317'),\n",
       " PosixPath('/Volumes'),\n",
       " PosixPath('/')]"
      ]
     },
     "execution_count": 35,
     "metadata": {},
     "output_type": "execute_result"
    }
   ],
   "source": [
    "list(cwd.parents)"
   ]
  },
  {
   "cell_type": "code",
   "execution_count": 40,
   "id": "62a1df3a-8891-41c7-9c7b-ede8ef4e7f6c",
   "metadata": {},
   "outputs": [
    {
     "data": {
      "text/plain": [
       "[PosixPath('/Volumes/GoogleDrive-111094423641400606317/My Drive/boostcamp/code/python/data'),\n",
       " PosixPath('/Volumes/GoogleDrive-111094423641400606317/My Drive/boostcamp/code/python/2_4_String_and_advanced_function_concept.ipynb'),\n",
       " PosixPath('/Volumes/GoogleDrive-111094423641400606317/My Drive/boostcamp/code/python/.ipynb_checkpoints'),\n",
       " PosixPath('/Volumes/GoogleDrive-111094423641400606317/My Drive/boostcamp/code/python/2_1_Variables_and_list.ipynb'),\n",
       " PosixPath('/Volumes/GoogleDrive-111094423641400606317/My Drive/boostcamp/code/python/2_2_Function_and_console_IO.ipynb'),\n",
       " PosixPath('/Volumes/GoogleDrive-111094423641400606317/My Drive/boostcamp/code/python/2_3_Conditionals_and_loops.ipynb'),\n",
       " PosixPath('/Volumes/GoogleDrive-111094423641400606317/My Drive/boostcamp/code/python/3_1_python_data_structure.ipynb'),\n",
       " PosixPath('/Volumes/GoogleDrive-111094423641400606317/My Drive/boostcamp/code/python/3_2_pythonic_code.ipynb'),\n",
       " PosixPath('/Volumes/GoogleDrive-111094423641400606317/My Drive/boostcamp/code/python/4_1_python_object_oriented_programming.ipynb'),\n",
       " PosixPath('/Volumes/GoogleDrive-111094423641400606317/My Drive/boostcamp/code/python/4_2_module_and_project.ipynb'),\n",
       " PosixPath('/Volumes/GoogleDrive-111094423641400606317/My Drive/boostcamp/code/python/5_1_exception_file_loghandling.ipynb'),\n",
       " PosixPath('/Volumes/GoogleDrive-111094423641400606317/My Drive/boostcamp/code/python/log')]"
      ]
     },
     "execution_count": 40,
     "metadata": {},
     "output_type": "execute_result"
    }
   ],
   "source": [
    "list(cwd.glob(\"*\"))"
   ]
  },
  {
   "cell_type": "code",
   "execution_count": 41,
   "id": "9e86cc28-027e-4484-8f30-01b92b0c8d76",
   "metadata": {},
   "outputs": [],
   "source": [
    "import os\n",
    "if not os.path.isdir(\"log\") :\n",
    "    os.mkdir(\"log\")\n",
    "if not os.path.exists(\"log/count_log.txt\"):\n",
    "    f = open(\"log/count_log.txt\", \"w\", encoding=\"utf8\")\n",
    "    f.write(\"기록이 시작됩니다.\\n\")\n",
    "    f.close()\n",
    "    \n",
    "with open(\"log/count_log.txt\", 'a', encoding=\"utf8\") as f:\n",
    "    import random, datetime\n",
    "    for i in range(1,11):\n",
    "        stamp = str(datetime.datetime.now())\n",
    "        value = random.random() * 1000000\n",
    "        log_line = stamp + \"\\t\" + str(value) + \"값이 생성되었습니다.\" + \"\\n\"\n",
    "        f.write(log_line)"
   ]
  },
  {
   "cell_type": "markdown",
   "id": "597e595e-03b6-4cf1-8b0c-147782b26913",
   "metadata": {},
   "source": [
    "## Pickle"
   ]
  },
  {
   "cell_type": "markdown",
   "id": "825e1f1e-9e8b-41a6-8f39-7cc6624ee187",
   "metadata": {},
   "source": [
    "- 파이썬의 객체를 영속화(persistence)하는 built-in 객체\n",
    "- 데이터, object 등 실행중 정보를저장 -> 불러와서 사용\n",
    "- 저장해야하는 정보, 계산 결과(모델) 등 활용이 많음"
   ]
  },
  {
   "cell_type": "code",
   "execution_count": 43,
   "id": "5d465703-cb3d-4915-9f46-bbf4614ec18a",
   "metadata": {},
   "outputs": [],
   "source": [
    "import pickle\n",
    "\n",
    "f = open(\"list.pickle\", \"wb\")\n",
    "test = [1,2,3,4,5]\n",
    "pickle.dump(test, f) #pickle에 데이터 입력\n",
    "f.close()"
   ]
  },
  {
   "cell_type": "code",
   "execution_count": 44,
   "id": "f5fc9e45-306b-456d-a811-85346a369007",
   "metadata": {},
   "outputs": [
    {
     "name": "stdout",
     "output_type": "stream",
     "text": [
      "[1, 2, 3, 4, 5]\n"
     ]
    }
   ],
   "source": [
    "f = open(\"list.pickle\", \"rb\")\n",
    "test_pickle = pickle.load(f)\n",
    "print(test_pickle)\n",
    "f.close()"
   ]
  },
  {
   "cell_type": "code",
   "execution_count": 45,
   "id": "edf2a265-3dcc-4a4a-ad6f-fa1bf79ee396",
   "metadata": {},
   "outputs": [
    {
     "data": {
      "text/plain": [
       "50"
      ]
     },
     "execution_count": 45,
     "metadata": {},
     "output_type": "execute_result"
    }
   ],
   "source": [
    "import pickle\n",
    "\n",
    "class Multiply(object):\n",
    "    def __init__(self, multiplier):\n",
    "        self.multiplier = multiplier\n",
    "    \n",
    "    def multiply(self, number):\n",
    "        return number * self.multiplier\n",
    "\n",
    "multiply = Multiply(5)\n",
    "multiply.multiply(10)"
   ]
  },
  {
   "cell_type": "code",
   "execution_count": 46,
   "id": "3a95eb6e-30d0-4175-9f4e-a8479b4c7844",
   "metadata": {},
   "outputs": [],
   "source": [
    "f = open(\"multiply_object.pickle\", \"wb\")\n",
    "pickle.dump(multiply, f)\n",
    "f.close()"
   ]
  },
  {
   "cell_type": "code",
   "execution_count": 48,
   "id": "8eb87603-22f7-4fc1-a03c-761032e7b4f4",
   "metadata": {},
   "outputs": [
    {
     "data": {
      "text/plain": [
       "25"
      ]
     },
     "execution_count": 48,
     "metadata": {},
     "output_type": "execute_result"
    }
   ],
   "source": [
    "f = open(\"multiply_object.pickle\", \"rb\")\n",
    "multiply_pickle = pickle.load(f)\n",
    "multiply_pickle.multiply(5)"
   ]
  },
  {
   "cell_type": "markdown",
   "id": "85270671-ba4a-40e9-9eaa-a7caa72684c0",
   "metadata": {},
   "source": [
    "# Logging Handling"
   ]
  },
  {
   "cell_type": "markdown",
   "id": "f1685a15-7b5b-451f-bbd3-c35a51fd5103",
   "metadata": {},
   "source": [
    "- 프로그램이 실행되는 동안 일어나는 정보를 기록으로 남기기\n",
    "- 유저의 접근, 프로그램의 exception, 특정 함수의 사용\n",
    "- console 화면에 출력, 파일에 남기기, db에 남기기 등등\n",
    "- 기록된 로그를 분석하여 의미있느 결과를 도출할 수 있음\n",
    "- 실행시점에서 남겨야 하는 기록, 개발시점에서 남겨야하는 기록"
   ]
  },
  {
   "cell_type": "code",
   "execution_count": 51,
   "id": "e578027e-aff8-4dc5-9d5a-3758612fbd0c",
   "metadata": {},
   "outputs": [
    {
     "name": "stderr",
     "output_type": "stream",
     "text": [
      "WARNING:root:warning!\n",
      "ERROR:root:error!\n",
      "CRITICAL:root:critical...\n"
     ]
    }
   ],
   "source": [
    "import logging\n",
    "\n",
    "logging.debug(\"debug!\")\n",
    "logging.info(\"info!\")\n",
    "logging.warning(\"warning!\")\n",
    "logging.error(\"error!\")\n",
    "logging.critical(\"critical...\")"
   ]
  },
  {
   "cell_type": "markdown",
   "id": "aad4cb00-21c5-49e5-86b8-be236c5f8b27",
   "metadata": {},
   "source": [
    "# Parser"
   ]
  },
  {
   "cell_type": "markdown",
   "id": "25f8ece3-acd3-4bd6-bf01-07ef5bc47c2e",
   "metadata": {},
   "source": [
    "- configparser : 파일에\n",
    "- argparser : 실행시점에"
   ]
  },
  {
   "cell_type": "markdown",
   "id": "5f52003b-d8cd-45c7-9b68-7b7eb766117d",
   "metadata": {},
   "source": [
    "## configparser"
   ]
  },
  {
   "cell_type": "markdown",
   "id": "e24c653e-cb50-4bd5-98db-1c0aa9867cf8",
   "metadata": {},
   "source": [
    "- 프로그램의 실행 설정을 file에 저장\n",
    "- section, key, value 값의 형태로 설정된 설정 파일 사용\n",
    "- 설정파일을 Dict Type으로 호출 후 사용"
   ]
  },
  {
   "cell_type": "markdown",
   "id": "2c92fbbf-9182-4b40-86e6-a29d44b64275",
   "metadata": {},
   "source": [
    "## argparser"
   ]
  },
  {
   "cell_type": "markdown",
   "id": "d1720990-3bb2-4ffa-b4ae-65acbde4c4da",
   "metadata": {},
   "source": [
    "- 콘솔창에서 프로그램 실행 시 Setting 정보를 저장\n",
    "- 거의 모든 console 기반 python 프로그램 기본 제공\n",
    "- 특수 모듈도 많이 존재하지만(TF), 일반적으로 argparse사용\n",
    "- Command-Line Option이라고 부름"
   ]
  },
  {
   "cell_type": "code",
   "execution_count": 54,
   "id": "f5d5c8e9-0e3d-48ae-afa2-5235fd0f3974",
   "metadata": {},
   "outputs": [],
   "source": [
    "import argparse"
   ]
  },
  {
   "cell_type": "code",
   "execution_count": 61,
   "id": "c754c39f-19a3-49c7-88d2-51816622dd03",
   "metadata": {},
   "outputs": [
    {
     "name": "stderr",
     "output_type": "stream",
     "text": [
      "usage: ipykernel_launcher.py [-h] [-a A_VALUE] [-b B_VALUE]\n",
      "ipykernel_launcher.py: error: unrecognized arguments: -f /Users/jeongseunghwan/Library/Jupyter/runtime/kernel-f10dd113-9009-433e-b92c-ade6f96cd122.json\n"
     ]
    },
    {
     "ename": "SystemExit",
     "evalue": "2",
     "output_type": "error",
     "traceback": [
      "An exception has occurred, use %tb to see the full traceback.\n",
      "\u001b[0;31mSystemExit\u001b[0m\u001b[0;31m:\u001b[0m 2\n"
     ]
    }
   ],
   "source": [
    "parser = argparse.ArgumentParser(description=\"Sum two integers.\")\n",
    "parser.add_argument('-a', '--a_value', dest='A_value', help='A integers', type=int)\n",
    "parser.add_argument('-b', '--b_value', dest='B_value', help='B integers', type=int)\n",
    "\n",
    "args = parser.parse_args()\n",
    "print(args)\n",
    "print(args.a)\n",
    "print(args.b)\n",
    "print(args.a + args.b)"
   ]
  },
  {
   "cell_type": "code",
   "execution_count": null,
   "id": "d72c1a79-8cda-4886-9212-67db0f4cdef1",
   "metadata": {},
   "outputs": [],
   "source": []
  }
 ],
 "metadata": {
  "kernelspec": {
   "display_name": "Python 3 (ipykernel)",
   "language": "python",
   "name": "python3"
  },
  "language_info": {
   "codemirror_mode": {
    "name": "ipython",
    "version": 3
   },
   "file_extension": ".py",
   "mimetype": "text/x-python",
   "name": "python",
   "nbconvert_exporter": "python",
   "pygments_lexer": "ipython3",
   "version": "3.8.12"
  }
 },
 "nbformat": 4,
 "nbformat_minor": 5
}
