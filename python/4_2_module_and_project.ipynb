{
 "cells": [
  {
   "cell_type": "markdown",
   "id": "ca363f70-fd4f-4aeb-8a1f-02227bd94f9e",
   "metadata": {},
   "source": [
    "# 모듈 "
   ]
  },
  {
   "cell_type": "code",
   "execution_count": null,
   "id": "97c0af6d-2f53-4239-9294-167e60c08f79",
   "metadata": {},
   "outputs": [],
   "source": []
  }
 ],
 "metadata": {
  "kernelspec": {
   "display_name": "Python 3 (ipykernel)",
   "language": "python",
   "name": "python3"
  },
  "language_info": {
   "codemirror_mode": {
    "name": "ipython",
    "version": 3
   },
   "file_extension": ".py",
   "mimetype": "text/x-python",
   "name": "python",
   "nbconvert_exporter": "python",
   "pygments_lexer": "ipython3",
   "version": "3.8.12"
  }
 },
 "nbformat": 4,
 "nbformat_minor": 5
}
