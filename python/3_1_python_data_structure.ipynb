{
 "cells": [
  {
   "cell_type": "markdown",
   "id": "7e12b313-544b-40f8-a390-bcda335b530b",
   "metadata": {},
   "source": [
    "# 기본 데이터 구조"
   ]
  },
  {
   "cell_type": "markdown",
   "id": "e50678fa-2ab4-486e-bfd0-46cfef6dac54",
   "metadata": {},
   "source": [
    "- 스택과 큐(stack&queue with list)\n",
    "- 튜플과 집합(tuple & set)\n",
    "- 사전(dictionary)\n",
    "- Collection 모듈"
   ]
  },
  {
   "cell_type": "markdown",
   "id": "53544ec9-e036-45e6-a8e6-9f292f0b69f0",
   "metadata": {},
   "source": [
    "## 스택"
   ]
  },
  {
   "cell_type": "markdown",
   "id": "c3e14bc6-1849-4deb-a828-8e0ae0e87eee",
   "metadata": {},
   "source": [
    "- 나중에 넣은 데이터를 먼저 반환(LIFO)\n",
    "- Push / Pop"
   ]
  },
  {
   "cell_type": "code",
   "execution_count": 2,
   "id": "2d8878bb-fc26-496c-80f8-5081a103e802",
   "metadata": {},
   "outputs": [
    {
     "name": "stdout",
     "output_type": "stream",
     "text": [
      "20\n",
      "10\n"
     ]
    }
   ],
   "source": [
    "a = [1,2,3,4,5]\n",
    "a.append(10) #push\n",
    "a.append(20) #push\n",
    "print(a.pop())\n",
    "print(a.pop())"
   ]
  },
  {
   "cell_type": "code",
   "execution_count": 5,
   "id": "a7a5dd46-1650-4388-8e96-108f17d064a7",
   "metadata": {},
   "outputs": [
    {
     "name": "stdin",
     "output_type": "stream",
     "text": [
      "input a word :  ㄴㅁㅇㄹ\n"
     ]
    },
    {
     "name": "stdout",
     "output_type": "stream",
     "text": [
      "ㄹ\n",
      "ㅇ\n",
      "ㅁ\n",
      "ㄴ\n"
     ]
    }
   ],
   "source": [
    "#입력된 문자열 역순출력\n",
    "word = input('input a word : ')\n",
    "word_list = list(word)\n",
    "for i in range(len(word_list)) :\n",
    "    print(word_list.pop())"
   ]
  },
  {
   "cell_type": "markdown",
   "id": "6dc0b857-e54c-46be-a753-8ad1b09ed946",
   "metadata": {},
   "source": [
    "## 큐"
   ]
  },
  {
   "cell_type": "markdown",
   "id": "9a7bb362-1099-4cf4-973b-9dc2db32d06f",
   "metadata": {},
   "source": [
    "- 먼저 넣은 데이터를 먼저 반환(FIFO)"
   ]
  },
  {
   "cell_type": "code",
   "execution_count": 6,
   "id": "575c7a77-3c39-4684-ab6f-29aeac56e318",
   "metadata": {},
   "outputs": [
    {
     "name": "stdout",
     "output_type": "stream",
     "text": [
      "1\n",
      "2\n"
     ]
    }
   ],
   "source": [
    "a = [1,2,3,4,5]\n",
    "a.append(10)\n",
    "a.append(20)\n",
    "print(a.pop(0))\n",
    "print(a.pop(0))"
   ]
  },
  {
   "cell_type": "markdown",
   "id": "8d3878b6-5b9d-41b8-8518-0803fdf1ed85",
   "metadata": {},
   "source": [
    "## 튜플"
   ]
  },
  {
   "cell_type": "markdown",
   "id": "e03f275e-05e4-4b24-a87e-a2c6673089d6",
   "metadata": {},
   "source": [
    "- 값의 변경이 불가능한 리스트"
   ]
  },
  {
   "cell_type": "code",
   "execution_count": 9,
   "id": "1295d04e-9b9c-4982-813a-b34a6245e984",
   "metadata": {},
   "outputs": [
    {
     "name": "stdout",
     "output_type": "stream",
     "text": [
      "(1, 2, 3, 1, 2, 3) (1, 2, 3, 1, 2, 3)\n"
     ]
    },
    {
     "ename": "TypeError",
     "evalue": "'tuple' object does not support item assignment",
     "output_type": "error",
     "traceback": [
      "\u001b[0;31m---------------------------------------------------------------------------\u001b[0m",
      "\u001b[0;31mTypeError\u001b[0m                                 Traceback (most recent call last)",
      "\u001b[0;32m/var/folders/3k/05vd5sp53wbgspztyxv0ksfm0000gn/T/ipykernel_22991/2407357206.py\u001b[0m in \u001b[0;36m<module>\u001b[0;34m\u001b[0m\n\u001b[1;32m      2\u001b[0m \u001b[0mprint\u001b[0m\u001b[0;34m(\u001b[0m\u001b[0mt\u001b[0m\u001b[0;34m+\u001b[0m\u001b[0mt\u001b[0m\u001b[0;34m,\u001b[0m \u001b[0mt\u001b[0m\u001b[0;34m*\u001b[0m\u001b[0;36m2\u001b[0m\u001b[0;34m)\u001b[0m\u001b[0;34m\u001b[0m\u001b[0;34m\u001b[0m\u001b[0m\n\u001b[1;32m      3\u001b[0m \u001b[0mlen\u001b[0m\u001b[0;34m(\u001b[0m\u001b[0mt\u001b[0m\u001b[0;34m)\u001b[0m\u001b[0;34m\u001b[0m\u001b[0;34m\u001b[0m\u001b[0m\n\u001b[0;32m----> 4\u001b[0;31m \u001b[0mt\u001b[0m\u001b[0;34m[\u001b[0m\u001b[0;36m1\u001b[0m\u001b[0;34m]\u001b[0m \u001b[0;34m=\u001b[0m \u001b[0;36m5\u001b[0m \u001b[0;31m# error\u001b[0m\u001b[0;34m\u001b[0m\u001b[0;34m\u001b[0m\u001b[0m\n\u001b[0m",
      "\u001b[0;31mTypeError\u001b[0m: 'tuple' object does not support item assignment"
     ]
    }
   ],
   "source": [
    "t = (1,2,3)\n",
    "print(t+t, t*2)\n",
    "len(t)\n",
    "t[1] = 5 # error"
   ]
  },
  {
   "cell_type": "markdown",
   "id": "222aae16-e81a-4033-a8ec-35e24bd0b39d",
   "metadata": {},
   "source": [
    "## 집합(set)"
   ]
  },
  {
   "cell_type": "markdown",
   "id": "ba149c7e-4cad-4531-9f71-3605c56cf509",
   "metadata": {},
   "source": [
    "- 수학에서의 집합과 동일한 연산 가능\n",
    "- 순서없음\n",
    "- 중복 불가"
   ]
  },
  {
   "cell_type": "code",
   "execution_count": 18,
   "id": "46a5c8c1-fd88-487f-a4dd-734c3ef49a64",
   "metadata": {},
   "outputs": [
    {
     "name": "stdout",
     "output_type": "stream",
     "text": [
      "{1, 2, 3}\n"
     ]
    }
   ],
   "source": [
    "s = set([1,2,3,1,2,3])\n",
    "print(s)"
   ]
  },
  {
   "cell_type": "code",
   "execution_count": 19,
   "id": "54e05ff2-a03f-4f47-97ec-a61781a70d7a",
   "metadata": {},
   "outputs": [
    {
     "data": {
      "text/plain": [
       "{1, 2, 3}"
      ]
     },
     "execution_count": 19,
     "metadata": {},
     "output_type": "execute_result"
    }
   ],
   "source": [
    "s.add(1) # 원소추가\n",
    "s"
   ]
  },
  {
   "cell_type": "code",
   "execution_count": 20,
   "id": "578bf170-c5c0-43fe-b0fd-eadd46b68d59",
   "metadata": {},
   "outputs": [
    {
     "data": {
      "text/plain": [
       "{2, 3}"
      ]
     },
     "execution_count": 20,
     "metadata": {},
     "output_type": "execute_result"
    }
   ],
   "source": [
    "s.remove(1) # 원소제거\n",
    "s"
   ]
  },
  {
   "cell_type": "code",
   "execution_count": 21,
   "id": "09366f54-627a-42ca-8c8b-6346c4ae36d5",
   "metadata": {},
   "outputs": [
    {
     "data": {
      "text/plain": [
       "{1, 2, 3, 4, 5}"
      ]
     },
     "execution_count": 21,
     "metadata": {},
     "output_type": "execute_result"
    }
   ],
   "source": [
    "s.update([1,2,4,5,5,3]) # 원소추가 한번에\n",
    "s"
   ]
  },
  {
   "cell_type": "code",
   "execution_count": 22,
   "id": "ed976a0e-cbee-4268-b456-cfa71cfd305b",
   "metadata": {},
   "outputs": [
    {
     "data": {
      "text/plain": [
       "{1, 2, 4, 5}"
      ]
     },
     "execution_count": 22,
     "metadata": {},
     "output_type": "execute_result"
    }
   ],
   "source": [
    "s.discard(3) # 원소삭제\n",
    "s"
   ]
  },
  {
   "cell_type": "code",
   "execution_count": 23,
   "id": "9a314be1-c5dc-4d5e-b96c-5027f73eb982",
   "metadata": {},
   "outputs": [],
   "source": [
    "s.clear() # 모든 원소 삭제"
   ]
  },
  {
   "cell_type": "code",
   "execution_count": 25,
   "id": "8f302400-eaf9-49bc-8d08-2a48c92e5121",
   "metadata": {},
   "outputs": [
    {
     "name": "stdout",
     "output_type": "stream",
     "text": [
      "{1, 2, 3, 4, 5, 6, 7}\n",
      "{1, 2, 3, 4, 5, 6, 7}\n",
      "{3, 4, 5}\n",
      "{3, 4, 5}\n",
      "{1, 2}\n",
      "{1, 2}\n"
     ]
    }
   ],
   "source": [
    "s1 = set([1,2,3,4,5])\n",
    "s2 = set([3,4,5,6,7])\n",
    "print(s1.union(s2)) #합집합\n",
    "print(s1 | s2) #합집합\n",
    "print(s1.intersection(s2)) #교집합\n",
    "print(s1 & s2) #교집합\n",
    "print(s1.difference(s2)) #차집합\n",
    "print(s1 - s2)"
   ]
  },
  {
   "cell_type": "markdown",
   "id": "05f8e217-6dbc-4a50-b73b-58e31400ae7e",
   "metadata": {},
   "source": [
    "## 사전(dict)"
   ]
  },
  {
   "cell_type": "markdown",
   "id": "c35138e8-af27-404a-9d4e-a10f6aa6bd82",
   "metadata": {},
   "source": [
    "- key-value 쌍으로 데이터 저장\n",
    "- hash table"
   ]
  },
  {
   "cell_type": "code",
   "execution_count": 26,
   "id": "07f00b61-3f1b-4764-9c12-45023f37f936",
   "metadata": {},
   "outputs": [
    {
     "data": {
      "text/plain": [
       "'d'"
      ]
     },
     "execution_count": 26,
     "metadata": {},
     "output_type": "execute_result"
    }
   ],
   "source": [
    "student_info = {99:'d', 33:'a'}\n",
    "student_info[99]"
   ]
  },
  {
   "cell_type": "code",
   "execution_count": 31,
   "id": "5b785d5b-ef11-4eed-bd11-460e55d37aef",
   "metadata": {},
   "outputs": [
    {
     "name": "stdout",
     "output_type": "stream",
     "text": [
      "{'America': 1, 'Korea': 82, 'China': 86, 'Japan': 81}\n",
      "dict_items([('America', 1), ('Korea', 82), ('China', 86), ('Japan', 81)])\n",
      "dict_keys(['America', 'Korea', 'China', 'Japan'])\n",
      "dict_values([1, 82, 86, 81])\n",
      "{'America': 1, 'Korea': 82, 'China': 86, 'Japan': 81, 'German': 49}\n"
     ]
    }
   ],
   "source": [
    "country_code = {}\n",
    "country_code = {\"America\" : 1, \"Korea\" : 82, \"China\" : 86, \"Japan\" : 81}\n",
    "print(country_code)\n",
    "print(country_code.items())\n",
    "print(country_code.keys())\n",
    "print(country_code.values())\n",
    "country_code[\"German\"] = 49\n",
    "print(country_code)"
   ]
  },
  {
   "cell_type": "code",
   "execution_count": 32,
   "id": "e2581792-c0b9-425d-a1e7-3f2213e96df9",
   "metadata": {},
   "outputs": [
    {
     "name": "stdout",
     "output_type": "stream",
     "text": [
      "[['bookworm', 8500], ['elsa', 7500], ['fillmore', 7394], ['francis', 5978], ['anton_ego', 5819], ['queen_grimhilde', 5000], ['kristoff', 4934], ['brent_mustangburger', 4838], ['emperor_zurg', 4470], ['tarzan', 4193], ['stitch', 3742], ['marlon_the_alligator', 3203], ['faline', 3115], ['meg', 3098], ['fear', 2968], ['roo', 2782], ['claire_wheeler', 2777], ['don_carlton', 2773], ['guido', 2541], ['flynn_rider', 1996], ['mama_odie', 1883], ['darla_sherman', 1861], ['tiger_lily', 1846], ['chick_hicks', 1678], ['louis_the_alligator', 1374], ['the_dodo', 1364], ['ray_the_firefly', 998], ['tigger', 884], ['jane_porter', 852], ['al_mcwhiggin', 777], ['tinker_bell', 696], ['peter_pig', 500], ['rocket_raccoon', 473], ['charlotte_la_bouff', 472], ['peter_pan', 463], ['auto', 458], ['kocoum', 438], ['prince_naveen', 425], ['flik', 424], ['dory', 410], ['bo_peep', 407], ['captain_hook', 403], ['aladdin', 402], ['chatter_telephone', 372], ['django', 371], ['charlie', 363], ['bomb_voyage', 337], ['riley_anderson', 330], ['flo', 324], ['finn_mcmissile', 319], ['nani_pelekai', 319], ['pocahontas', 312], ['chum', 311], ['bing_bong', 311], ['disgust', 305], ['anna', 304], ['boo', 304], ['fa_zhou', 299], ['francesco_bernoulli', 292], ['bambi', 275], ['prince_hans', 275], ['aurora', 267], ['duke_of_weselton', 264], ['bumblebee', 260], ['joy', 258], ['dolly', 254], ['flora', 247], ['fred', 244], ['brock_pearson', 242], ['dim', 240], ['eve', 239], ['white_rabbit', 237], ['mungo', 237], ['crush', 231], ['pascal', 224], ['carrie_williams', 223], ['rapunzel', 219], ['merryweather', 219], ['wendy_darling', 218], ['roger_rabbit', 211], ['collette_tatou', 206], ['cheshire_cat', 200], ['eudora', 191], ['lilo_pelekai', 190], ['mulan', 188], ['coral', 186], ['maximus', 172], ['emile', 168], ['tiana', 167], ['auguste_gusteau', 153], ['darrell_cartrip', 146], ['sadness', 133], ['nakoma', 133], ['chunk', 126], ['alice', 123], ['the_magic_mirror', 116], ['snow_white', 115], ['splunk_teamlab', 115], ['thor', 98], ['fritz', 94]]\n"
     ]
    }
   ],
   "source": [
    "# dict 활용, command analyzer\n",
    "import csv\n",
    "\n",
    "def getKey(item) :\n",
    "    return item[1]\n",
    "\n",
    "command_data = []\n",
    "with open('data/command_data.csv', 'r') as csvfile :\n",
    "    spamreader = csv.reader(csvfile, delimiter=',',quotechar='\"')\n",
    "    for row in spamreader :\n",
    "        command_data.append(row)\n",
    "command_counter = {}\n",
    "for data in command_data :\n",
    "    if data[1] in command_counter.keys():\n",
    "        command_counter[data[1]] += 1\n",
    "    else :\n",
    "        command_counter[data[1]] = 1\n",
    "\n",
    "dictlist = []\n",
    "for key, value in command_counter.items(): \n",
    "    temp = [key, value]\n",
    "    dictlist.append(temp)\n",
    "\n",
    "sorted_dict = sorted(dictlist, key=getKey, reverse=True)\n",
    "print(sorted_dict[:100])"
   ]
  },
  {
   "cell_type": "markdown",
   "id": "67c3129c-4e00-4087-8f57-639d9dcc9277",
   "metadata": {},
   "source": [
    "## collections "
   ]
  },
  {
   "cell_type": "markdown",
   "id": "584a1aaa-e149-4fbd-a629-359c35565524",
   "metadata": {},
   "source": [
    "- List, Tuple, Dict에 대한 Python Built-in 확장 자료 구조(모듈)"
   ]
  },
  {
   "cell_type": "code",
   "execution_count": 33,
   "id": "91710517-fa20-41ef-bea7-c4d08319267d",
   "metadata": {},
   "outputs": [],
   "source": [
    "from collections import deque\n",
    "from collections import Counter\n",
    "from collections import OrderedDict\n",
    "from collections import defaultdict\n",
    "from collections import namedtuple"
   ]
  },
  {
   "cell_type": "markdown",
   "id": "6e5001a7-cf04-42d2-8ace-eff867394c80",
   "metadata": {},
   "source": [
    "### deque"
   ]
  },
  {
   "cell_type": "markdown",
   "id": "584a887d-f817-4d04-84ab-af903f21993f",
   "metadata": {},
   "source": [
    "- Stack과 Queue 지원\n",
    "- List에 비해 효율적인 자료 저장방식 지원"
   ]
  },
  {
   "cell_type": "code",
   "execution_count": 35,
   "id": "b8063338-487b-4149-a0a2-4ac0954e5154",
   "metadata": {},
   "outputs": [
    {
     "name": "stdout",
     "output_type": "stream",
     "text": [
      "deque([0, 1, 2, 3, 4])\n",
      "deque([10, 0, 1, 2, 3, 4])\n"
     ]
    }
   ],
   "source": [
    "deque_list = deque()\n",
    "for i in range(5):\n",
    "    deque_list.append(i) # 우 추가 \n",
    "print(deque_list)\n",
    "deque_list.appendleft(10) # 좌 추가\n",
    "print(deque_list)"
   ]
  },
  {
   "cell_type": "markdown",
   "id": "3ba69957-1376-48c0-be2f-89c551fdc866",
   "metadata": {},
   "source": [
    "- rotate, reverse 등 Linked List의 특성을 지원\n",
    "- 기존 list 형태의 함수를 모두 지원"
   ]
  },
  {
   "cell_type": "code",
   "execution_count": 38,
   "id": "f56be983-cf2d-4d34-90ac-32d562790456",
   "metadata": {},
   "outputs": [
    {
     "name": "stdout",
     "output_type": "stream",
     "text": [
      "deque([1, 2, 3, 4, 10, 0])\n",
      "deque([10, 0, 1, 2, 3, 4])\n",
      "deque([4, 3, 2, 1, 0, 10])\n"
     ]
    }
   ],
   "source": [
    "# rotate = 오른쪽으로 이동\n",
    "deque_list.rotate(2)\n",
    "print(deque_list)\n",
    "deque_list.rotate(2)\n",
    "print(deque_list)\n",
    "print(deque(reversed(deque_list)))"
   ]
  },
  {
   "cell_type": "code",
   "execution_count": 40,
   "id": "3d1ffeaf-4384-47b2-9a61-dc45e4fe93ca",
   "metadata": {},
   "outputs": [
    {
     "name": "stdout",
     "output_type": "stream",
     "text": [
      "deque([7, 6, 5, 10, 0, 1, 2, 3, 4, 5, 6, 7, 5, 6, 7])\n",
      "deque([7, 6, 5, 7, 6, 5, 10, 0, 1, 2, 3, 4, 5, 6, 7, 5, 6, 7])\n"
     ]
    }
   ],
   "source": [
    "# extend, extendleft\n",
    "deque_list.extend([5,6,7])\n",
    "print(deque_list)\n",
    "deque_list.extendleft([5,6,7])\n",
    "print(deque_list)"
   ]
  },
  {
   "cell_type": "code",
   "execution_count": 41,
   "id": "3b263afe-d4e4-4785-a7fa-f65334206f4d",
   "metadata": {},
   "outputs": [],
   "source": [
    "import time"
   ]
  },
  {
   "cell_type": "code",
   "execution_count": 43,
   "id": "e515a17a-ecd1-42c7-a45a-b0e962c54e95",
   "metadata": {},
   "outputs": [
    {
     "name": "stdout",
     "output_type": "stream",
     "text": [
      "10.552529096603394 s\n"
     ]
    }
   ],
   "source": [
    "start_time = time.time()\n",
    "deque_list = deque()\n",
    "for i in range(10000):\n",
    "    for j in range(10000):\n",
    "        deque_list.append(j)\n",
    "        deque_list.pop()\n",
    "print(time.time()-start_time, 's')"
   ]
  },
  {
   "cell_type": "code",
   "execution_count": 44,
   "id": "be733a69-96c3-44b5-aa6e-4cdb0973e8cc",
   "metadata": {},
   "outputs": [
    {
     "name": "stdout",
     "output_type": "stream",
     "text": [
      "25.15894889831543 s\n"
     ]
    }
   ],
   "source": [
    "start_time = time.time()\n",
    "just_list = []\n",
    "for i in range(10000):\n",
    "    for j in range(10000):\n",
    "        just_list.append(j)\n",
    "        just_list.pop()\n",
    "print(time.time()-start_time, 's')"
   ]
  },
  {
   "cell_type": "markdown",
   "id": "a0b90131-87e6-4458-9360-4f5e0234c223",
   "metadata": {},
   "source": [
    "### orderedDict"
   ]
  },
  {
   "cell_type": "markdown",
   "id": "173503ec-7cab-4e89-bb22-f5ae8f6f9fa9",
   "metadata": {},
   "source": [
    "- 순서가 있는 dict"
   ]
  },
  {
   "cell_type": "code",
   "execution_count": 46,
   "id": "76af18f1-eb3b-4eb4-bba1-53e6483eaa31",
   "metadata": {},
   "outputs": [
    {
     "name": "stdout",
     "output_type": "stream",
     "text": [
      "x 100\n",
      "y 200\n",
      "z 300\n",
      "l 500\n"
     ]
    }
   ],
   "source": [
    "from collections import OrderedDict\n",
    "d = OrderedDict()\n",
    "d['x'] = 100\n",
    "d['y'] = 200\n",
    "d['z'] = 300\n",
    "d['l'] = 500\n",
    "\n",
    "for k, v in d.items():\n",
    "    print(k,v)"
   ]
  },
  {
   "cell_type": "code",
   "execution_count": 50,
   "id": "12fa3897-f84c-4324-bd1c-a9ecd734ef1d",
   "metadata": {},
   "outputs": [
    {
     "name": "stdout",
     "output_type": "stream",
     "text": [
      "l 500\n",
      "x 100\n",
      "y 200\n",
      "z 300\n",
      "\n",
      "x 100\n",
      "y 200\n",
      "z 300\n",
      "l 500\n"
     ]
    }
   ],
   "source": [
    "for k,v in OrderedDict(sorted(d.items(), key=lambda t:t[0])).items():\n",
    "    print(k,v) # key에 따라 정렬\n",
    "print()\n",
    "for k,v in OrderedDict(sorted(d.items(), key=lambda t:t[1])).items():\n",
    "    print(k,v) # value에 따라 정렬"
   ]
  },
  {
   "cell_type": "markdown",
   "id": "c78bed65-7294-4a54-8c3f-ba6da7e1bafd",
   "metadata": {},
   "source": [
    "### defaultDict"
   ]
  },
  {
   "cell_type": "markdown",
   "id": "2526e13a-c6d0-4388-91f7-664c55ab1fe7",
   "metadata": {},
   "source": [
    "- dict type에 기본값을 지정, 신규값 생성 시 사용"
   ]
  },
  {
   "cell_type": "code",
   "execution_count": 53,
   "id": "9c4dfe64-6ace-4d6c-bb65-a5adc192b8a8",
   "metadata": {},
   "outputs": [
    {
     "name": "stdout",
     "output_type": "stream",
     "text": [
      "0\n"
     ]
    }
   ],
   "source": [
    "from collections import defaultdict\n",
    "d = defaultdict(object)\n",
    "d = defaultdict(lambda:0)\n",
    "print(d[\"first\"]) #key값 생성 -> 자동으로 value에 0"
   ]
  },
  {
   "cell_type": "code",
   "execution_count": 56,
   "id": "bf9c78f5-defa-4266-9b21-1408ef9aeaef",
   "metadata": {},
   "outputs": [
    {
     "name": "stdout",
     "output_type": "stream",
     "text": [
      "['a', 'press', 'release', 'is', 'the', 'quickest', 'and', 'easiest', 'way', 'to', 'get', 'free', 'publicity.', 'if', 'well', 'written,', 'a', 'press', 'release', 'can', 'result', 'in', 'multiple', 'published', 'articles', 'about', 'your', 'firm', 'and', 'its', 'products.', 'and', 'that', 'can', 'mean', 'new', 'prospects', 'contacting', 'you', 'asking', 'you', 'to', 'sell', 'to', 'them.', '....']\n"
     ]
    }
   ],
   "source": [
    "# 하나의 문장에 단어가 얼마나 들어가있는지 세보자, text-mining 접근법\n",
    "text = \"\"\"A press release is the quickest and easiest way to get free publicity. If well written, a press release can result in multiple published articles about your firm and its products. And that can mean new prospects contacting you asking you to sell to them. ....\"\"\".lower().split()\n",
    "print(text)"
   ]
  },
  {
   "cell_type": "code",
   "execution_count": 59,
   "id": "6a225ce9-4dcd-4949-b4c7-ed793d46fb4e",
   "metadata": {},
   "outputs": [
    {
     "name": "stdout",
     "output_type": "stream",
     "text": [
      "and 3\n",
      "to 3\n",
      "a 2\n",
      "press 2\n",
      "release 2\n",
      "can 2\n",
      "you 2\n",
      "is 1\n",
      "the 1\n",
      "quickest 1\n",
      "easiest 1\n",
      "way 1\n",
      "get 1\n",
      "free 1\n",
      "publicity. 1\n",
      "if 1\n",
      "well 1\n",
      "written, 1\n",
      "result 1\n",
      "in 1\n",
      "multiple 1\n",
      "published 1\n",
      "articles 1\n",
      "about 1\n",
      "your 1\n",
      "firm 1\n",
      "its 1\n",
      "products. 1\n",
      "that 1\n",
      "mean 1\n",
      "new 1\n",
      "prospects 1\n",
      "contacting 1\n",
      "asking 1\n",
      "sell 1\n",
      "them. 1\n",
      ".... 1\n"
     ]
    }
   ],
   "source": [
    "count_word = defaultdict(lambda:0)\n",
    "for t in text :\n",
    "    count_word[t] += 1\n",
    "for i,v in OrderedDict(sorted(count_word.items(), key=lambda t:t[1],reverse=True)).items():\n",
    "    print(i,v)"
   ]
  },
  {
   "cell_type": "markdown",
   "id": "b6c219c2-c768-47f9-8a76-4ecf00ee60ec",
   "metadata": {},
   "source": [
    "### Counter"
   ]
  },
  {
   "cell_type": "markdown",
   "id": "1c0c4ae5-4aa6-4ebe-9a51-ac0fb289e82d",
   "metadata": {},
   "source": [
    "Sequence type의 data element들의 갯수를 dict 형태로 반환"
   ]
  },
  {
   "cell_type": "code",
   "execution_count": 60,
   "id": "fa19d69c-5a53-4588-8cfc-3690d59a9d96",
   "metadata": {},
   "outputs": [
    {
     "name": "stdout",
     "output_type": "stream",
     "text": [
      "Counter({'a': 3, 'l': 2, 'g': 1, 'h': 1, 'd': 1})\n"
     ]
    }
   ],
   "source": [
    "from collections import Counter\n",
    "\n",
    "c = Counter()\n",
    "c = Counter('gallahad')\n",
    "print(c)"
   ]
  },
  {
   "cell_type": "code",
   "execution_count": 61,
   "id": "08f164a5-2336-4676-8cde-17f3dbd3a6bf",
   "metadata": {},
   "outputs": [
    {
     "name": "stdout",
     "output_type": "stream",
     "text": [
      "Counter({'red': 4, 'blue': 2})\n",
      "['red', 'red', 'red', 'red', 'blue', 'blue']\n"
     ]
    }
   ],
   "source": [
    "#counter를 list형태로 변환하는 것도 가능하다\n",
    "c = Counter({'red':4, 'blue':2})\n",
    "print(c)\n",
    "print(list(c.elements())) "
   ]
  },
  {
   "cell_type": "code",
   "execution_count": 63,
   "id": "6cd66482-56c7-4b52-a9f4-738c5b8e8223",
   "metadata": {},
   "outputs": [
    {
     "name": "stdout",
     "output_type": "stream",
     "text": [
      "Counter({'dogs': 8, 'cats': 4})\n",
      "['cats', 'cats', 'cats', 'cats', 'dogs', 'dogs', 'dogs', 'dogs', 'dogs', 'dogs', 'dogs', 'dogs']\n"
     ]
    }
   ],
   "source": [
    "c = Counter(cats=4,dogs=8) #string으로 인식\n",
    "print(c)\n",
    "print(list(c.elements()))"
   ]
  },
  {
   "cell_type": "code",
   "execution_count": 67,
   "id": "0ba8c782-a417-4e3a-b421-b01944ed447b",
   "metadata": {},
   "outputs": [
    {
     "name": "stdout",
     "output_type": "stream",
     "text": [
      "Counter({'a': 3, 'b': 0, 'c': -3, 'd': -6})\n"
     ]
    }
   ],
   "source": [
    "#set 연산 지원\n",
    "c = Counter(a=4,b=2,c=0,d=-2)\n",
    "d = Counter(a=1,b=2,c=3,d=4)\n",
    "c.subtract(d) # c-d\n",
    "print(c)"
   ]
  },
  {
   "cell_type": "code",
   "execution_count": null,
   "id": "9fab386c-693c-439b-ada9-1c7de9d56097",
   "metadata": {},
   "outputs": [],
   "source": []
  },
  {
   "cell_type": "code",
   "execution_count": null,
   "id": "22b65eb6-c1b1-4255-aa98-abef3e3b1772",
   "metadata": {},
   "outputs": [],
   "source": []
  }
 ],
 "metadata": {
  "kernelspec": {
   "display_name": "Python 3 (ipykernel)",
   "language": "python",
   "name": "python3"
  },
  "language_info": {
   "codemirror_mode": {
    "name": "ipython",
    "version": 3
   },
   "file_extension": ".py",
   "mimetype": "text/x-python",
   "name": "python",
   "nbconvert_exporter": "python",
   "pygments_lexer": "ipython3",
   "version": "3.8.12"
  }
 },
 "nbformat": 4,
 "nbformat_minor": 5
}
