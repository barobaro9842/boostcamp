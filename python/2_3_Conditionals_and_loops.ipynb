{
 "cells": [
  {
   "cell_type": "markdown",
   "id": "036aba62-1cc7-4e1a-977c-67d974478d97",
   "metadata": {},
   "source": [
    "# Condition"
   ]
  },
  {
   "cell_type": "code",
   "execution_count": 6,
   "id": "ab24f0f0-3cb6-464a-8307-51b1e13239c0",
   "metadata": {},
   "outputs": [
    {
     "name": "stdin",
     "output_type": "stream",
     "text": [
      " 30\n"
     ]
    },
    {
     "name": "stdout",
     "output_type": "stream",
     "text": [
      "dodo\n"
     ]
    }
   ],
   "source": [
    "# 조건에 따른 명령 실행\n",
    "a = int(input())\n",
    "if a < 30 :\n",
    "    print('popo')\n",
    "else :\n",
    "    print(\"dodo\")"
   ]
  },
  {
   "cell_type": "code",
   "execution_count": 11,
   "id": "3b939665-5a23-44bd-af49-b11634baf042",
   "metadata": {},
   "outputs": [
    {
     "name": "stdout",
     "output_type": "stream",
     "text": [
      "True\n",
      "True\n"
     ]
    }
   ],
   "source": [
    "# 조건의 참/거짓 여부\n",
    "# 존재하면 참, 없으면 거짓\n",
    "if 1 :\n",
    "    print(\"True\")\n",
    "else :\n",
    "    print(\"False\")\n",
    "    \n",
    "if 'abc':\n",
    "    print(\"True\")\n",
    "else :\n",
    "    print('False')"
   ]
  },
  {
   "cell_type": "code",
   "execution_count": 13,
   "id": "ad98d629-957e-43ce-8125-57077d06abbd",
   "metadata": {},
   "outputs": [
    {
     "name": "stdout",
     "output_type": "stream",
     "text": [
      "False\n",
      "True\n",
      "False\n"
     ]
    }
   ],
   "source": [
    "# 집합 논리 키워드 사용\n",
    "\n",
    "a = 8\n",
    "b = 5\n",
    "\n",
    "if a == 8 and b == 3 :\n",
    "    print('True')\n",
    "else :\n",
    "    print('False')\n",
    "\n",
    "if a > 7 or b > 7 :\n",
    "    print('True')\n",
    "else :\n",
    "    print('False')\n",
    "\n",
    "    \n",
    "if not (a>7):\n",
    "    print('True')\n",
    "else :\n",
    "    print('False')\n"
   ]
  },
  {
   "cell_type": "code",
   "execution_count": 20,
   "id": "328b9c46-39b2-4a7c-9e92-4a68b748f511",
   "metadata": {},
   "outputs": [
    {
     "name": "stdout",
     "output_type": "stream",
     "text": [
      "True\n"
     ]
    }
   ],
   "source": [
    "# 3항 연산자\n",
    "value = 12\n",
    "is_even = True if value % 2 == 0 else False\n",
    "print(is_even)"
   ]
  },
  {
   "cell_type": "code",
   "execution_count": 21,
   "id": "4aebeb70-b43f-4562-aaf8-097a2a76b4f2",
   "metadata": {},
   "outputs": [
    {
     "name": "stdin",
     "output_type": "stream",
     "text": [
      " 5\n"
     ]
    },
    {
     "name": "stdout",
     "output_type": "stream",
     "text": [
      "grade='F'\n"
     ]
    }
   ],
   "source": [
    "# elif 구문\n",
    "\n",
    "score = int(input())\n",
    "if score >= 90 : print(\"grade='A'\")\n",
    "elif score >= 80 : print(\"grade='B'\")\n",
    "elif score >= 70 : print(\"grade='C'\")\n",
    "elif score >= 60 : print(\"grade='D'\")\n",
    "else: print(\"grade='F'\")"
   ]
  },
  {
   "cell_type": "markdown",
   "id": "85810e40-9a29-41d5-bec8-cfe871c039f1",
   "metadata": {},
   "source": [
    "# 반복문"
   ]
  },
  {
   "cell_type": "code",
   "execution_count": 22,
   "id": "6d98af1e-53f3-4057-a4c0-435d40dd9cfe",
   "metadata": {},
   "outputs": [
    {
     "name": "stdout",
     "output_type": "stream",
     "text": [
      "hello\n",
      "hello\n",
      "hello\n",
      "hello\n",
      "hello\n",
      "bye\n",
      "bye\n",
      "bye\n",
      "bye\n",
      "bye\n"
     ]
    }
   ],
   "source": [
    "for looper in [1,2,3,4,5]:\n",
    "    print(\"hello\")\n",
    "for looper in range(0,5):\n",
    "    print(\"bye\")"
   ]
  },
  {
   "cell_type": "code",
   "execution_count": 24,
   "id": "64b27024-5c6a-4477-b0d9-9b294b2a4f25",
   "metadata": {},
   "outputs": [
    {
     "name": "stdout",
     "output_type": "stream",
     "text": [
      "a\n",
      "b\n",
      "c\n",
      "d\n",
      "e\n"
     ]
    }
   ],
   "source": [
    "# 문자열 반복\n",
    "for i in 'abcde':\n",
    "    print(i)"
   ]
  },
  {
   "cell_type": "code",
   "execution_count": 25,
   "id": "7265bb41-4572-4d0d-a297-bee32f3b393b",
   "metadata": {},
   "outputs": [
    {
     "name": "stdout",
     "output_type": "stream",
     "text": [
      "abc\n",
      "dfd\n",
      "fdd\n"
     ]
    }
   ],
   "source": [
    "# 문자열 리스트\n",
    "for i in [\"abc\",\"dfd\", \"fdd\"]:\n",
    "    print(i)"
   ]
  },
  {
   "cell_type": "code",
   "execution_count": 30,
   "id": "12d977f9-2b42-4eb5-96e9-e4ebaa9b065d",
   "metadata": {},
   "outputs": [
    {
     "name": "stdout",
     "output_type": "stream",
     "text": [
      "1 3 5 7 9 \n",
      "10 9 8 7 6 5 4 3 2 "
     ]
    }
   ],
   "source": [
    "#간격\n",
    "for i in range(1, 10, 2):\n",
    "    print(i,end=' ')\n",
    "\n",
    "print()\n",
    "#역순\n",
    "for i in range(10,1,-1):\n",
    "    print(i,end=' ')"
   ]
  },
  {
   "cell_type": "code",
   "execution_count": 31,
   "id": "731a1fe2-756c-428a-8880-1dc6da596aef",
   "metadata": {},
   "outputs": [
    {
     "name": "stdout",
     "output_type": "stream",
     "text": [
      "----for-----\n",
      "0\n",
      "1\n",
      "2\n",
      "3\n",
      "4\n",
      "----while-----\n",
      "0\n",
      "1\n",
      "2\n",
      "3\n",
      "4\n"
     ]
    }
   ],
   "source": [
    "# for문은 while문으로 변환 가능\n",
    "print('----for-----')\n",
    "for i in range(0,5):\n",
    "    print(i)\n",
    "\n",
    "print('----while-----')\n",
    "i = 0\n",
    "while i < 5 :\n",
    "    print(i)\n",
    "    i = i + 1"
   ]
  },
  {
   "cell_type": "code",
   "execution_count": 35,
   "id": "cf954105-fb7d-4952-9573-3a208d7be926",
   "metadata": {},
   "outputs": [
    {
     "name": "stdout",
     "output_type": "stream",
     "text": [
      "0\n",
      "1\n",
      "2\n",
      "3\n",
      "4\n",
      "End\n"
     ]
    }
   ],
   "source": [
    "#특정조건에서 반복 종료\n",
    "for i in range(10):\n",
    "    if i == 5:\n",
    "        break\n",
    "    print(i)\n",
    "print(\"End\")"
   ]
  },
  {
   "cell_type": "code",
   "execution_count": 36,
   "id": "b5b42ae7-316f-4717-b085-c5a9265e4fc6",
   "metadata": {},
   "outputs": [
    {
     "name": "stdout",
     "output_type": "stream",
     "text": [
      "0\n",
      "1\n",
      "2\n",
      "3\n",
      "4\n",
      "6\n",
      "7\n",
      "8\n",
      "9\n",
      "End\n"
     ]
    }
   ],
   "source": [
    "#특정조건에서 남은 반복 skip\n",
    "for i in range(10):\n",
    "    if i == 5:\n",
    "        continue\n",
    "    print(i)\n",
    "print(\"End\")"
   ]
  },
  {
   "cell_type": "code",
   "execution_count": 38,
   "id": "9fed0d2c-1493-4ae5-b594-0a5e21365eef",
   "metadata": {},
   "outputs": [
    {
     "name": "stdout",
     "output_type": "stream",
     "text": [
      "0 1 2 3 4 5 6 7 8 9 EOP\n"
     ]
    }
   ],
   "source": [
    "# for - else : 반복 조건이 만족하지 않을 경우 반복 종료 시 1회 수행\n",
    "for i in range(10):\n",
    "    print(i,end=' ')\n",
    "else :\n",
    "    print(\"EOP\")"
   ]
  },
  {
   "cell_type": "code",
   "execution_count": 43,
   "id": "4cabaa6e-d666-44b9-8f70-52828ee3b2e3",
   "metadata": {
    "collapsed": true,
    "jupyter": {
     "outputs_hidden": true
    },
    "tags": []
   },
   "outputs": [
    {
     "name": "stdout",
     "output_type": "stream",
     "text": [
      "0 1 2 3 4 5 6 7 8 9 10 "
     ]
    }
   ],
   "source": [
    "#break로 종료된 경우 else block이 실행되지 않음\n",
    "i = 0\n",
    "while True :\n",
    "    print(i,end=' ')\n",
    "    if i == 10:\n",
    "        break\n",
    "    i += 1\n",
    "else :\n",
    "    print(\"EOP\")"
   ]
  },
  {
   "cell_type": "markdown",
   "id": "3bac88fb-b059-42a8-ade6-08b3776b7bf4",
   "metadata": {},
   "source": [
    "# 반복문 응용"
   ]
  },
  {
   "cell_type": "code",
   "execution_count": 45,
   "id": "b96f611b-b2c5-4f30-8e1a-f462a8f63943",
   "metadata": {},
   "outputs": [
    {
     "name": "stdout",
     "output_type": "stream",
     "text": [
      "uoy evol I\n"
     ]
    }
   ],
   "source": [
    "# sentence reverse\n",
    "sentence = 'I love you'\n",
    "reverse_sentence = ''\n",
    "for c in sentence :\n",
    "    reverse_sentence = c + reverse_sentence\n",
    "print(reverse_sentence)"
   ]
  },
  {
   "cell_type": "code",
   "execution_count": 48,
   "id": "6eafa04a-1c42-4a61-a599-2d6f6b619c30",
   "metadata": {},
   "outputs": [
    {
     "name": "stdout",
     "output_type": "stream",
     "text": [
      "1010\n"
     ]
    }
   ],
   "source": [
    "# binarization\n",
    "decimal = 10\n",
    "result = ''\n",
    "while decimal > 0 :\n",
    "    remainder = decimal % 2\n",
    "    decimal = decimal // 2\n",
    "    result = str(remainder) + result\n",
    "print(result)"
   ]
  },
  {
   "cell_type": "code",
   "execution_count": 52,
   "id": "d1f25b17-a986-4ed5-aeeb-208e627a1d74",
   "metadata": {},
   "outputs": [
    {
     "name": "stdout",
     "output_type": "stream",
     "text": [
      "input decimal : \n"
     ]
    },
    {
     "name": "stdin",
     "output_type": "stream",
     "text": [
      " 10\n"
     ]
    },
    {
     "name": "stdout",
     "output_type": "stream",
     "text": [
      "------------- 0 loop value check------------\n",
      "Initial decimal  :  10 / Remainder :  0 / Initial result :  \n",
      "Output decimal :  5 Output result :  0\n",
      "-------------------------------------------------------\n",
      "\n",
      "------------- 1 loop value check------------\n",
      "Initial decimal  :  5 / Remainder :  1 / Initial result :  0\n",
      "Output decimal :  2 Output result :  10\n",
      "-------------------------------------------------------\n",
      "\n",
      "------------- 2 loop value check------------\n",
      "Initial decimal  :  2 / Remainder :  0 / Initial result :  10\n",
      "Output decimal :  1 Output result :  010\n",
      "-------------------------------------------------------\n",
      "\n",
      "------------- 3 loop value check------------\n",
      "Initial decimal  :  1 / Remainder :  1 / Initial result :  010\n",
      "Output decimal :  0 Output result :  1010\n",
      "-------------------------------------------------------\n",
      "\n",
      "Binary number is 1010\n"
     ]
    }
   ],
   "source": [
    "# debugging loop\n",
    "print('input decimal : ')\n",
    "decimal = int(input())\n",
    "result = \"\"\n",
    "loop_counter = 0\n",
    "while(decimal > 0):\n",
    "    temp_decimal_input = decimal\n",
    "    temp_result_input = result\n",
    "    \n",
    "    remainder = decimal % 2\n",
    "    decimal = decimal // 2\n",
    "    result = str(remainder) + result\n",
    "    \n",
    "    print(\"-------------\", loop_counter, \"loop value check------------\")\n",
    "    print(\"Initial decimal  : \", temp_decimal_input,\n",
    "          \"/ Remainder : \", remainder,\n",
    "          \"/ Initial result : \", temp_result_input)\n",
    "    print(\"Output decimal : \", decimal,\n",
    "          \"Output result : \", result)\n",
    "    print(\"-------------------------------------------------------\")\n",
    "    print()\n",
    "    \n",
    "    loop_counter += 1\n",
    "\n",
    "print(\"Binary number is\", result)\n",
    "    "
   ]
  },
  {
   "cell_type": "code",
   "execution_count": 54,
   "id": "989f7978-ee55-4f48-bd0a-1d04f5354c2c",
   "metadata": {},
   "outputs": [
    {
     "name": "stdout",
     "output_type": "stream",
     "text": [
      "숫자를 맞춰보세요. (1~100)\n"
     ]
    },
    {
     "name": "stdin",
     "output_type": "stream",
     "text": [
      " 10\n"
     ]
    },
    {
     "name": "stdout",
     "output_type": "stream",
     "text": [
      "숫자가 너무 작습니다.\n"
     ]
    },
    {
     "name": "stdin",
     "output_type": "stream",
     "text": [
      " 50\n"
     ]
    },
    {
     "name": "stdout",
     "output_type": "stream",
     "text": [
      "숫자가 너무 작습니다.\n"
     ]
    },
    {
     "name": "stdin",
     "output_type": "stream",
     "text": [
      " 90\n"
     ]
    },
    {
     "name": "stdout",
     "output_type": "stream",
     "text": [
      "숫자가 너무 큽니다.\n"
     ]
    },
    {
     "name": "stdin",
     "output_type": "stream",
     "text": [
      " 60\n"
     ]
    },
    {
     "name": "stdout",
     "output_type": "stream",
     "text": [
      "숫자가 너무 작습니다.\n"
     ]
    },
    {
     "name": "stdin",
     "output_type": "stream",
     "text": [
      " 70\n"
     ]
    },
    {
     "name": "stdout",
     "output_type": "stream",
     "text": [
      "숫자가 너무 작습니다.\n"
     ]
    },
    {
     "name": "stdin",
     "output_type": "stream",
     "text": [
      " 80\n"
     ]
    },
    {
     "name": "stdout",
     "output_type": "stream",
     "text": [
      "숫자가 너무 큽니다.\n"
     ]
    },
    {
     "name": "stdin",
     "output_type": "stream",
     "text": [
      " 75\n"
     ]
    },
    {
     "name": "stdout",
     "output_type": "stream",
     "text": [
      "숫자가 너무 큽니다.\n"
     ]
    },
    {
     "name": "stdin",
     "output_type": "stream",
     "text": [
      " 74\n"
     ]
    },
    {
     "name": "stdout",
     "output_type": "stream",
     "text": [
      "숫자가 너무 큽니다.\n"
     ]
    },
    {
     "name": "stdin",
     "output_type": "stream",
     "text": [
      " 73\n"
     ]
    },
    {
     "name": "stdout",
     "output_type": "stream",
     "text": [
      "숫자가 너무 큽니다.\n"
     ]
    },
    {
     "name": "stdin",
     "output_type": "stream",
     "text": [
      " 72\n"
     ]
    },
    {
     "name": "stdout",
     "output_type": "stream",
     "text": [
      "숫자가 너무 큽니다.\n"
     ]
    },
    {
     "name": "stdin",
     "output_type": "stream",
     "text": [
      " 71\n"
     ]
    },
    {
     "name": "stdout",
     "output_type": "stream",
     "text": [
      "정답\n"
     ]
    }
   ],
   "source": [
    "# 가변 중첩 반복문 (랜덤 숫자 맞추기)\n",
    "import random\n",
    "guess_number = random.randint(1,100)\n",
    "print(\"숫자를 맞춰보세요. (1~100)\")\n",
    "users_input = int(input())\n",
    "while True :\n",
    "    if users_input > guess_number :\n",
    "        print(\"숫자가 너무 큽니다.\")\n",
    "    elif users_input < guess_number :\n",
    "        print(\"숫자가 너무 작습니다.\")\n",
    "    else :\n",
    "        print(\"정답\")\n",
    "        break\n",
    "    users_input = int(input())"
   ]
  },
  {
   "cell_type": "code",
   "execution_count": 58,
   "id": "07a0d905-5c8c-44ee-83f6-f30bac3d34e2",
   "metadata": {},
   "outputs": [
    {
     "name": "stdin",
     "output_type": "stream",
     "text": [
      " 10\n"
     ]
    },
    {
     "name": "stdout",
     "output_type": "stream",
     "text": [
      "X\n"
     ]
    },
    {
     "name": "stdin",
     "output_type": "stream",
     "text": [
      " 11\n"
     ]
    },
    {
     "name": "stdout",
     "output_type": "stream",
     "text": [
      "X\n"
     ]
    },
    {
     "name": "stdin",
     "output_type": "stream",
     "text": [
      " 12\n"
     ]
    },
    {
     "name": "stdout",
     "output_type": "stream",
     "text": [
      "X\n"
     ]
    },
    {
     "name": "stdin",
     "output_type": "stream",
     "text": [
      " 9\n"
     ]
    },
    {
     "name": "stdout",
     "output_type": "stream",
     "text": [
      "9 X 1 = 9\n",
      "9 X 2 = 18\n",
      "9 X 3 = 27\n",
      "9 X 4 = 36\n",
      "9 X 5 = 45\n",
      "9 X 6 = 54\n",
      "9 X 7 = 63\n",
      "9 X 8 = 72\n",
      "9 X 9 = 81\n"
     ]
    },
    {
     "name": "stdin",
     "output_type": "stream",
     "text": [
      " 4\n"
     ]
    },
    {
     "name": "stdout",
     "output_type": "stream",
     "text": [
      "4 X 1 = 4\n",
      "4 X 2 = 8\n",
      "4 X 3 = 12\n",
      "4 X 4 = 16\n",
      "4 X 5 = 20\n",
      "4 X 6 = 24\n",
      "4 X 7 = 28\n",
      "4 X 8 = 32\n",
      "4 X 9 = 36\n"
     ]
    },
    {
     "name": "stdin",
     "output_type": "stream",
     "text": [
      " 2\n"
     ]
    },
    {
     "name": "stdout",
     "output_type": "stream",
     "text": [
      "2 X 1 = 2\n",
      "2 X 2 = 4\n",
      "2 X 3 = 6\n",
      "2 X 4 = 8\n",
      "2 X 5 = 10\n",
      "2 X 6 = 12\n",
      "2 X 7 = 14\n",
      "2 X 8 = 16\n",
      "2 X 9 = 18\n"
     ]
    },
    {
     "name": "stdin",
     "output_type": "stream",
     "text": [
      " 1\n"
     ]
    },
    {
     "name": "stdout",
     "output_type": "stream",
     "text": [
      "1 X 1 = 1\n",
      "1 X 2 = 2\n",
      "1 X 3 = 3\n",
      "1 X 4 = 4\n",
      "1 X 5 = 5\n",
      "1 X 6 = 6\n",
      "1 X 7 = 7\n",
      "1 X 8 = 8\n",
      "1 X 9 = 9\n"
     ]
    },
    {
     "name": "stdin",
     "output_type": "stream",
     "text": [
      " -1\n"
     ]
    },
    {
     "name": "stdout",
     "output_type": "stream",
     "text": [
      "X\n"
     ]
    },
    {
     "name": "stdin",
     "output_type": "stream",
     "text": [
      " 0\n"
     ]
    }
   ],
   "source": [
    "# 1 ~ 9입력받아 구구단 출력, 0 입력 시 종료\n",
    "\n",
    "input_number = int(input())\n",
    "while input_number != 0:\n",
    "    if input_number > 9 or input_number < 0 :\n",
    "        print('X')\n",
    "    else:\n",
    "        for i in range(1,10) :\n",
    "            print(f'{input_number} X {i} = {input_number * i}')\n",
    "    input_number = int(input())"
   ]
  },
  {
   "cell_type": "code",
   "execution_count": 63,
   "id": "adedbd54-1c3f-4d06-86be-e93be5d146b7",
   "metadata": {},
   "outputs": [
    {
     "name": "stdout",
     "output_type": "stream",
     "text": [
      "47.0\n",
      "72.3\n",
      "51.0\n",
      "63.3\n",
      "90.0\n"
     ]
    }
   ],
   "source": [
    "# 사람별 평균\n",
    "kor_score = [49,79,20,100,80]\n",
    "math_score = [43,59,85,30,90]\n",
    "eng_score = [49,79,48,60,100]\n",
    "midterm_score = [kor_score, math_score, eng_score]\n",
    "\n",
    "for i in range(len(kor_score)) :\n",
    "    byperson = 0\n",
    "\n",
    "    byperson += midterm_score[0][i]\n",
    "    byperson += midterm_score[1][i]\n",
    "    byperson += midterm_score[2][i]\n",
    "    \n",
    "    print(f'{byperson / 3:.1f}')"
   ]
  },
  {
   "cell_type": "markdown",
   "id": "447a2fa4-1287-4bf7-8499-6aaca1c972d9",
   "metadata": {},
   "source": [
    "# Debugging (디버깅)"
   ]
  },
  {
   "cell_type": "markdown",
   "id": "ca6fff1c-a125-4fc6-9029-69bcbc4c4ad6",
   "metadata": {},
   "source": [
    "- 코드의 오류를 발견하여 수정하는 과정\n",
    "- 오류의 '원인'을 알고 '해결책'을 찾아야 함\n",
    "- 문법적 에러를 찾기 위한 에러 메세지 분석\n",
    "- 논리적 에러를 찾기 위한 테스트도 중요"
   ]
  },
  {
   "cell_type": "code",
   "execution_count": null,
   "id": "ea086b00-0204-4923-b705-ef81dad7f11c",
   "metadata": {},
   "outputs": [],
   "source": []
  }
 ],
 "metadata": {
  "kernelspec": {
   "display_name": "Python 3 (ipykernel)",
   "language": "python",
   "name": "python3"
  },
  "language_info": {
   "codemirror_mode": {
    "name": "ipython",
    "version": 3
   },
   "file_extension": ".py",
   "mimetype": "text/x-python",
   "name": "python",
   "nbconvert_exporter": "python",
   "pygments_lexer": "ipython3",
   "version": "3.8.12"
  }
 },
 "nbformat": 4,
 "nbformat_minor": 5
}
